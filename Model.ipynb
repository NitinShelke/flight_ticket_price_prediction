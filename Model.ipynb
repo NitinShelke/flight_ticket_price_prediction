{
 "cells": [
  {
   "cell_type": "markdown",
   "id": "8a9ae35d",
   "metadata": {},
   "source": [
    "# import the libraries"
   ]
  },
  {
   "cell_type": "code",
   "execution_count": 15,
   "id": "5410553a",
   "metadata": {},
   "outputs": [],
   "source": [
    "import pandas as pd\n",
    "import numpy as np\n",
    "\n",
    "import warnings\n",
    "warnings.filterwarnings(\"ignore\")\n",
    "\n",
    "import seaborn as sns\n",
    "from matplotlib import pyplot as plt\n",
    "\n",
    "from sklearn.model_selection import train_test_split,RandomizedSearchCV\n",
    "from sklearn.metrics import r2_score,mean_squared_error\n",
    "\n",
    "sns.set_style(\"darkgrid\")\n",
    "%matplotlib inline"
   ]
  },
  {
   "cell_type": "markdown",
   "id": "01ed9499",
   "metadata": {},
   "source": [
    "# read the data"
   ]
  },
  {
   "cell_type": "code",
   "execution_count": 16,
   "id": "0280c0a7",
   "metadata": {},
   "outputs": [],
   "source": [
    "train=pd.read_csv(\"train.csv\")"
   ]
  },
  {
   "cell_type": "markdown",
   "id": "2f6b0be4",
   "metadata": {},
   "source": [
    "# EDA"
   ]
  },
  {
   "cell_type": "code",
   "execution_count": 17,
   "id": "2b8f9a4a",
   "metadata": {},
   "outputs": [
    {
     "name": "stdout",
     "output_type": "stream",
     "text": [
      "<class 'pandas.core.frame.DataFrame'>\n",
      "RangeIndex: 209673 entries, 0 to 209672\n",
      "Data columns (total 8 columns):\n",
      " #   Column              Non-Null Count   Dtype  \n",
      "---  ------              --------------   -----  \n",
      " 0   trip_duration       209673 non-null  float64\n",
      " 1   distance_traveled   209673 non-null  float64\n",
      " 2   num_of_passengers   209673 non-null  float64\n",
      " 3   fare                209673 non-null  float64\n",
      " 4   tip                 209673 non-null  int64  \n",
      " 5   miscellaneous_fees  209673 non-null  float64\n",
      " 6   total_fare          209673 non-null  float64\n",
      " 7   surge_applied       209673 non-null  int64  \n",
      "dtypes: float64(6), int64(2)\n",
      "memory usage: 12.8 MB\n"
     ]
    }
   ],
   "source": [
    "train.info()"
   ]
  },
  {
   "cell_type": "raw",
   "id": "1d04e2ee",
   "metadata": {},
   "source": [
    "Observations:-\n",
    "    1. total number of features:8 . all are numeric\n",
    "    2. total_fare is target feature\n",
    "        "
   ]
  },
  {
   "cell_type": "code",
   "execution_count": 18,
   "id": "7ae68cf1",
   "metadata": {},
   "outputs": [
    {
     "data": {
      "text/plain": [
       "4325"
      ]
     },
     "execution_count": 18,
     "metadata": {},
     "output_type": "execute_result"
    }
   ],
   "source": [
    "train.duplicated().sum()"
   ]
  },
  {
   "cell_type": "code",
   "execution_count": 19,
   "id": "b66f9003",
   "metadata": {},
   "outputs": [],
   "source": [
    "train.drop_duplicates(keep='first',ignore_index=True,inplace=True)"
   ]
  },
  {
   "cell_type": "code",
   "execution_count": 20,
   "id": "0d428358",
   "metadata": {},
   "outputs": [
    {
     "data": {
      "text/plain": [
       "trip_duration         0\n",
       "distance_traveled     0\n",
       "num_of_passengers     0\n",
       "fare                  0\n",
       "tip                   0\n",
       "miscellaneous_fees    0\n",
       "total_fare            0\n",
       "surge_applied         0\n",
       "dtype: int64"
      ]
     },
     "execution_count": 20,
     "metadata": {},
     "output_type": "execute_result"
    }
   ],
   "source": [
    "train.isna().sum()"
   ]
  },
  {
   "cell_type": "code",
   "execution_count": 21,
   "id": "270052ca",
   "metadata": {},
   "outputs": [
    {
     "data": {
      "text/html": [
       "<style type=\"text/css\">\n",
       "#T_16745_row0_col0 {\n",
       "  background-color: #78abd0;\n",
       "  color: #f1f1f1;\n",
       "}\n",
       "#T_16745_row0_col1 {\n",
       "  background-color: #dfddec;\n",
       "  color: #000000;\n",
       "}\n",
       "#T_16745_row0_col2, #T_16745_row0_col5, #T_16745_row0_col7, #T_16745_row1_col2, #T_16745_row1_col7, #T_16745_row2_col2, #T_16745_row2_col4, #T_16745_row3_col4, #T_16745_row3_col7, #T_16745_row4_col0, #T_16745_row4_col1, #T_16745_row4_col2, #T_16745_row4_col3, #T_16745_row4_col6, #T_16745_row4_col7 {\n",
       "  background-color: #fff7fb;\n",
       "  color: #000000;\n",
       "}\n",
       "#T_16745_row0_col3, #T_16745_row4_col4 {\n",
       "  background-color: #73a9cf;\n",
       "  color: #f1f1f1;\n",
       "}\n",
       "#T_16745_row0_col4, #T_16745_row1_col0, #T_16745_row1_col3, #T_16745_row1_col4, #T_16745_row1_col6, #T_16745_row2_col5, #T_16745_row2_col7, #T_16745_row3_col1, #T_16745_row3_col2 {\n",
       "  background-color: #023858;\n",
       "  color: #f1f1f1;\n",
       "}\n",
       "#T_16745_row0_col6 {\n",
       "  background-color: #79abd0;\n",
       "  color: #f1f1f1;\n",
       "}\n",
       "#T_16745_row1_col1 {\n",
       "  background-color: #a5bddb;\n",
       "  color: #000000;\n",
       "}\n",
       "#T_16745_row1_col5, #T_16745_row4_col5 {\n",
       "  background-color: #b3c3de;\n",
       "  color: #000000;\n",
       "}\n",
       "#T_16745_row2_col0 {\n",
       "  background-color: #81aed2;\n",
       "  color: #f1f1f1;\n",
       "}\n",
       "#T_16745_row2_col1 {\n",
       "  background-color: #c2cbe2;\n",
       "  color: #000000;\n",
       "}\n",
       "#T_16745_row2_col3 {\n",
       "  background-color: #8cb3d5;\n",
       "  color: #000000;\n",
       "}\n",
       "#T_16745_row2_col6 {\n",
       "  background-color: #a2bcda;\n",
       "  color: #000000;\n",
       "}\n",
       "#T_16745_row3_col0 {\n",
       "  background-color: #9cb9d9;\n",
       "  color: #000000;\n",
       "}\n",
       "#T_16745_row3_col3 {\n",
       "  background-color: #056faf;\n",
       "  color: #f1f1f1;\n",
       "}\n",
       "#T_16745_row3_col5 {\n",
       "  background-color: #e2dfee;\n",
       "  color: #000000;\n",
       "}\n",
       "#T_16745_row3_col6 {\n",
       "  background-color: #97b7d7;\n",
       "  color: #000000;\n",
       "}\n",
       "</style>\n",
       "<table id=\"T_16745\">\n",
       "  <thead>\n",
       "    <tr>\n",
       "      <th class=\"blank level0\" >&nbsp;</th>\n",
       "      <th id=\"T_16745_level0_col0\" class=\"col_heading level0 col0\" >trip_duration</th>\n",
       "      <th id=\"T_16745_level0_col1\" class=\"col_heading level0 col1\" >distance_traveled</th>\n",
       "      <th id=\"T_16745_level0_col2\" class=\"col_heading level0 col2\" >num_of_passengers</th>\n",
       "      <th id=\"T_16745_level0_col3\" class=\"col_heading level0 col3\" >fare</th>\n",
       "      <th id=\"T_16745_level0_col4\" class=\"col_heading level0 col4\" >tip</th>\n",
       "      <th id=\"T_16745_level0_col5\" class=\"col_heading level0 col5\" >miscellaneous_fees</th>\n",
       "      <th id=\"T_16745_level0_col6\" class=\"col_heading level0 col6\" >total_fare</th>\n",
       "      <th id=\"T_16745_level0_col7\" class=\"col_heading level0 col7\" >surge_applied</th>\n",
       "    </tr>\n",
       "  </thead>\n",
       "  <tbody>\n",
       "    <tr>\n",
       "      <th id=\"T_16745_level0_row0\" class=\"row_heading level0 row0\" >0</th>\n",
       "      <td id=\"T_16745_row0_col0\" class=\"data row0 col0\" >748.000000</td>\n",
       "      <td id=\"T_16745_row0_col1\" class=\"data row0 col1\" >2.750000</td>\n",
       "      <td id=\"T_16745_row0_col2\" class=\"data row0 col2\" >1.000000</td>\n",
       "      <td id=\"T_16745_row0_col3\" class=\"data row0 col3\" >75.000000</td>\n",
       "      <td id=\"T_16745_row0_col4\" class=\"data row0 col4\" >24</td>\n",
       "      <td id=\"T_16745_row0_col5\" class=\"data row0 col5\" >6.300000</td>\n",
       "      <td id=\"T_16745_row0_col6\" class=\"data row0 col6\" >105.300000</td>\n",
       "      <td id=\"T_16745_row0_col7\" class=\"data row0 col7\" >0</td>\n",
       "    </tr>\n",
       "    <tr>\n",
       "      <th id=\"T_16745_level0_row1\" class=\"row_heading level0 row1\" >1</th>\n",
       "      <td id=\"T_16745_row1_col0\" class=\"data row1 col0\" >1187.000000</td>\n",
       "      <td id=\"T_16745_row1_col1\" class=\"data row1 col1\" >3.430000</td>\n",
       "      <td id=\"T_16745_row1_col2\" class=\"data row1 col2\" >1.000000</td>\n",
       "      <td id=\"T_16745_row1_col3\" class=\"data row1 col3\" >105.000000</td>\n",
       "      <td id=\"T_16745_row1_col4\" class=\"data row1 col4\" >24</td>\n",
       "      <td id=\"T_16745_row1_col5\" class=\"data row1 col5\" >13.200000</td>\n",
       "      <td id=\"T_16745_row1_col6\" class=\"data row1 col6\" >142.200000</td>\n",
       "      <td id=\"T_16745_row1_col7\" class=\"data row1 col7\" >0</td>\n",
       "    </tr>\n",
       "    <tr>\n",
       "      <th id=\"T_16745_level0_row2\" class=\"row_heading level0 row2\" >2</th>\n",
       "      <td id=\"T_16745_row2_col0\" class=\"data row2 col0\" >730.000000</td>\n",
       "      <td id=\"T_16745_row2_col1\" class=\"data row2 col1\" >3.120000</td>\n",
       "      <td id=\"T_16745_row2_col2\" class=\"data row2 col2\" >1.000000</td>\n",
       "      <td id=\"T_16745_row2_col3\" class=\"data row2 col3\" >71.250000</td>\n",
       "      <td id=\"T_16745_row2_col4\" class=\"data row2 col4\" >0</td>\n",
       "      <td id=\"T_16745_row2_col5\" class=\"data row2 col5\" >26.625000</td>\n",
       "      <td id=\"T_16745_row2_col6\" class=\"data row2 col6\" >97.875000</td>\n",
       "      <td id=\"T_16745_row2_col7\" class=\"data row2 col7\" >1</td>\n",
       "    </tr>\n",
       "    <tr>\n",
       "      <th id=\"T_16745_level0_row3\" class=\"row_heading level0 row3\" >3</th>\n",
       "      <td id=\"T_16745_row3_col0\" class=\"data row3 col0\" >671.000000</td>\n",
       "      <td id=\"T_16745_row3_col1\" class=\"data row3 col1\" >5.630000</td>\n",
       "      <td id=\"T_16745_row3_col2\" class=\"data row3 col2\" >3.000000</td>\n",
       "      <td id=\"T_16745_row3_col3\" class=\"data row3 col3\" >90.000000</td>\n",
       "      <td id=\"T_16745_row3_col4\" class=\"data row3 col4\" >0</td>\n",
       "      <td id=\"T_16745_row3_col5\" class=\"data row3 col5\" >9.750000</td>\n",
       "      <td id=\"T_16745_row3_col6\" class=\"data row3 col6\" >99.750000</td>\n",
       "      <td id=\"T_16745_row3_col7\" class=\"data row3 col7\" >0</td>\n",
       "    </tr>\n",
       "    <tr>\n",
       "      <th id=\"T_16745_level0_row4\" class=\"row_heading level0 row4\" >4</th>\n",
       "      <td id=\"T_16745_row4_col0\" class=\"data row4 col0\" >329.000000</td>\n",
       "      <td id=\"T_16745_row4_col1\" class=\"data row4 col1\" >2.090000</td>\n",
       "      <td id=\"T_16745_row4_col2\" class=\"data row4 col2\" >1.000000</td>\n",
       "      <td id=\"T_16745_row4_col3\" class=\"data row4 col3\" >45.000000</td>\n",
       "      <td id=\"T_16745_row4_col4\" class=\"data row4 col4\" >12</td>\n",
       "      <td id=\"T_16745_row4_col5\" class=\"data row4 col5\" >13.200000</td>\n",
       "      <td id=\"T_16745_row4_col6\" class=\"data row4 col6\" >70.200000</td>\n",
       "      <td id=\"T_16745_row4_col7\" class=\"data row4 col7\" >0</td>\n",
       "    </tr>\n",
       "  </tbody>\n",
       "</table>\n"
      ],
      "text/plain": [
       "<pandas.io.formats.style.Styler at 0x277dd2fa260>"
      ]
     },
     "execution_count": 21,
     "metadata": {},
     "output_type": "execute_result"
    }
   ],
   "source": [
    "train.head().style.background_gradient()"
   ]
  },
  {
   "cell_type": "code",
   "execution_count": 22,
   "id": "b8cd5848",
   "metadata": {},
   "outputs": [
    {
     "data": {
      "text/html": [
       "<style type=\"text/css\">\n",
       "#T_c82d7_row0_col0 {\n",
       "  background-color: #a7bddb;\n",
       "  color: #000000;\n",
       "}\n",
       "#T_c82d7_row0_col1 {\n",
       "  background-color: #d7d5e8;\n",
       "  color: #000000;\n",
       "}\n",
       "#T_c82d7_row0_col2, #T_c82d7_row0_col7, #T_c82d7_row1_col0, #T_c82d7_row1_col1, #T_c82d7_row1_col2, #T_c82d7_row1_col3, #T_c82d7_row2_col2, #T_c82d7_row2_col4, #T_c82d7_row2_col6, #T_c82d7_row2_col7, #T_c82d7_row3_col2, #T_c82d7_row3_col4, #T_c82d7_row3_col6, #T_c82d7_row3_col7, #T_c82d7_row4_col2, #T_c82d7_row4_col4, #T_c82d7_row4_col5, #T_c82d7_row4_col7 {\n",
       "  background-color: #fff7fb;\n",
       "  color: #000000;\n",
       "}\n",
       "#T_c82d7_row0_col3, #T_c82d7_row3_col5 {\n",
       "  background-color: #afc1dd;\n",
       "  color: #000000;\n",
       "}\n",
       "#T_c82d7_row0_col4, #T_c82d7_row1_col5, #T_c82d7_row1_col7, #T_c82d7_row4_col0, #T_c82d7_row4_col1, #T_c82d7_row4_col3, #T_c82d7_row4_col6 {\n",
       "  background-color: #014636;\n",
       "  color: #f1f1f1;\n",
       "}\n",
       "#T_c82d7_row0_col5 {\n",
       "  background-color: #eee5f1;\n",
       "  color: #000000;\n",
       "}\n",
       "#T_c82d7_row0_col6 {\n",
       "  background-color: #6aaad0;\n",
       "  color: #f1f1f1;\n",
       "}\n",
       "#T_c82d7_row1_col4 {\n",
       "  background-color: #ced0e6;\n",
       "  color: #000000;\n",
       "}\n",
       "#T_c82d7_row1_col6 {\n",
       "  background-color: #f1e7f3;\n",
       "  color: #000000;\n",
       "}\n",
       "#T_c82d7_row2_col0 {\n",
       "  background-color: #f9f0f8;\n",
       "  color: #000000;\n",
       "}\n",
       "#T_c82d7_row2_col1 {\n",
       "  background-color: #f8eff7;\n",
       "  color: #000000;\n",
       "}\n",
       "#T_c82d7_row2_col3 {\n",
       "  background-color: #f7eef7;\n",
       "  color: #000000;\n",
       "}\n",
       "#T_c82d7_row2_col5 {\n",
       "  background-color: #eee4f1;\n",
       "  color: #000000;\n",
       "}\n",
       "#T_c82d7_row3_col0 {\n",
       "  background-color: #fdf4fa;\n",
       "  color: #000000;\n",
       "}\n",
       "#T_c82d7_row3_col1, #T_c82d7_row3_col3 {\n",
       "  background-color: #fbf3f9;\n",
       "  color: #000000;\n",
       "}\n",
       "</style>\n",
       "<table id=\"T_c82d7\">\n",
       "  <thead>\n",
       "    <tr>\n",
       "      <th class=\"blank level0\" >&nbsp;</th>\n",
       "      <th id=\"T_c82d7_level0_col0\" class=\"col_heading level0 col0\" >trip_duration</th>\n",
       "      <th id=\"T_c82d7_level0_col1\" class=\"col_heading level0 col1\" >distance_traveled</th>\n",
       "      <th id=\"T_c82d7_level0_col2\" class=\"col_heading level0 col2\" >num_of_passengers</th>\n",
       "      <th id=\"T_c82d7_level0_col3\" class=\"col_heading level0 col3\" >fare</th>\n",
       "      <th id=\"T_c82d7_level0_col4\" class=\"col_heading level0 col4\" >tip</th>\n",
       "      <th id=\"T_c82d7_level0_col5\" class=\"col_heading level0 col5\" >miscellaneous_fees</th>\n",
       "      <th id=\"T_c82d7_level0_col6\" class=\"col_heading level0 col6\" >total_fare</th>\n",
       "      <th id=\"T_c82d7_level0_col7\" class=\"col_heading level0 col7\" >surge_applied</th>\n",
       "    </tr>\n",
       "  </thead>\n",
       "  <tbody>\n",
       "    <tr>\n",
       "      <th id=\"T_c82d7_level0_row0\" class=\"row_heading level0 row0\" >205343</th>\n",
       "      <td id=\"T_c82d7_row0_col0\" class=\"data row0 col0\" >1617.000000</td>\n",
       "      <td id=\"T_c82d7_row0_col1\" class=\"data row0 col1\" >8.420000</td>\n",
       "      <td id=\"T_c82d7_row0_col2\" class=\"data row0 col2\" >1.000000</td>\n",
       "      <td id=\"T_c82d7_row0_col3\" class=\"data row0 col3\" >150.000000</td>\n",
       "      <td id=\"T_c82d7_row0_col4\" class=\"data row0 col4\" >47</td>\n",
       "      <td id=\"T_c82d7_row0_col5\" class=\"data row0 col5\" >5.800000</td>\n",
       "      <td id=\"T_c82d7_row0_col6\" class=\"data row0 col6\" >202.800000</td>\n",
       "      <td id=\"T_c82d7_row0_col7\" class=\"data row0 col7\" >0</td>\n",
       "    </tr>\n",
       "    <tr>\n",
       "      <th id=\"T_c82d7_level0_row1\" class=\"row_heading level0 row1\" >205344</th>\n",
       "      <td id=\"T_c82d7_row1_col0\" class=\"data row1 col0\" >438.000000</td>\n",
       "      <td id=\"T_c82d7_row1_col1\" class=\"data row1 col1\" >1.290000</td>\n",
       "      <td id=\"T_c82d7_row1_col2\" class=\"data row1 col2\" >1.000000</td>\n",
       "      <td id=\"T_c82d7_row1_col3\" class=\"data row1 col3\" >48.750000</td>\n",
       "      <td id=\"T_c82d7_row1_col4\" class=\"data row1 col4\" >12</td>\n",
       "      <td id=\"T_c82d7_row1_col5\" class=\"data row1 col5\" >34.575000</td>\n",
       "      <td id=\"T_c82d7_row1_col6\" class=\"data row1 col6\" >95.325000</td>\n",
       "      <td id=\"T_c82d7_row1_col7\" class=\"data row1 col7\" >1</td>\n",
       "    </tr>\n",
       "    <tr>\n",
       "      <th id=\"T_c82d7_level0_row2\" class=\"row_heading level0 row2\" >205345</th>\n",
       "      <td id=\"T_c82d7_row2_col0\" class=\"data row2 col0\" >571.000000</td>\n",
       "      <td id=\"T_c82d7_row2_col1\" class=\"data row2 col1\" >2.820000</td>\n",
       "      <td id=\"T_c82d7_row2_col2\" class=\"data row2 col2\" >1.000000</td>\n",
       "      <td id=\"T_c82d7_row2_col3\" class=\"data row2 col3\" >63.750000</td>\n",
       "      <td id=\"T_c82d7_row2_col4\" class=\"data row2 col4\" >0</td>\n",
       "      <td id=\"T_c82d7_row2_col5\" class=\"data row2 col5\" >6.000000</td>\n",
       "      <td id=\"T_c82d7_row2_col6\" class=\"data row2 col6\" >69.750000</td>\n",
       "      <td id=\"T_c82d7_row2_col7\" class=\"data row2 col7\" >0</td>\n",
       "    </tr>\n",
       "    <tr>\n",
       "      <th id=\"T_c82d7_level0_row3\" class=\"row_heading level0 row3\" >205346</th>\n",
       "      <td id=\"T_c82d7_row3_col0\" class=\"data row3 col0\" >491.000000</td>\n",
       "      <td id=\"T_c82d7_row3_col1\" class=\"data row3 col1\" >2.160000</td>\n",
       "      <td id=\"T_c82d7_row3_col2\" class=\"data row3 col2\" >1.000000</td>\n",
       "      <td id=\"T_c82d7_row3_col3\" class=\"data row3 col3\" >56.250000</td>\n",
       "      <td id=\"T_c82d7_row3_col4\" class=\"data row3 col4\" >0</td>\n",
       "      <td id=\"T_c82d7_row3_col5\" class=\"data row3 col5\" >13.500000</td>\n",
       "      <td id=\"T_c82d7_row3_col6\" class=\"data row3 col6\" >69.750000</td>\n",
       "      <td id=\"T_c82d7_row3_col7\" class=\"data row3 col7\" >0</td>\n",
       "    </tr>\n",
       "    <tr>\n",
       "      <th id=\"T_c82d7_level0_row4\" class=\"row_heading level0 row4\" >205347</th>\n",
       "      <td id=\"T_c82d7_row4_col0\" class=\"data row4 col0\" >3614.000000</td>\n",
       "      <td id=\"T_c82d7_row4_col1\" class=\"data row4 col1\" >33.720000</td>\n",
       "      <td id=\"T_c82d7_row4_col2\" class=\"data row4 col2\" >1.000000</td>\n",
       "      <td id=\"T_c82d7_row4_col3\" class=\"data row4 col3\" >337.500000</td>\n",
       "      <td id=\"T_c82d7_row4_col4\" class=\"data row4 col4\" >0</td>\n",
       "      <td id=\"T_c82d7_row4_col5\" class=\"data row4 col5\" >2.250000</td>\n",
       "      <td id=\"T_c82d7_row4_col6\" class=\"data row4 col6\" >339.750000</td>\n",
       "      <td id=\"T_c82d7_row4_col7\" class=\"data row4 col7\" >0</td>\n",
       "    </tr>\n",
       "  </tbody>\n",
       "</table>\n"
      ],
      "text/plain": [
       "<pandas.io.formats.style.Styler at 0x277bb9b5b70>"
      ]
     },
     "execution_count": 22,
     "metadata": {},
     "output_type": "execute_result"
    }
   ],
   "source": [
    "train.tail().style.background_gradient(cmap='PuBuGn')"
   ]
  },
  {
   "cell_type": "code",
   "execution_count": 23,
   "id": "9c5ad301",
   "metadata": {},
   "outputs": [],
   "source": [
    "X=train.drop(['fare','tip','total_fare'],axis=1)\n",
    "y=train['fare']"
   ]
  },
  {
   "cell_type": "code",
   "execution_count": 24,
   "id": "d6ca223a",
   "metadata": {},
   "outputs": [
    {
     "data": {
      "text/plain": [
       "<AxesSubplot: >"
      ]
     },
     "execution_count": 24,
     "metadata": {},
     "output_type": "execute_result"
    },
    {
     "data": {
      "image/png": "[encoded data removed]",
      "text/plain": [
       "<Figure size 576x288 with 2 Axes>"
      ]
     },
     "metadata": {
      "needs_background": "light"
     },
     "output_type": "display_data"
    }
   ],
   "source": [
    "plt.figure(figsize=(8,4))\n",
    "sns.heatmap(X.corr(),annot=True,cmap='PuBu')"
   ]
  },
  {
   "cell_type": "code",
   "execution_count": 25,
   "id": "18ee2dda",
   "metadata": {},
   "outputs": [],
   "source": [
    "from statsmodels.stats.outliers_influence import variance_inflation_factor"
   ]
  },
  {
   "cell_type": "code",
   "execution_count": 26,
   "id": "70eec762",
   "metadata": {},
   "outputs": [],
   "source": [
    "vif=pd.DataFrame(index=X.columns)\n",
    "vif['vif']=[variance_inflation_factor(X.values,i) for i in range(X.shape[1])]\n",
    "vif=vif.sort_values(by='vif',ascending=False)"
   ]
  },
  {
   "cell_type": "code",
   "execution_count": 27,
   "id": "cb870924",
   "metadata": {},
   "outputs": [
    {
     "data": {
      "text/html": [
       "<style type=\"text/css\">\n",
       "#T_0a316_row0_col0 {\n",
       "  background-color: #023858;\n",
       "  color: #f1f1f1;\n",
       "}\n",
       "#T_0a316_row1_col0 {\n",
       "  background-color: #2d8abd;\n",
       "  color: #f1f1f1;\n",
       "}\n",
       "#T_0a316_row2_col0 {\n",
       "  background-color: #d1d2e6;\n",
       "  color: #000000;\n",
       "}\n",
       "#T_0a316_row3_col0 {\n",
       "  background-color: #fdf5fa;\n",
       "  color: #000000;\n",
       "}\n",
       "#T_0a316_row4_col0 {\n",
       "  background-color: #fff7fb;\n",
       "  color: #000000;\n",
       "}\n",
       "</style>\n",
       "<table id=\"T_0a316\">\n",
       "  <thead>\n",
       "    <tr>\n",
       "      <th class=\"blank level0\" >&nbsp;</th>\n",
       "      <th id=\"T_0a316_level0_col0\" class=\"col_heading level0 col0\" >vif</th>\n",
       "    </tr>\n",
       "  </thead>\n",
       "  <tbody>\n",
       "    <tr>\n",
       "      <th id=\"T_0a316_level0_row0\" class=\"row_heading level0 row0\" >miscellaneous_fees</th>\n",
       "      <td id=\"T_0a316_row0_col0\" class=\"data row0 col0\" >3.757033</td>\n",
       "    </tr>\n",
       "    <tr>\n",
       "      <th id=\"T_0a316_level0_row1\" class=\"row_heading level0 row1\" >surge_applied</th>\n",
       "      <td id=\"T_0a316_row1_col0\" class=\"data row1 col0\" >2.782965</td>\n",
       "    </tr>\n",
       "    <tr>\n",
       "      <th id=\"T_0a316_level0_row2\" class=\"row_heading level0 row2\" >num_of_passengers</th>\n",
       "      <td id=\"T_0a316_row2_col0\" class=\"data row2 col0\" >1.690004</td>\n",
       "    </tr>\n",
       "    <tr>\n",
       "      <th id=\"T_0a316_level0_row3\" class=\"row_heading level0 row3\" >trip_duration</th>\n",
       "      <td id=\"T_0a316_row3_col0\" class=\"data row3 col0\" >1.053988</td>\n",
       "    </tr>\n",
       "    <tr>\n",
       "      <th id=\"T_0a316_level0_row4\" class=\"row_heading level0 row4\" >distance_traveled</th>\n",
       "      <td id=\"T_0a316_row4_col0\" class=\"data row4 col0\" >1.002311</td>\n",
       "    </tr>\n",
       "  </tbody>\n",
       "</table>\n"
      ],
      "text/plain": [
       "<pandas.io.formats.style.Styler at 0x277dd49fd30>"
      ]
     },
     "execution_count": 27,
     "metadata": {},
     "output_type": "execute_result"
    }
   ],
   "source": [
    "vif.style.background_gradient()"
   ]
  },
  {
   "cell_type": "code",
   "execution_count": 28,
   "id": "932717dd",
   "metadata": {},
   "outputs": [
    {
     "data": {
      "text/html": [
       "<style type=\"text/css\">\n",
       "#T_4b2bb_row0_col0, #T_4b2bb_row0_col1, #T_4b2bb_row0_col2, #T_4b2bb_row0_col3, #T_4b2bb_row0_col4, #T_4b2bb_row0_col5, #T_4b2bb_row0_col6, #T_4b2bb_row0_col7 {\n",
       "  background-color: #2c3172;\n",
       "  color: #f1f1f1;\n",
       "}\n",
       "#T_4b2bb_row1_col0, #T_4b2bb_row6_col0 {\n",
       "  background-color: #a4cc90;\n",
       "  color: #000000;\n",
       "}\n",
       "#T_4b2bb_row1_col1, #T_4b2bb_row1_col2, #T_4b2bb_row1_col3, #T_4b2bb_row1_col4, #T_4b2bb_row1_col5, #T_4b2bb_row1_col6, #T_4b2bb_row1_col7, #T_4b2bb_row2_col1, #T_4b2bb_row2_col2, #T_4b2bb_row2_col3, #T_4b2bb_row2_col4, #T_4b2bb_row2_col5, #T_4b2bb_row2_col6, #T_4b2bb_row2_col7, #T_4b2bb_row3_col0, #T_4b2bb_row3_col1, #T_4b2bb_row3_col2, #T_4b2bb_row3_col3, #T_4b2bb_row3_col4, #T_4b2bb_row3_col5, #T_4b2bb_row3_col6, #T_4b2bb_row3_col7, #T_4b2bb_row4_col0, #T_4b2bb_row4_col1, #T_4b2bb_row4_col2, #T_4b2bb_row4_col3, #T_4b2bb_row4_col4, #T_4b2bb_row4_col5, #T_4b2bb_row4_col6, #T_4b2bb_row4_col7, #T_4b2bb_row5_col0, #T_4b2bb_row5_col1, #T_4b2bb_row5_col2, #T_4b2bb_row5_col3, #T_4b2bb_row5_col4, #T_4b2bb_row5_col5, #T_4b2bb_row5_col6, #T_4b2bb_row5_col7, #T_4b2bb_row6_col1, #T_4b2bb_row6_col2, #T_4b2bb_row6_col3, #T_4b2bb_row6_col4, #T_4b2bb_row6_col5, #T_4b2bb_row6_col6, #T_4b2bb_row6_col7, #T_4b2bb_row7_col2, #T_4b2bb_row7_col5, #T_4b2bb_row7_col7 {\n",
       "  background-color: #a5cd90;\n",
       "  color: #000000;\n",
       "}\n",
       "#T_4b2bb_row2_col0 {\n",
       "  background-color: #9eca91;\n",
       "  color: #000000;\n",
       "}\n",
       "#T_4b2bb_row7_col0 {\n",
       "  background-color: #41918f;\n",
       "  color: #f1f1f1;\n",
       "}\n",
       "#T_4b2bb_row7_col1 {\n",
       "  background-color: #5ba690;\n",
       "  color: #f1f1f1;\n",
       "}\n",
       "#T_4b2bb_row7_col3, #T_4b2bb_row7_col6 {\n",
       "  background-color: #9fca91;\n",
       "  color: #000000;\n",
       "}\n",
       "#T_4b2bb_row7_col4 {\n",
       "  background-color: #a2cb91;\n",
       "  color: #000000;\n",
       "}\n",
       "</style>\n",
       "<table id=\"T_4b2bb\">\n",
       "  <thead>\n",
       "    <tr>\n",
       "      <th class=\"blank level0\" >&nbsp;</th>\n",
       "      <th id=\"T_4b2bb_level0_col0\" class=\"col_heading level0 col0\" >trip_duration</th>\n",
       "      <th id=\"T_4b2bb_level0_col1\" class=\"col_heading level0 col1\" >distance_traveled</th>\n",
       "      <th id=\"T_4b2bb_level0_col2\" class=\"col_heading level0 col2\" >num_of_passengers</th>\n",
       "      <th id=\"T_4b2bb_level0_col3\" class=\"col_heading level0 col3\" >fare</th>\n",
       "      <th id=\"T_4b2bb_level0_col4\" class=\"col_heading level0 col4\" >tip</th>\n",
       "      <th id=\"T_4b2bb_level0_col5\" class=\"col_heading level0 col5\" >miscellaneous_fees</th>\n",
       "      <th id=\"T_4b2bb_level0_col6\" class=\"col_heading level0 col6\" >total_fare</th>\n",
       "      <th id=\"T_4b2bb_level0_col7\" class=\"col_heading level0 col7\" >surge_applied</th>\n",
       "    </tr>\n",
       "  </thead>\n",
       "  <tbody>\n",
       "    <tr>\n",
       "      <th id=\"T_4b2bb_level0_row0\" class=\"row_heading level0 row0\" >count</th>\n",
       "      <td id=\"T_4b2bb_row0_col0\" class=\"data row0 col0\" >205348.000000</td>\n",
       "      <td id=\"T_4b2bb_row0_col1\" class=\"data row0 col1\" >205348.000000</td>\n",
       "      <td id=\"T_4b2bb_row0_col2\" class=\"data row0 col2\" >205348.000000</td>\n",
       "      <td id=\"T_4b2bb_row0_col3\" class=\"data row0 col3\" >205348.000000</td>\n",
       "      <td id=\"T_4b2bb_row0_col4\" class=\"data row0 col4\" >205348.000000</td>\n",
       "      <td id=\"T_4b2bb_row0_col5\" class=\"data row0 col5\" >205348.000000</td>\n",
       "      <td id=\"T_4b2bb_row0_col6\" class=\"data row0 col6\" >205348.000000</td>\n",
       "      <td id=\"T_4b2bb_row0_col7\" class=\"data row0 col7\" >205348.000000</td>\n",
       "    </tr>\n",
       "    <tr>\n",
       "      <th id=\"T_4b2bb_level0_row1\" class=\"row_heading level0 row1\" >mean</th>\n",
       "      <td id=\"T_4b2bb_row1_col0\" class=\"data row1 col0\" >1189.102226</td>\n",
       "      <td id=\"T_4b2bb_row1_col1\" class=\"data row1 col1\" >5.123167</td>\n",
       "      <td id=\"T_4b2bb_row1_col2\" class=\"data row1 col2\" >1.298654</td>\n",
       "      <td id=\"T_4b2bb_row1_col3\" class=\"data row1 col3\" >100.656568</td>\n",
       "      <td id=\"T_4b2bb_row1_col4\" class=\"data row1 col4\" >13.247560</td>\n",
       "      <td id=\"T_4b2bb_row1_col5\" class=\"data row1 col5\" >15.294384</td>\n",
       "      <td id=\"T_4b2bb_row1_col6\" class=\"data row1 col6\" >129.198512</td>\n",
       "      <td id=\"T_4b2bb_row1_col7\" class=\"data row1 col7\" >0.285803</td>\n",
       "    </tr>\n",
       "    <tr>\n",
       "      <th id=\"T_4b2bb_level0_row2\" class=\"row_heading level0 row2\" >std</th>\n",
       "      <td id=\"T_4b2bb_row2_col0\" class=\"data row2 col0\" >4824.302160</td>\n",
       "      <td id=\"T_4b2bb_row2_col1\" class=\"data row2 col1\" >126.528223</td>\n",
       "      <td id=\"T_4b2bb_row2_col2\" class=\"data row2 col2\" >0.939258</td>\n",
       "      <td id=\"T_4b2bb_row2_col3\" class=\"data row2 col3\" >86.142902</td>\n",
       "      <td id=\"T_4b2bb_row2_col4\" class=\"data row2 col4\" >20.507879</td>\n",
       "      <td id=\"T_4b2bb_row2_col5\" class=\"data row2 col5\" >12.621609</td>\n",
       "      <td id=\"T_4b2bb_row2_col6\" class=\"data row2 col6\" >99.283531</td>\n",
       "      <td id=\"T_4b2bb_row2_col7\" class=\"data row2 col7\" >0.451797</td>\n",
       "    </tr>\n",
       "    <tr>\n",
       "      <th id=\"T_4b2bb_level0_row3\" class=\"row_heading level0 row3\" >min</th>\n",
       "      <td id=\"T_4b2bb_row3_col0\" class=\"data row3 col0\" >0.000000</td>\n",
       "      <td id=\"T_4b2bb_row3_col1\" class=\"data row3 col1\" >0.020000</td>\n",
       "      <td id=\"T_4b2bb_row3_col2\" class=\"data row3 col2\" >0.000000</td>\n",
       "      <td id=\"T_4b2bb_row3_col3\" class=\"data row3 col3\" >0.000000</td>\n",
       "      <td id=\"T_4b2bb_row3_col4\" class=\"data row3 col4\" >0.000000</td>\n",
       "      <td id=\"T_4b2bb_row3_col5\" class=\"data row3 col5\" >-0.500000</td>\n",
       "      <td id=\"T_4b2bb_row3_col6\" class=\"data row3 col6\" >0.000000</td>\n",
       "      <td id=\"T_4b2bb_row3_col7\" class=\"data row3 col7\" >0.000000</td>\n",
       "    </tr>\n",
       "    <tr>\n",
       "      <th id=\"T_4b2bb_level0_row4\" class=\"row_heading level0 row4\" >25%</th>\n",
       "      <td id=\"T_4b2bb_row4_col0\" class=\"data row4 col0\" >454.000000</td>\n",
       "      <td id=\"T_4b2bb_row4_col1\" class=\"data row4 col1\" >1.980000</td>\n",
       "      <td id=\"T_4b2bb_row4_col2\" class=\"data row4 col2\" >1.000000</td>\n",
       "      <td id=\"T_4b2bb_row4_col3\" class=\"data row4 col3\" >52.500000</td>\n",
       "      <td id=\"T_4b2bb_row4_col4\" class=\"data row4 col4\" >0.000000</td>\n",
       "      <td id=\"T_4b2bb_row4_col5\" class=\"data row4 col5\" >6.000000</td>\n",
       "      <td id=\"T_4b2bb_row4_col6\" class=\"data row4 col6\" >73.125000</td>\n",
       "      <td id=\"T_4b2bb_row4_col7\" class=\"data row4 col7\" >0.000000</td>\n",
       "    </tr>\n",
       "    <tr>\n",
       "      <th id=\"T_4b2bb_level0_row5\" class=\"row_heading level0 row5\" >50%</th>\n",
       "      <td id=\"T_4b2bb_row5_col0\" class=\"data row5 col0\" >716.000000</td>\n",
       "      <td id=\"T_4b2bb_row5_col1\" class=\"data row5 col1\" >3.250000</td>\n",
       "      <td id=\"T_4b2bb_row5_col2\" class=\"data row5 col2\" >1.000000</td>\n",
       "      <td id=\"T_4b2bb_row5_col3\" class=\"data row5 col3\" >78.750000</td>\n",
       "      <td id=\"T_4b2bb_row5_col4\" class=\"data row5 col4\" >9.000000</td>\n",
       "      <td id=\"T_4b2bb_row5_col5\" class=\"data row5 col5\" >9.750000</td>\n",
       "      <td id=\"T_4b2bb_row5_col6\" class=\"data row5 col6\" >103.500000</td>\n",
       "      <td id=\"T_4b2bb_row5_col7\" class=\"data row5 col7\" >0.000000</td>\n",
       "    </tr>\n",
       "    <tr>\n",
       "      <th id=\"T_4b2bb_level0_row6\" class=\"row_heading level0 row6\" >75%</th>\n",
       "      <td id=\"T_4b2bb_row6_col0\" class=\"data row6 col0\" >1110.000000</td>\n",
       "      <td id=\"T_4b2bb_row6_col1\" class=\"data row6 col1\" >5.810000</td>\n",
       "      <td id=\"T_4b2bb_row6_col2\" class=\"data row6 col2\" >1.000000</td>\n",
       "      <td id=\"T_4b2bb_row6_col3\" class=\"data row6 col3\" >116.250000</td>\n",
       "      <td id=\"T_4b2bb_row6_col4\" class=\"data row6 col4\" >20.000000</td>\n",
       "      <td id=\"T_4b2bb_row6_col5\" class=\"data row6 col5\" >26.525000</td>\n",
       "      <td id=\"T_4b2bb_row6_col6\" class=\"data row6 col6\" >153.450000</td>\n",
       "      <td id=\"T_4b2bb_row6_col7\" class=\"data row6 col7\" >1.000000</td>\n",
       "    </tr>\n",
       "    <tr>\n",
       "      <th id=\"T_4b2bb_level0_row7\" class=\"row_heading level0 row7\" >max</th>\n",
       "      <td id=\"T_4b2bb_row7_col0\" class=\"data row7 col0\" >86387.000000</td>\n",
       "      <td id=\"T_4b2bb_row7_col1\" class=\"data row7 col1\" >57283.910000</td>\n",
       "      <td id=\"T_4b2bb_row7_col2\" class=\"data row7 col2\" >9.000000</td>\n",
       "      <td id=\"T_4b2bb_row7_col3\" class=\"data row7 col3\" >4466.250000</td>\n",
       "      <td id=\"T_4b2bb_row7_col4\" class=\"data row7 col4\" >2500.000000</td>\n",
       "      <td id=\"T_4b2bb_row7_col5\" class=\"data row7 col5\" >435.000000</td>\n",
       "      <td id=\"T_4b2bb_row7_col6\" class=\"data row7 col6\" >4472.250000</td>\n",
       "      <td id=\"T_4b2bb_row7_col7\" class=\"data row7 col7\" >1.000000</td>\n",
       "    </tr>\n",
       "  </tbody>\n",
       "</table>\n"
      ],
      "text/plain": [
       "<pandas.io.formats.style.Styler at 0x277bb8cbe20>"
      ]
     },
     "execution_count": 28,
     "metadata": {},
     "output_type": "execute_result"
    }
   ],
   "source": [
    "train.describe().style.background_gradient(cmap='crest')"
   ]
  },
  {
   "cell_type": "code",
   "execution_count": 88,
   "id": "f372d19b",
   "metadata": {},
   "outputs": [
    {
     "data": {
      "image/png": "[encoded data removed]",
      "text/plain": [
       "<Figure size 1440x720 with 5 Axes>"
      ]
     },
     "metadata": {
      "needs_background": "light"
     },
     "output_type": "display_data"
    }
   ],
   "source": [
    "plt.figure(figsize=(20,10))\n",
    "col=list(X.columns)\n",
    "for i in range(len(col)):\n",
    "    plt.subplot(2,3,(i+1))\n",
    "    g=sns.distplot(train[col[i]])"
   ]
  },
  {
   "cell_type": "code",
   "execution_count": 29,
   "id": "9adec7b7",
   "metadata": {},
   "outputs": [],
   "source": [
    "def drop_outliers(df,col):\n",
    "    print(\"initial shape of dataframe={}\\n\".format(df.shape[0]))\n",
    "    q25,q75=np.percentile(df[col],25),np.percentile(df[col],75)\n",
    "    iqr=q75-q25\n",
    "    cut_off=iqr*1.5\n",
    "\n",
    "    lower_lim=q25-cut_off\n",
    "    uper_lim=q75+cut_off\n",
    "\n",
    "    outliers=[x for x in df[col] if x>uper_lim or x<lower_lim]\n",
    "\n",
    "    print(\"outliers identified for column {} are:{}\\n\".format(col,len(outliers)))\n",
    "    \n",
    "    df=df[~df[col].isin(outliers)]\n",
    "    print(\"After removing outliers, shape of dataframe={}\\n\".format(df.shape[0]))\n",
    "    \n",
    "    return df"
   ]
  },
  {
   "cell_type": "code",
   "execution_count": 101,
   "id": "1b0469fa",
   "metadata": {},
   "outputs": [
    {
     "data": {
      "text/html": [
       "<div>\n",
       "<style scoped>\n",
       "    .dataframe tbody tr th:only-of-type {\n",
       "        vertical-align: middle;\n",
       "    }\n",
       "\n",
       "    .dataframe tbody tr th {\n",
       "        vertical-align: top;\n",
       "    }\n",
       "\n",
       "    .dataframe thead th {\n",
       "        text-align: right;\n",
       "    }\n",
       "</style>\n",
       "<table border=\"1\" class=\"dataframe\">\n",
       "  <thead>\n",
       "    <tr style=\"text-align: right;\">\n",
       "      <th></th>\n",
       "      <th>trip_duration</th>\n",
       "      <th>distance_traveled</th>\n",
       "      <th>num_of_passengers</th>\n",
       "      <th>miscellaneous_fees</th>\n",
       "      <th>surge_applied</th>\n",
       "    </tr>\n",
       "  </thead>\n",
       "  <tbody>\n",
       "    <tr>\n",
       "      <th>count</th>\n",
       "      <td>188281.000000</td>\n",
       "      <td>188281.000000</td>\n",
       "      <td>188281.000000</td>\n",
       "      <td>188281.000000</td>\n",
       "      <td>188281.000000</td>\n",
       "    </tr>\n",
       "    <tr>\n",
       "      <th>mean</th>\n",
       "      <td>734.914946</td>\n",
       "      <td>4.304388</td>\n",
       "      <td>1.297513</td>\n",
       "      <td>14.533671</td>\n",
       "      <td>0.272640</td>\n",
       "    </tr>\n",
       "    <tr>\n",
       "      <th>std</th>\n",
       "      <td>397.124225</td>\n",
       "      <td>132.073732</td>\n",
       "      <td>0.942867</td>\n",
       "      <td>11.249006</td>\n",
       "      <td>0.445319</td>\n",
       "    </tr>\n",
       "    <tr>\n",
       "      <th>min</th>\n",
       "      <td>0.000000</td>\n",
       "      <td>0.020000</td>\n",
       "      <td>0.000000</td>\n",
       "      <td>-0.500000</td>\n",
       "      <td>0.000000</td>\n",
       "    </tr>\n",
       "    <tr>\n",
       "      <th>25%</th>\n",
       "      <td>432.000000</td>\n",
       "      <td>1.900000</td>\n",
       "      <td>1.000000</td>\n",
       "      <td>6.000000</td>\n",
       "      <td>0.000000</td>\n",
       "    </tr>\n",
       "    <tr>\n",
       "      <th>50%</th>\n",
       "      <td>670.000000</td>\n",
       "      <td>3.030000</td>\n",
       "      <td>1.000000</td>\n",
       "      <td>9.750000</td>\n",
       "      <td>0.000000</td>\n",
       "    </tr>\n",
       "    <tr>\n",
       "      <th>75%</th>\n",
       "      <td>981.000000</td>\n",
       "      <td>4.970000</td>\n",
       "      <td>1.000000</td>\n",
       "      <td>26.425000</td>\n",
       "      <td>1.000000</td>\n",
       "    </tr>\n",
       "    <tr>\n",
       "      <th>max</th>\n",
       "      <td>1810.000000</td>\n",
       "      <td>57283.910000</td>\n",
       "      <td>9.000000</td>\n",
       "      <td>178.875000</td>\n",
       "      <td>1.000000</td>\n",
       "    </tr>\n",
       "  </tbody>\n",
       "</table>\n",
       "</div>"
      ],
      "text/plain": [
       "       trip_duration  distance_traveled  num_of_passengers  \\\n",
       "count  188281.000000      188281.000000      188281.000000   \n",
       "mean      734.914946           4.304388           1.297513   \n",
       "std       397.124225         132.073732           0.942867   \n",
       "min         0.000000           0.020000           0.000000   \n",
       "25%       432.000000           1.900000           1.000000   \n",
       "50%       670.000000           3.030000           1.000000   \n",
       "75%       981.000000           4.970000           1.000000   \n",
       "max      1810.000000       57283.910000           9.000000   \n",
       "\n",
       "       miscellaneous_fees  surge_applied  \n",
       "count       188281.000000  188281.000000  \n",
       "mean            14.533671       0.272640  \n",
       "std             11.249006       0.445319  \n",
       "min             -0.500000       0.000000  \n",
       "25%              6.000000       0.000000  \n",
       "50%              9.750000       0.000000  \n",
       "75%             26.425000       1.000000  \n",
       "max            178.875000       1.000000  "
      ]
     },
     "execution_count": 101,
     "metadata": {},
     "output_type": "execute_result"
    }
   ],
   "source": [
    "X.describe()"
   ]
  },
  {
   "cell_type": "markdown",
   "id": "37a1f550",
   "metadata": {},
   "source": [
    "# model building"
   ]
  },
  {
   "cell_type": "code",
   "execution_count": 30,
   "id": "1c7f4dd9",
   "metadata": {},
   "outputs": [],
   "source": [
    "X_train,X_test,y_train,y_test=train_test_split(X,y,test_size=0.3,random_state=45)"
   ]
  },
  {
   "cell_type": "code",
   "execution_count": 31,
   "id": "f63f65ae",
   "metadata": {},
   "outputs": [],
   "source": [
    "from sklearn.ensemble import RandomForestRegressor,AdaBoostRegressor,GradientBoostingRegressor"
   ]
  },
  {
   "cell_type": "code",
   "execution_count": 32,
   "id": "70854412",
   "metadata": {},
   "outputs": [],
   "source": [
    "rf=RandomForestRegressor()\n",
    "ar=AdaBoostRegressor()\n",
    "gb=GradientBoostingRegressor()"
   ]
  },
  {
   "cell_type": "code",
   "execution_count": 43,
   "id": "7354e9cf",
   "metadata": {},
   "outputs": [],
   "source": [
    "def test_models(model):\n",
    "    model.fit(X_train,y_train)\n",
    "    y_pred=model.predict(X_test)\n",
    "    \n",
    "    return r2_score(y_test,y_pred),mean_squared_error(y_test,y_pred)"
   ]
  },
  {
   "cell_type": "code",
   "execution_count": 48,
   "id": "222880f2",
   "metadata": {},
   "outputs": [],
   "source": [
    "models=[rf,ar,gb]\n",
    "model_names=['Random forest','Adaboost','Gradient boosting']\n",
    "score=[]\n",
    "error=[]\n",
    "\n",
    "for model in models:\n",
    "    sc,er=test_models(model)\n",
    "    score.append(sc)\n",
    "    error.append(er)\n",
    "\n",
    "model_performance=pd.DataFrame({'model':model_names,'score':score,'error':error})\n"
   ]
  },
  {
   "cell_type": "code",
   "execution_count": 76,
   "id": "61092c7b",
   "metadata": {},
   "outputs": [
    {
     "data": {
      "text/html": [
       "<div>\n",
       "<style scoped>\n",
       "    .dataframe tbody tr th:only-of-type {\n",
       "        vertical-align: middle;\n",
       "    }\n",
       "\n",
       "    .dataframe tbody tr th {\n",
       "        vertical-align: top;\n",
       "    }\n",
       "\n",
       "    .dataframe thead th {\n",
       "        text-align: right;\n",
       "    }\n",
       "</style>\n",
       "<table border=\"1\" class=\"dataframe\">\n",
       "  <thead>\n",
       "    <tr style=\"text-align: right;\">\n",
       "      <th></th>\n",
       "      <th>model</th>\n",
       "      <th>score</th>\n",
       "      <th>error</th>\n",
       "    </tr>\n",
       "  </thead>\n",
       "  <tbody>\n",
       "    <tr>\n",
       "      <th>0</th>\n",
       "      <td>Random forest</td>\n",
       "      <td>0.750781</td>\n",
       "      <td>1985.613096</td>\n",
       "    </tr>\n",
       "    <tr>\n",
       "      <th>1</th>\n",
       "      <td>Adaboost</td>\n",
       "      <td>0.356462</td>\n",
       "      <td>5127.299118</td>\n",
       "    </tr>\n",
       "    <tr>\n",
       "      <th>2</th>\n",
       "      <td>Gradient boosting</td>\n",
       "      <td>0.750119</td>\n",
       "      <td>1990.892453</td>\n",
       "    </tr>\n",
       "  </tbody>\n",
       "</table>\n",
       "</div>"
      ],
      "text/plain": [
       "               model     score        error\n",
       "0      Random forest  0.750781  1985.613096\n",
       "1           Adaboost  0.356462  5127.299118\n",
       "2  Gradient boosting  0.750119  1990.892453"
      ]
     },
     "execution_count": 76,
     "metadata": {},
     "output_type": "execute_result"
    }
   ],
   "source": [
    "model_performance"
   ]
  },
  {
   "cell_type": "code",
   "execution_count": 92,
   "id": "9b833503",
   "metadata": {},
   "outputs": [
    {
     "data": {
      "image/png": "[encoded data removed]",
      "text/plain": [
       "<Figure size 720x288 with 2 Axes>"
      ]
     },
     "metadata": {
      "needs_background": "light"
     },
     "output_type": "display_data"
    }
   ],
   "source": [
    "plt.figure(figsize=(10,4))\n",
    "plt.subplot(1,2,1)\n",
    "g=sns.barplot(model_performance,x='model',y='score',order=model_performance.sort_values(by='score',ascending=False).model)\n",
    "plt.subplot(1,2,2)\n",
    "g=sns.barplot(model_performance,x='model',y='error',order=model_performance.sort_values(by='error').model)"
   ]
  },
  {
   "cell_type": "markdown",
   "id": "ef9d90f3",
   "metadata": {},
   "source": [
    "# Hyper parameter tuning"
   ]
  },
  {
   "cell_type": "code",
   "execution_count": 98,
   "id": "11f1dad8",
   "metadata": {},
   "outputs": [],
   "source": [
    "param_grid={\"n_estimators\":[100,120,150,200,300],\n",
    "    \"max_depth\":[None,2,3,4,5,6],\n",
    "    \"min_samples_split\":[2,3,4],\n",
    "    \"min_samples_leaf\":[1,2,3]}\n",
    "model=RandomizedSearchCV(rf,param_distributions=param_grid,cv=10)"
   ]
  },
  {
   "cell_type": "code",
   "execution_count": 100,
   "id": "62367f15",
   "metadata": {},
   "outputs": [
    {
     "data": {
      "text/html": [
       "<style>#sk-container-id-1 {color: black;background-color: white;}#sk-container-id-1 pre{padding: 0;}#sk-container-id-1 div.sk-toggleable {background-color: white;}#sk-container-id-1 label.sk-toggleable__label {cursor: pointer;display: block;width: 100%;margin-bottom: 0;padding: 0.3em;box-sizing: border-box;text-align: center;}#sk-container-id-1 label.sk-toggleable__label-arrow:before {content: \"▸\";float: left;margin-right: 0.25em;color: #696969;}#sk-container-id-1 label.sk-toggleable__label-arrow:hover:before {color: black;}#sk-container-id-1 div.sk-estimator:hover label.sk-toggleable__label-arrow:before {color: black;}#sk-container-id-1 div.sk-toggleable__content {max-height: 0;max-width: 0;overflow: hidden;text-align: left;background-color: #f0f8ff;}#sk-container-id-1 div.sk-toggleable__content pre {margin: 0.2em;color: black;border-radius: 0.25em;background-color: #f0f8ff;}#sk-container-id-1 input.sk-toggleable__control:checked~div.sk-toggleable__content {max-height: 200px;max-width: 100%;overflow: auto;}#sk-container-id-1 input.sk-toggleable__control:checked~label.sk-toggleable__label-arrow:before {content: \"▾\";}#sk-container-id-1 div.sk-estimator input.sk-toggleable__control:checked~label.sk-toggleable__label {background-color: #d4ebff;}#sk-container-id-1 div.sk-label input.sk-toggleable__control:checked~label.sk-toggleable__label {background-color: #d4ebff;}#sk-container-id-1 input.sk-hidden--visually {border: 0;clip: rect(1px 1px 1px 1px);clip: rect(1px, 1px, 1px, 1px);height: 1px;margin: -1px;overflow: hidden;padding: 0;position: absolute;width: 1px;}#sk-container-id-1 div.sk-estimator {font-family: monospace;background-color: #f0f8ff;border: 1px dotted black;border-radius: 0.25em;box-sizing: border-box;margin-bottom: 0.5em;}#sk-container-id-1 div.sk-estimator:hover {background-color: #d4ebff;}#sk-container-id-1 div.sk-parallel-item::after {content: \"\";width: 100%;border-bottom: 1px solid gray;flex-grow: 1;}#sk-container-id-1 div.sk-label:hover label.sk-toggleable__label {background-color: #d4ebff;}#sk-container-id-1 div.sk-serial::before {content: \"\";position: absolute;border-left: 1px solid gray;box-sizing: border-box;top: 0;bottom: 0;left: 50%;z-index: 0;}#sk-container-id-1 div.sk-serial {display: flex;flex-direction: column;align-items: center;background-color: white;padding-right: 0.2em;padding-left: 0.2em;position: relative;}#sk-container-id-1 div.sk-item {position: relative;z-index: 1;}#sk-container-id-1 div.sk-parallel {display: flex;align-items: stretch;justify-content: center;background-color: white;position: relative;}#sk-container-id-1 div.sk-item::before, #sk-container-id-1 div.sk-parallel-item::before {content: \"\";position: absolute;border-left: 1px solid gray;box-sizing: border-box;top: 0;bottom: 0;left: 50%;z-index: -1;}#sk-container-id-1 div.sk-parallel-item {display: flex;flex-direction: column;z-index: 1;position: relative;background-color: white;}#sk-container-id-1 div.sk-parallel-item:first-child::after {align-self: flex-end;width: 50%;}#sk-container-id-1 div.sk-parallel-item:last-child::after {align-self: flex-start;width: 50%;}#sk-container-id-1 div.sk-parallel-item:only-child::after {width: 0;}#sk-container-id-1 div.sk-dashed-wrapped {border: 1px dashed gray;margin: 0 0.4em 0.5em 0.4em;box-sizing: border-box;padding-bottom: 0.4em;background-color: white;}#sk-container-id-1 div.sk-label label {font-family: monospace;font-weight: bold;display: inline-block;line-height: 1.2em;}#sk-container-id-1 div.sk-label-container {text-align: center;}#sk-container-id-1 div.sk-container {/* jupyter's `normalize.less` sets `[hidden] { display: none; }` but bootstrap.min.css set `[hidden] { display: none !important; }` so we also need the `!important` here to be able to override the default hidden behavior on the sphinx rendered scikit-learn.org. See: https://github.com/scikit-learn/scikit-learn/issues/21755 */display: inline-block !important;position: relative;}#sk-container-id-1 div.sk-text-repr-fallback {display: none;}</style><div id=\"sk-container-id-1\" class=\"sk-top-container\"><div class=\"sk-text-repr-fallback\"><pre>RandomizedSearchCV(cv=10, estimator=RandomForestRegressor(),\n",
       "                   param_distributions={&#x27;max_depth&#x27;: [None, 2, 3, 4, 5, 6],\n",
       "                                        &#x27;min_samples_leaf&#x27;: [1, 2, 3],\n",
       "                                        &#x27;min_samples_split&#x27;: [2, 3, 4],\n",
       "                                        &#x27;n_estimators&#x27;: [100, 120, 150, 200,\n",
       "                                                         300]})</pre><b>In a Jupyter environment, please rerun this cell to show the HTML representation or trust the notebook. <br />On GitHub, the HTML representation is unable to render, please try loading this page with nbviewer.org.</b></div><div class=\"sk-container\" hidden><div class=\"sk-item sk-dashed-wrapped\"><div class=\"sk-label-container\"><div class=\"sk-label sk-toggleable\"><input class=\"sk-toggleable__control sk-hidden--visually\" id=\"sk-estimator-id-1\" type=\"checkbox\" ><label for=\"sk-estimator-id-1\" class=\"sk-toggleable__label sk-toggleable__label-arrow\">RandomizedSearchCV</label><div class=\"sk-toggleable__content\"><pre>RandomizedSearchCV(cv=10, estimator=RandomForestRegressor(),\n",
       "                   param_distributions={&#x27;max_depth&#x27;: [None, 2, 3, 4, 5, 6],\n",
       "                                        &#x27;min_samples_leaf&#x27;: [1, 2, 3],\n",
       "                                        &#x27;min_samples_split&#x27;: [2, 3, 4],\n",
       "                                        &#x27;n_estimators&#x27;: [100, 120, 150, 200,\n",
       "                                                         300]})</pre></div></div></div><div class=\"sk-parallel\"><div class=\"sk-parallel-item\"><div class=\"sk-item\"><div class=\"sk-label-container\"><div class=\"sk-label sk-toggleable\"><input class=\"sk-toggleable__control sk-hidden--visually\" id=\"sk-estimator-id-2\" type=\"checkbox\" ><label for=\"sk-estimator-id-2\" class=\"sk-toggleable__label sk-toggleable__label-arrow\">estimator: RandomForestRegressor</label><div class=\"sk-toggleable__content\"><pre>RandomForestRegressor()</pre></div></div></div><div class=\"sk-serial\"><div class=\"sk-item\"><div class=\"sk-estimator sk-toggleable\"><input class=\"sk-toggleable__control sk-hidden--visually\" id=\"sk-estimator-id-3\" type=\"checkbox\" ><label for=\"sk-estimator-id-3\" class=\"sk-toggleable__label sk-toggleable__label-arrow\">RandomForestRegressor</label><div class=\"sk-toggleable__content\"><pre>RandomForestRegressor()</pre></div></div></div></div></div></div></div></div></div></div>"
      ],
      "text/plain": [
       "RandomizedSearchCV(cv=10, estimator=RandomForestRegressor(),\n",
       "                   param_distributions={'max_depth': [None, 2, 3, 4, 5, 6],\n",
       "                                        'min_samples_leaf': [1, 2, 3],\n",
       "                                        'min_samples_split': [2, 3, 4],\n",
       "                                        'n_estimators': [100, 120, 150, 200,\n",
       "                                                         300]})"
      ]
     },
     "execution_count": 100,
     "metadata": {},
     "output_type": "execute_result"
    }
   ],
   "source": [
    "model.fit(X_train,y_train)"
   ]
  },
  {
   "cell_type": "code",
   "execution_count": 101,
   "id": "1653445c",
   "metadata": {},
   "outputs": [
    {
     "data": {
      "text/plain": [
       "{'n_estimators': 200,\n",
       " 'min_samples_split': 4,\n",
       " 'min_samples_leaf': 3,\n",
       " 'max_depth': 6}"
      ]
     },
     "execution_count": 101,
     "metadata": {},
     "output_type": "execute_result"
    }
   ],
   "source": [
    "model.best_params_"
   ]
  },
  {
   "cell_type": "code",
   "execution_count": 102,
   "id": "25ec96c1",
   "metadata": {},
   "outputs": [
    {
     "data": {
      "text/plain": [
       "0.7788836966020469"
      ]
     },
     "execution_count": 102,
     "metadata": {},
     "output_type": "execute_result"
    }
   ],
   "source": [
    "model.best_score_"
   ]
  },
  {
   "cell_type": "code",
   "execution_count": 103,
   "id": "bcd1e6de",
   "metadata": {},
   "outputs": [],
   "source": [
    "model=RandomForestRegressor(n_estimators=200,min_samples_split=4,min_samples_leaf=3,max_depth=6)"
   ]
  },
  {
   "cell_type": "code",
   "execution_count": 104,
   "id": "ba94aca3",
   "metadata": {},
   "outputs": [
    {
     "data": {
      "text/html": [
       "<style>#sk-container-id-2 {color: black;background-color: white;}#sk-container-id-2 pre{padding: 0;}#sk-container-id-2 div.sk-toggleable {background-color: white;}#sk-container-id-2 label.sk-toggleable__label {cursor: pointer;display: block;width: 100%;margin-bottom: 0;padding: 0.3em;box-sizing: border-box;text-align: center;}#sk-container-id-2 label.sk-toggleable__label-arrow:before {content: \"▸\";float: left;margin-right: 0.25em;color: #696969;}#sk-container-id-2 label.sk-toggleable__label-arrow:hover:before {color: black;}#sk-container-id-2 div.sk-estimator:hover label.sk-toggleable__label-arrow:before {color: black;}#sk-container-id-2 div.sk-toggleable__content {max-height: 0;max-width: 0;overflow: hidden;text-align: left;background-color: #f0f8ff;}#sk-container-id-2 div.sk-toggleable__content pre {margin: 0.2em;color: black;border-radius: 0.25em;background-color: #f0f8ff;}#sk-container-id-2 input.sk-toggleable__control:checked~div.sk-toggleable__content {max-height: 200px;max-width: 100%;overflow: auto;}#sk-container-id-2 input.sk-toggleable__control:checked~label.sk-toggleable__label-arrow:before {content: \"▾\";}#sk-container-id-2 div.sk-estimator input.sk-toggleable__control:checked~label.sk-toggleable__label {background-color: #d4ebff;}#sk-container-id-2 div.sk-label input.sk-toggleable__control:checked~label.sk-toggleable__label {background-color: #d4ebff;}#sk-container-id-2 input.sk-hidden--visually {border: 0;clip: rect(1px 1px 1px 1px);clip: rect(1px, 1px, 1px, 1px);height: 1px;margin: -1px;overflow: hidden;padding: 0;position: absolute;width: 1px;}#sk-container-id-2 div.sk-estimator {font-family: monospace;background-color: #f0f8ff;border: 1px dotted black;border-radius: 0.25em;box-sizing: border-box;margin-bottom: 0.5em;}#sk-container-id-2 div.sk-estimator:hover {background-color: #d4ebff;}#sk-container-id-2 div.sk-parallel-item::after {content: \"\";width: 100%;border-bottom: 1px solid gray;flex-grow: 1;}#sk-container-id-2 div.sk-label:hover label.sk-toggleable__label {background-color: #d4ebff;}#sk-container-id-2 div.sk-serial::before {content: \"\";position: absolute;border-left: 1px solid gray;box-sizing: border-box;top: 0;bottom: 0;left: 50%;z-index: 0;}#sk-container-id-2 div.sk-serial {display: flex;flex-direction: column;align-items: center;background-color: white;padding-right: 0.2em;padding-left: 0.2em;position: relative;}#sk-container-id-2 div.sk-item {position: relative;z-index: 1;}#sk-container-id-2 div.sk-parallel {display: flex;align-items: stretch;justify-content: center;background-color: white;position: relative;}#sk-container-id-2 div.sk-item::before, #sk-container-id-2 div.sk-parallel-item::before {content: \"\";position: absolute;border-left: 1px solid gray;box-sizing: border-box;top: 0;bottom: 0;left: 50%;z-index: -1;}#sk-container-id-2 div.sk-parallel-item {display: flex;flex-direction: column;z-index: 1;position: relative;background-color: white;}#sk-container-id-2 div.sk-parallel-item:first-child::after {align-self: flex-end;width: 50%;}#sk-container-id-2 div.sk-parallel-item:last-child::after {align-self: flex-start;width: 50%;}#sk-container-id-2 div.sk-parallel-item:only-child::after {width: 0;}#sk-container-id-2 div.sk-dashed-wrapped {border: 1px dashed gray;margin: 0 0.4em 0.5em 0.4em;box-sizing: border-box;padding-bottom: 0.4em;background-color: white;}#sk-container-id-2 div.sk-label label {font-family: monospace;font-weight: bold;display: inline-block;line-height: 1.2em;}#sk-container-id-2 div.sk-label-container {text-align: center;}#sk-container-id-2 div.sk-container {/* jupyter's `normalize.less` sets `[hidden] { display: none; }` but bootstrap.min.css set `[hidden] { display: none !important; }` so we also need the `!important` here to be able to override the default hidden behavior on the sphinx rendered scikit-learn.org. See: https://github.com/scikit-learn/scikit-learn/issues/21755 */display: inline-block !important;position: relative;}#sk-container-id-2 div.sk-text-repr-fallback {display: none;}</style><div id=\"sk-container-id-2\" class=\"sk-top-container\"><div class=\"sk-text-repr-fallback\"><pre>RandomForestRegressor(max_depth=6, min_samples_leaf=3, min_samples_split=4,\n",
       "                      n_estimators=200)</pre><b>In a Jupyter environment, please rerun this cell to show the HTML representation or trust the notebook. <br />On GitHub, the HTML representation is unable to render, please try loading this page with nbviewer.org.</b></div><div class=\"sk-container\" hidden><div class=\"sk-item\"><div class=\"sk-estimator sk-toggleable\"><input class=\"sk-toggleable__control sk-hidden--visually\" id=\"sk-estimator-id-4\" type=\"checkbox\" checked><label for=\"sk-estimator-id-4\" class=\"sk-toggleable__label sk-toggleable__label-arrow\">RandomForestRegressor</label><div class=\"sk-toggleable__content\"><pre>RandomForestRegressor(max_depth=6, min_samples_leaf=3, min_samples_split=4,\n",
       "                      n_estimators=200)</pre></div></div></div></div></div>"
      ],
      "text/plain": [
       "RandomForestRegressor(max_depth=6, min_samples_leaf=3, min_samples_split=4,\n",
       "                      n_estimators=200)"
      ]
     },
     "execution_count": 104,
     "metadata": {},
     "output_type": "execute_result"
    }
   ],
   "source": [
    "model.fit(X,y)"
   ]
  },
  {
   "cell_type": "code",
   "execution_count": null,
   "id": "6b3ada48",
   "metadata": {},
   "outputs": [],
   "source": [
    "import pickle\n",
    "pickle.dump(model,open(\"model.pkl\",'wb'))"
   ]
  },
  {
   "cell_type": "markdown",
   "id": "466d6de4",
   "metadata": {},
   "source": [
    "# model testing on test data"
   ]
  },
  {
   "cell_type": "code",
   "execution_count": 105,
   "id": "dbf7f1d5",
   "metadata": {},
   "outputs": [
    {
     "data": {
      "text/html": [
       "<div>\n",
       "<style scoped>\n",
       "    .dataframe tbody tr th:only-of-type {\n",
       "        vertical-align: middle;\n",
       "    }\n",
       "\n",
       "    .dataframe tbody tr th {\n",
       "        vertical-align: top;\n",
       "    }\n",
       "\n",
       "    .dataframe thead th {\n",
       "        text-align: right;\n",
       "    }\n",
       "</style>\n",
       "<table border=\"1\" class=\"dataframe\">\n",
       "  <thead>\n",
       "    <tr style=\"text-align: right;\">\n",
       "      <th></th>\n",
       "      <th>trip_duration</th>\n",
       "      <th>distance_traveled</th>\n",
       "      <th>num_of_passengers</th>\n",
       "      <th>fare</th>\n",
       "      <th>tip</th>\n",
       "      <th>miscellaneous_fees</th>\n",
       "      <th>total_fare</th>\n",
       "      <th>surge_applied</th>\n",
       "    </tr>\n",
       "  </thead>\n",
       "  <tbody>\n",
       "    <tr>\n",
       "      <th>0</th>\n",
       "      <td>1076.0</td>\n",
       "      <td>4.18</td>\n",
       "      <td>1.0</td>\n",
       "      <td>0</td>\n",
       "      <td>0</td>\n",
       "      <td>13.500</td>\n",
       "      <td>0</td>\n",
       "      <td>0</td>\n",
       "    </tr>\n",
       "    <tr>\n",
       "      <th>1</th>\n",
       "      <td>429.0</td>\n",
       "      <td>1.48</td>\n",
       "      <td>4.0</td>\n",
       "      <td>0</td>\n",
       "      <td>0</td>\n",
       "      <td>13.500</td>\n",
       "      <td>0</td>\n",
       "      <td>0</td>\n",
       "    </tr>\n",
       "    <tr>\n",
       "      <th>2</th>\n",
       "      <td>856.0</td>\n",
       "      <td>4.15</td>\n",
       "      <td>1.0</td>\n",
       "      <td>0</td>\n",
       "      <td>24</td>\n",
       "      <td>6.000</td>\n",
       "      <td>0</td>\n",
       "      <td>0</td>\n",
       "    </tr>\n",
       "    <tr>\n",
       "      <th>3</th>\n",
       "      <td>622.0</td>\n",
       "      <td>3.22</td>\n",
       "      <td>1.0</td>\n",
       "      <td>0</td>\n",
       "      <td>15</td>\n",
       "      <td>5.625</td>\n",
       "      <td>0</td>\n",
       "      <td>0</td>\n",
       "    </tr>\n",
       "    <tr>\n",
       "      <th>4</th>\n",
       "      <td>507.0</td>\n",
       "      <td>3.98</td>\n",
       "      <td>1.0</td>\n",
       "      <td>0</td>\n",
       "      <td>0</td>\n",
       "      <td>2.250</td>\n",
       "      <td>0</td>\n",
       "      <td>0</td>\n",
       "    </tr>\n",
       "    <tr>\n",
       "      <th>...</th>\n",
       "      <td>...</td>\n",
       "      <td>...</td>\n",
       "      <td>...</td>\n",
       "      <td>...</td>\n",
       "      <td>...</td>\n",
       "      <td>...</td>\n",
       "      <td>...</td>\n",
       "      <td>...</td>\n",
       "    </tr>\n",
       "    <tr>\n",
       "      <th>89856</th>\n",
       "      <td>435.0</td>\n",
       "      <td>2.24</td>\n",
       "      <td>1.0</td>\n",
       "      <td>0</td>\n",
       "      <td>13</td>\n",
       "      <td>13.700</td>\n",
       "      <td>0</td>\n",
       "      <td>0</td>\n",
       "    </tr>\n",
       "    <tr>\n",
       "      <th>89857</th>\n",
       "      <td>519.0</td>\n",
       "      <td>2.61</td>\n",
       "      <td>1.0</td>\n",
       "      <td>0</td>\n",
       "      <td>7</td>\n",
       "      <td>13.850</td>\n",
       "      <td>0</td>\n",
       "      <td>0</td>\n",
       "    </tr>\n",
       "    <tr>\n",
       "      <th>89858</th>\n",
       "      <td>450.0</td>\n",
       "      <td>2.24</td>\n",
       "      <td>1.0</td>\n",
       "      <td>0</td>\n",
       "      <td>0</td>\n",
       "      <td>26.625</td>\n",
       "      <td>0</td>\n",
       "      <td>1</td>\n",
       "    </tr>\n",
       "    <tr>\n",
       "      <th>89859</th>\n",
       "      <td>919.0</td>\n",
       "      <td>4.12</td>\n",
       "      <td>1.0</td>\n",
       "      <td>0</td>\n",
       "      <td>25</td>\n",
       "      <td>30.200</td>\n",
       "      <td>0</td>\n",
       "      <td>1</td>\n",
       "    </tr>\n",
       "    <tr>\n",
       "      <th>89860</th>\n",
       "      <td>441.0</td>\n",
       "      <td>3.52</td>\n",
       "      <td>1.0</td>\n",
       "      <td>0</td>\n",
       "      <td>23</td>\n",
       "      <td>6.175</td>\n",
       "      <td>0</td>\n",
       "      <td>0</td>\n",
       "    </tr>\n",
       "  </tbody>\n",
       "</table>\n",
       "<p>89861 rows × 8 columns</p>\n",
       "</div>"
      ],
      "text/plain": [
       "       trip_duration  distance_traveled  num_of_passengers  fare  tip  \\\n",
       "0             1076.0               4.18                1.0     0    0   \n",
       "1              429.0               1.48                4.0     0    0   \n",
       "2              856.0               4.15                1.0     0   24   \n",
       "3              622.0               3.22                1.0     0   15   \n",
       "4              507.0               3.98                1.0     0    0   \n",
       "...              ...                ...                ...   ...  ...   \n",
       "89856          435.0               2.24                1.0     0   13   \n",
       "89857          519.0               2.61                1.0     0    7   \n",
       "89858          450.0               2.24                1.0     0    0   \n",
       "89859          919.0               4.12                1.0     0   25   \n",
       "89860          441.0               3.52                1.0     0   23   \n",
       "\n",
       "       miscellaneous_fees  total_fare  surge_applied  \n",
       "0                  13.500           0              0  \n",
       "1                  13.500           0              0  \n",
       "2                   6.000           0              0  \n",
       "3                   5.625           0              0  \n",
       "4                   2.250           0              0  \n",
       "...                   ...         ...            ...  \n",
       "89856              13.700           0              0  \n",
       "89857              13.850           0              0  \n",
       "89858              26.625           0              1  \n",
       "89859              30.200           0              1  \n",
       "89860               6.175           0              0  \n",
       "\n",
       "[89861 rows x 8 columns]"
      ]
     },
     "execution_count": 105,
     "metadata": {},
     "output_type": "execute_result"
    }
   ],
   "source": [
    "test"
   ]
  },
  {
   "cell_type": "code",
   "execution_count": 108,
   "id": "0b7e85f7",
   "metadata": {},
   "outputs": [],
   "source": [
    "fare=model.predict(test.drop(['fare','tip','total_fare'],axis=1))"
   ]
  },
  {
   "cell_type": "code",
   "execution_count": 109,
   "id": "b9b19f44",
   "metadata": {},
   "outputs": [
    {
     "data": {
      "text/plain": [
       "array([102.16066501,  50.77364747,  87.03322536, ...,  51.23573787,\n",
       "        89.06038794,  60.04984486])"
      ]
     },
     "execution_count": 109,
     "metadata": {},
     "output_type": "execute_result"
    }
   ],
   "source": [
    "fare"
   ]
  },
  {
   "cell_type": "code",
   "execution_count": 110,
   "id": "494d6073",
   "metadata": {},
   "outputs": [
    {
     "data": {
      "text/html": [
       "<div>\n",
       "<style scoped>\n",
       "    .dataframe tbody tr th:only-of-type {\n",
       "        vertical-align: middle;\n",
       "    }\n",
       "\n",
       "    .dataframe tbody tr th {\n",
       "        vertical-align: top;\n",
       "    }\n",
       "\n",
       "    .dataframe thead th {\n",
       "        text-align: right;\n",
       "    }\n",
       "</style>\n",
       "<table border=\"1\" class=\"dataframe\">\n",
       "  <thead>\n",
       "    <tr style=\"text-align: right;\">\n",
       "      <th></th>\n",
       "      <th>total_fare</th>\n",
       "    </tr>\n",
       "  </thead>\n",
       "  <tbody>\n",
       "    <tr>\n",
       "      <th>0</th>\n",
       "      <td>0.0</td>\n",
       "    </tr>\n",
       "    <tr>\n",
       "      <th>1</th>\n",
       "      <td>0.0</td>\n",
       "    </tr>\n",
       "    <tr>\n",
       "      <th>2</th>\n",
       "      <td>0.0</td>\n",
       "    </tr>\n",
       "    <tr>\n",
       "      <th>3</th>\n",
       "      <td>0.0</td>\n",
       "    </tr>\n",
       "    <tr>\n",
       "      <th>4</th>\n",
       "      <td>0.0</td>\n",
       "    </tr>\n",
       "    <tr>\n",
       "      <th>...</th>\n",
       "      <td>...</td>\n",
       "    </tr>\n",
       "    <tr>\n",
       "      <th>89856</th>\n",
       "      <td>0.0</td>\n",
       "    </tr>\n",
       "    <tr>\n",
       "      <th>89857</th>\n",
       "      <td>0.0</td>\n",
       "    </tr>\n",
       "    <tr>\n",
       "      <th>89858</th>\n",
       "      <td>0.0</td>\n",
       "    </tr>\n",
       "    <tr>\n",
       "      <th>89859</th>\n",
       "      <td>0.0</td>\n",
       "    </tr>\n",
       "    <tr>\n",
       "      <th>89860</th>\n",
       "      <td>0.0</td>\n",
       "    </tr>\n",
       "  </tbody>\n",
       "</table>\n",
       "<p>89861 rows × 1 columns</p>\n",
       "</div>"
      ],
      "text/plain": [
       "       total_fare\n",
       "0             0.0\n",
       "1             0.0\n",
       "2             0.0\n",
       "3             0.0\n",
       "4             0.0\n",
       "...           ...\n",
       "89856         0.0\n",
       "89857         0.0\n",
       "89858         0.0\n",
       "89859         0.0\n",
       "89860         0.0\n",
       "\n",
       "[89861 rows x 1 columns]"
      ]
     },
     "execution_count": 110,
     "metadata": {},
     "output_type": "execute_result"
    }
   ],
   "source": [
    "submission"
   ]
  },
  {
   "cell_type": "code",
   "execution_count": 111,
   "id": "d92b6814",
   "metadata": {},
   "outputs": [],
   "source": []
  },
  {
   "cell_type": "code",
   "execution_count": 112,
   "id": "7c16d469",
   "metadata": {},
   "outputs": [],
   "source": []
  },
  {
   "cell_type": "code",
   "execution_count": null,
   "id": "b71d7cd0",
   "metadata": {},
   "outputs": [],
   "source": []
  },
  {
   "cell_type": "code",
   "execution_count": null,
   "id": "7ada901d",
   "metadata": {},
   "outputs": [],
   "source": []
  },
  {
   "cell_type": "code",
   "execution_count": null,
   "id": "9e17adb1",
   "metadata": {},
   "outputs": [],
   "source": []
  },
  {
   "cell_type": "code",
   "execution_count": 71,
   "id": "d48ce31b",
   "metadata": {},
   "outputs": [],
   "source": []
  },
  {
   "cell_type": "code",
   "execution_count": null,
   "id": "1b0f10c4",
   "metadata": {},
   "outputs": [],
   "source": []
  },
  {
   "cell_type": "code",
   "execution_count": 60,
   "id": "f4e4da47",
   "metadata": {},
   "outputs": [],
   "source": []
  }
 ],
 "metadata": {
  "kernelspec": {
   "display_name": "Python 3 (ipykernel)",
   "language": "python",
   "name": "python3"
  },
  "language_info": {
   "codemirror_mode": {
    "name": "ipython",
    "version": 3
   },
   "file_extension": ".py",
   "mimetype": "text/x-python",
   "name": "python",
   "nbconvert_exporter": "python",
   "pygments_lexer": "ipython3",
   "version": "3.10.4"
  }
 },
 "nbformat": 4,
 "nbformat_minor": 5
}
