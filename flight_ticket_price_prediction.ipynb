{
 "cells": [
  {
   "cell_type": "markdown",
   "id": "e837c62d",
   "metadata": {},
   "source": [
    "# Import the libraries"
   ]
  },
  {
   "cell_type": "code",
   "execution_count": 1,
   "id": "7c5bd4c1",
   "metadata": {},
   "outputs": [],
   "source": [
    "import pandas as pd\n",
    "import numpy as np\n",
    "\n",
    "from matplotlib import pyplot as plt\n",
    "import seaborn as sns\n",
    "\n",
    "import warnings\n",
    "warnings.filterwarnings(\"ignore\")"
   ]
  },
  {
   "cell_type": "code",
   "execution_count": 2,
   "id": "7abb39d1",
   "metadata": {},
   "outputs": [],
   "source": [
    "sns.set_style(\"darkgrid\")"
   ]
  },
  {
   "cell_type": "markdown",
   "id": "c352c3fc",
   "metadata": {},
   "source": [
    "# Import the data"
   ]
  },
  {
   "cell_type": "code",
   "execution_count": 3,
   "id": "a1be35dc",
   "metadata": {},
   "outputs": [],
   "source": [
    "train=pd.read_excel(\"Data_Train.xlsx\")\n",
    "test=pd.read_excel(\"Test_set.xlsx\")\n"
   ]
  },
  {
   "cell_type": "code",
   "execution_count": 4,
   "id": "734af706",
   "metadata": {},
   "outputs": [],
   "source": [
    "train.columns=train.columns.str.lower()\n",
    "test.columns=test.columns.str.lower()"
   ]
  },
  {
   "cell_type": "code",
   "execution_count": null,
   "id": "365b64c0",
   "metadata": {},
   "outputs": [],
   "source": []
  },
  {
   "cell_type": "markdown",
   "id": "ac7aac1e",
   "metadata": {},
   "source": [
    "# EDA"
   ]
  },
  {
   "cell_type": "code",
   "execution_count": 5,
   "id": "1f03420a",
   "metadata": {},
   "outputs": [
    {
     "name": "stdout",
     "output_type": "stream",
     "text": [
      "<class 'pandas.core.frame.DataFrame'>\n",
      "RangeIndex: 10683 entries, 0 to 10682\n",
      "Data columns (total 11 columns):\n",
      " #   Column           Non-Null Count  Dtype \n",
      "---  ------           --------------  ----- \n",
      " 0   airline          10683 non-null  object\n",
      " 1   date_of_journey  10683 non-null  object\n",
      " 2   source           10683 non-null  object\n",
      " 3   destination      10683 non-null  object\n",
      " 4   route            10682 non-null  object\n",
      " 5   dep_time         10683 non-null  object\n",
      " 6   arrival_time     10683 non-null  object\n",
      " 7   duration         10683 non-null  object\n",
      " 8   total_stops      10682 non-null  object\n",
      " 9   additional_info  10683 non-null  object\n",
      " 10  price            10683 non-null  int64 \n",
      "dtypes: int64(1), object(10)\n",
      "memory usage: 918.2+ KB\n"
     ]
    }
   ],
   "source": [
    "train.info()"
   ]
  },
  {
   "cell_type": "code",
   "execution_count": 6,
   "id": "4fb02a4c",
   "metadata": {},
   "outputs": [
    {
     "data": {
      "text/plain": [
       "airline            0\n",
       "date_of_journey    0\n",
       "source             0\n",
       "destination        0\n",
       "route              1\n",
       "dep_time           0\n",
       "arrival_time       0\n",
       "duration           0\n",
       "total_stops        1\n",
       "additional_info    0\n",
       "price              0\n",
       "dtype: int64"
      ]
     },
     "execution_count": 6,
     "metadata": {},
     "output_type": "execute_result"
    }
   ],
   "source": [
    "train.isna().sum()"
   ]
  },
  {
   "cell_type": "code",
   "execution_count": 7,
   "id": "073a1608",
   "metadata": {},
   "outputs": [],
   "source": [
    "train.dropna(inplace=True)"
   ]
  },
  {
   "cell_type": "markdown",
   "id": "4f5221b3",
   "metadata": {},
   "source": [
    "There is one value missing in route and total_stops. we are dropping that"
   ]
  },
  {
   "cell_type": "code",
   "execution_count": 8,
   "id": "7cd4d6f4",
   "metadata": {},
   "outputs": [
    {
     "data": {
      "text/plain": [
       "220"
      ]
     },
     "execution_count": 8,
     "metadata": {},
     "output_type": "execute_result"
    }
   ],
   "source": [
    "train.duplicated().sum()"
   ]
  },
  {
   "cell_type": "code",
   "execution_count": 9,
   "id": "92b24d79",
   "metadata": {},
   "outputs": [],
   "source": [
    "# there are 220 duplicates values in data.\n",
    "# we are removing that \n",
    "train.drop_duplicates(keep='first',inplace=True)\n",
    "train.reset_index(drop=True,inplace=True)"
   ]
  },
  {
   "cell_type": "code",
   "execution_count": 10,
   "id": "d09a0e3b",
   "metadata": {},
   "outputs": [
    {
     "data": {
      "text/plain": [
       "((10462, 11), (2671, 10))"
      ]
     },
     "execution_count": 10,
     "metadata": {},
     "output_type": "execute_result"
    }
   ],
   "source": [
    "train.shape,test.shape"
   ]
  },
  {
   "cell_type": "code",
   "execution_count": 11,
   "id": "656496c9",
   "metadata": {},
   "outputs": [],
   "source": [
    "data=pd.concat([train,test],axis=0)\n",
    "data.reset_index(drop=True,inplace=True)"
   ]
  },
  {
   "cell_type": "code",
   "execution_count": 12,
   "id": "080d2991",
   "metadata": {},
   "outputs": [
    {
     "name": "stdout",
     "output_type": "stream",
     "text": [
      "<class 'pandas.core.frame.DataFrame'>\n",
      "RangeIndex: 13133 entries, 0 to 13132\n",
      "Data columns (total 11 columns):\n",
      " #   Column           Non-Null Count  Dtype  \n",
      "---  ------           --------------  -----  \n",
      " 0   airline          13133 non-null  object \n",
      " 1   date_of_journey  13133 non-null  object \n",
      " 2   source           13133 non-null  object \n",
      " 3   destination      13133 non-null  object \n",
      " 4   route            13133 non-null  object \n",
      " 5   dep_time         13133 non-null  object \n",
      " 6   arrival_time     13133 non-null  object \n",
      " 7   duration         13133 non-null  object \n",
      " 8   total_stops      13133 non-null  object \n",
      " 9   additional_info  13133 non-null  object \n",
      " 10  price            10462 non-null  float64\n",
      "dtypes: float64(1), object(10)\n",
      "memory usage: 1.1+ MB\n"
     ]
    }
   ],
   "source": [
    "data.info()"
   ]
  },
  {
   "cell_type": "code",
   "execution_count": 13,
   "id": "416b4398",
   "metadata": {},
   "outputs": [
    {
     "data": {
      "text/plain": [
       "array(['24/03/2019', '1/05/2019', '9/06/2019', '12/05/2019', '01/03/2019',\n",
       "       '24/06/2019', '12/03/2019', '27/05/2019', '1/06/2019',\n",
       "       '18/04/2019', '9/05/2019', '24/04/2019', '3/03/2019', '15/04/2019',\n",
       "       '12/06/2019', '6/03/2019', '21/03/2019', '3/04/2019', '6/05/2019',\n",
       "       '15/05/2019', '18/06/2019', '15/06/2019', '6/04/2019',\n",
       "       '18/05/2019', '27/06/2019', '21/05/2019', '06/03/2019',\n",
       "       '3/06/2019', '15/03/2019', '3/05/2019', '9/03/2019', '6/06/2019',\n",
       "       '24/05/2019', '09/03/2019', '1/04/2019', '21/04/2019',\n",
       "       '21/06/2019', '27/03/2019', '18/03/2019', '12/04/2019',\n",
       "       '9/04/2019', '1/03/2019', '03/03/2019', '27/04/2019'], dtype=object)"
      ]
     },
     "execution_count": 13,
     "metadata": {},
     "output_type": "execute_result"
    }
   ],
   "source": [
    "data['date_of_journey'].unique()"
   ]
  },
  {
   "cell_type": "code",
   "execution_count": 14,
   "id": "e2d3f3e4",
   "metadata": {},
   "outputs": [],
   "source": [
    "train['date_of_journey']=pd.to_datetime(train.date_of_journey,format='%d/%m/%Y')"
   ]
  },
  {
   "cell_type": "code",
   "execution_count": 15,
   "id": "ce4752c8",
   "metadata": {},
   "outputs": [
    {
     "data": {
      "text/plain": [
       "<AxesSubplot:xlabel='airline', ylabel='count'>"
      ]
     },
     "execution_count": 15,
     "metadata": {},
     "output_type": "execute_result"
    },
    {
     "data": {
      "image/png": "[encoded data removed]",
      "text/plain": [
       "<Figure size 864x576 with 1 Axes>"
      ]
     },
     "metadata": {},
     "output_type": "display_data"
    }
   ],
   "source": [
    "plt.figure(figsize=(12,8))\n",
    "sns.countplot(train['airline'])"
   ]
  },
  {
   "cell_type": "code",
   "execution_count": 16,
   "id": "69efc2cf",
   "metadata": {},
   "outputs": [
    {
     "data": {
      "text/plain": [
       "array(['IndiGo', 'Air India', 'Jet Airways', 'SpiceJet',\n",
       "       'Multiple carriers', 'GoAir', 'Vistara', 'Air Asia',\n",
       "       'Vistara Premium economy', 'Jet Airways Business',\n",
       "       'Multiple carriers Premium economy', 'Trujet'], dtype=object)"
      ]
     },
     "execution_count": 16,
     "metadata": {},
     "output_type": "execute_result"
    }
   ],
   "source": [
    "data.airline.unique()"
   ]
  },
  {
   "cell_type": "code",
   "execution_count": 17,
   "id": "2086fd6a",
   "metadata": {},
   "outputs": [
    {
     "data": {
      "text/plain": [
       "array(['Banglore', 'Kolkata', 'Delhi', 'Chennai', 'Mumbai'], dtype=object)"
      ]
     },
     "execution_count": 17,
     "metadata": {},
     "output_type": "execute_result"
    }
   ],
   "source": [
    "data.source.unique()"
   ]
  },
  {
   "cell_type": "code",
   "execution_count": 18,
   "id": "4676cf9e",
   "metadata": {},
   "outputs": [
    {
     "data": {
      "text/plain": [
       "array(['New Delhi', 'Banglore', 'Cochin', 'Kolkata', 'Delhi', 'Hyderabad'],\n",
       "      dtype=object)"
      ]
     },
     "execution_count": 18,
     "metadata": {},
     "output_type": "execute_result"
    }
   ],
   "source": [
    "data.destination.unique()"
   ]
  },
  {
   "cell_type": "code",
   "execution_count": 19,
   "id": "891dcc18",
   "metadata": {},
   "outputs": [],
   "source": [
    "data.route=data.route.apply(lambda x:str(x).replace('→','_'))\n",
    "data.route=data.route.apply(lambda x:str(x).replace(' ',''))\n",
    "data.replace('nan',np.nan,inplace=True)"
   ]
  },
  {
   "cell_type": "code",
   "execution_count": 20,
   "id": "dc198911",
   "metadata": {},
   "outputs": [
    {
     "data": {
      "text/plain": [
       "array(['No info', 'In-flight meal not included',\n",
       "       'No check-in baggage included', '1 Short layover', 'No Info',\n",
       "       '1 Long layover', 'Change airports', 'Business class',\n",
       "       'Red-eye flight', '2 Long layover'], dtype=object)"
      ]
     },
     "execution_count": 20,
     "metadata": {},
     "output_type": "execute_result"
    }
   ],
   "source": [
    "data.additional_info.unique()"
   ]
  },
  {
   "cell_type": "code",
   "execution_count": 21,
   "id": "10ec61fa",
   "metadata": {},
   "outputs": [],
   "source": [
    "data.replace('No Info','No info',inplace=True)"
   ]
  },
  {
   "cell_type": "code",
   "execution_count": 22,
   "id": "37a394f3",
   "metadata": {},
   "outputs": [
    {
     "data": {
      "text/plain": [
       "array(['non-stop', '2 stops', '1 stop', '3 stops', '4 stops'],\n",
       "      dtype=object)"
      ]
     },
     "execution_count": 22,
     "metadata": {},
     "output_type": "execute_result"
    }
   ],
   "source": [
    "data['total_stops'].unique()"
   ]
  },
  {
   "cell_type": "code",
   "execution_count": 23,
   "id": "e30e3956",
   "metadata": {},
   "outputs": [],
   "source": [
    "data['total_stops']=data['total_stops'].apply(lambda x:x.split(' ')[0])\n",
    "data['total_stops'].replace('non-stop',0,inplace=True)\n",
    "data['total_stops']=data['total_stops'].astype('int')"
   ]
  },
  {
   "cell_type": "code",
   "execution_count": 24,
   "id": "c74c9490",
   "metadata": {},
   "outputs": [],
   "source": [
    "def my_fun(x):\n",
    "    if (('h' in x) & ('m' in x)):\n",
    "        return (int(x.split('h')[0])*60+int(x.replace('m','').split(' ')[1]))\n",
    "    elif ('h' in x):\n",
    "        return (int(x[:-1])*60)\n",
    "    else:\n",
    "        return int(x[:-1])"
   ]
  },
  {
   "cell_type": "code",
   "execution_count": 25,
   "id": "3bf1e52a",
   "metadata": {},
   "outputs": [],
   "source": [
    "data['duration']=data['duration'].apply(my_fun)"
   ]
  },
  {
   "cell_type": "code",
   "execution_count": 26,
   "id": "fbda8117",
   "metadata": {},
   "outputs": [],
   "source": [
    "data['day_of_journy']=pd.DatetimeIndex(data['date_of_journey']).day\n",
    "data['month_of_journy']=pd.DatetimeIndex(data['date_of_journey']).month\n",
    "data['year_of_journy']=pd.DatetimeIndex(data['date_of_journey']).year"
   ]
  },
  {
   "cell_type": "code",
   "execution_count": 27,
   "id": "4718112c",
   "metadata": {},
   "outputs": [],
   "source": [
    "data['day_of_journy']=data['day_of_journy'].astype(\"str\")\n",
    "data['month_of_journy']=data['month_of_journy'].astype(\"str\")\n",
    "data['year_of_journy']=data['year_of_journy'].astype(\"str\")"
   ]
  },
  {
   "cell_type": "code",
   "execution_count": 28,
   "id": "8e1f1c7a",
   "metadata": {},
   "outputs": [],
   "source": [
    "data['dep_time']=data.dep_time.apply(lambda x:( (int(x.split(':')[0])*60) + (int(x.split(':')[1]))))"
   ]
  },
  {
   "cell_type": "code",
   "execution_count": 29,
   "id": "6d618309",
   "metadata": {},
   "outputs": [],
   "source": [
    "data.drop(['date_of_journey','arrival_time'],axis=1,inplace=True)"
   ]
  },
  {
   "cell_type": "code",
   "execution_count": 30,
   "id": "47ef3e95",
   "metadata": {},
   "outputs": [
    {
     "name": "stdout",
     "output_type": "stream",
     "text": [
      "<class 'pandas.core.frame.DataFrame'>\n",
      "RangeIndex: 13133 entries, 0 to 13132\n",
      "Data columns (total 12 columns):\n",
      " #   Column           Non-Null Count  Dtype  \n",
      "---  ------           --------------  -----  \n",
      " 0   airline          13133 non-null  object \n",
      " 1   source           13133 non-null  object \n",
      " 2   destination      13133 non-null  object \n",
      " 3   route            13133 non-null  object \n",
      " 4   dep_time         13133 non-null  int64  \n",
      " 5   duration         13133 non-null  int64  \n",
      " 6   total_stops      13133 non-null  int32  \n",
      " 7   additional_info  13133 non-null  object \n",
      " 8   price            10462 non-null  float64\n",
      " 9   day_of_journy    13133 non-null  object \n",
      " 10  month_of_journy  13133 non-null  object \n",
      " 11  year_of_journy   13133 non-null  object \n",
      "dtypes: float64(1), int32(1), int64(2), object(8)\n",
      "memory usage: 1.2+ MB\n"
     ]
    }
   ],
   "source": [
    "data.info()"
   ]
  },
  {
   "cell_type": "code",
   "execution_count": 31,
   "id": "ff00d325",
   "metadata": {},
   "outputs": [
    {
     "data": {
      "text/html": [
       "<div>\n",
       "<style scoped>\n",
       "    .dataframe tbody tr th:only-of-type {\n",
       "        vertical-align: middle;\n",
       "    }\n",
       "\n",
       "    .dataframe tbody tr th {\n",
       "        vertical-align: top;\n",
       "    }\n",
       "\n",
       "    .dataframe thead th {\n",
       "        text-align: right;\n",
       "    }\n",
       "</style>\n",
       "<table border=\"1\" class=\"dataframe\">\n",
       "  <thead>\n",
       "    <tr style=\"text-align: right;\">\n",
       "      <th></th>\n",
       "      <th>airline</th>\n",
       "      <th>source</th>\n",
       "      <th>destination</th>\n",
       "      <th>route</th>\n",
       "      <th>dep_time</th>\n",
       "      <th>duration</th>\n",
       "      <th>total_stops</th>\n",
       "      <th>additional_info</th>\n",
       "      <th>price</th>\n",
       "      <th>day_of_journy</th>\n",
       "      <th>month_of_journy</th>\n",
       "      <th>year_of_journy</th>\n",
       "    </tr>\n",
       "  </thead>\n",
       "  <tbody>\n",
       "    <tr>\n",
       "      <th>0</th>\n",
       "      <td>IndiGo</td>\n",
       "      <td>Banglore</td>\n",
       "      <td>New Delhi</td>\n",
       "      <td>BLR_DEL</td>\n",
       "      <td>1340</td>\n",
       "      <td>170</td>\n",
       "      <td>0</td>\n",
       "      <td>No info</td>\n",
       "      <td>3897.0</td>\n",
       "      <td>24</td>\n",
       "      <td>3</td>\n",
       "      <td>2019</td>\n",
       "    </tr>\n",
       "    <tr>\n",
       "      <th>1</th>\n",
       "      <td>Air India</td>\n",
       "      <td>Kolkata</td>\n",
       "      <td>Banglore</td>\n",
       "      <td>CCU_IXR_BBI_BLR</td>\n",
       "      <td>350</td>\n",
       "      <td>445</td>\n",
       "      <td>2</td>\n",
       "      <td>No info</td>\n",
       "      <td>7662.0</td>\n",
       "      <td>5</td>\n",
       "      <td>1</td>\n",
       "      <td>2019</td>\n",
       "    </tr>\n",
       "    <tr>\n",
       "      <th>2</th>\n",
       "      <td>Jet Airways</td>\n",
       "      <td>Delhi</td>\n",
       "      <td>Cochin</td>\n",
       "      <td>DEL_LKO_BOM_COK</td>\n",
       "      <td>565</td>\n",
       "      <td>1140</td>\n",
       "      <td>2</td>\n",
       "      <td>No info</td>\n",
       "      <td>13882.0</td>\n",
       "      <td>6</td>\n",
       "      <td>9</td>\n",
       "      <td>2019</td>\n",
       "    </tr>\n",
       "    <tr>\n",
       "      <th>3</th>\n",
       "      <td>IndiGo</td>\n",
       "      <td>Kolkata</td>\n",
       "      <td>Banglore</td>\n",
       "      <td>CCU_NAG_BLR</td>\n",
       "      <td>1085</td>\n",
       "      <td>325</td>\n",
       "      <td>1</td>\n",
       "      <td>No info</td>\n",
       "      <td>6218.0</td>\n",
       "      <td>5</td>\n",
       "      <td>12</td>\n",
       "      <td>2019</td>\n",
       "    </tr>\n",
       "    <tr>\n",
       "      <th>4</th>\n",
       "      <td>IndiGo</td>\n",
       "      <td>Banglore</td>\n",
       "      <td>New Delhi</td>\n",
       "      <td>BLR_NAG_DEL</td>\n",
       "      <td>1010</td>\n",
       "      <td>285</td>\n",
       "      <td>1</td>\n",
       "      <td>No info</td>\n",
       "      <td>13302.0</td>\n",
       "      <td>3</td>\n",
       "      <td>1</td>\n",
       "      <td>2019</td>\n",
       "    </tr>\n",
       "    <tr>\n",
       "      <th>...</th>\n",
       "      <td>...</td>\n",
       "      <td>...</td>\n",
       "      <td>...</td>\n",
       "      <td>...</td>\n",
       "      <td>...</td>\n",
       "      <td>...</td>\n",
       "      <td>...</td>\n",
       "      <td>...</td>\n",
       "      <td>...</td>\n",
       "      <td>...</td>\n",
       "      <td>...</td>\n",
       "      <td>...</td>\n",
       "    </tr>\n",
       "    <tr>\n",
       "      <th>13128</th>\n",
       "      <td>Air India</td>\n",
       "      <td>Kolkata</td>\n",
       "      <td>Banglore</td>\n",
       "      <td>CCU_DEL_BLR</td>\n",
       "      <td>1230</td>\n",
       "      <td>1435</td>\n",
       "      <td>1</td>\n",
       "      <td>No info</td>\n",
       "      <td>NaN</td>\n",
       "      <td>6</td>\n",
       "      <td>6</td>\n",
       "      <td>2019</td>\n",
       "    </tr>\n",
       "    <tr>\n",
       "      <th>13129</th>\n",
       "      <td>IndiGo</td>\n",
       "      <td>Kolkata</td>\n",
       "      <td>Banglore</td>\n",
       "      <td>CCU_BLR</td>\n",
       "      <td>860</td>\n",
       "      <td>155</td>\n",
       "      <td>0</td>\n",
       "      <td>No info</td>\n",
       "      <td>NaN</td>\n",
       "      <td>27</td>\n",
       "      <td>3</td>\n",
       "      <td>2019</td>\n",
       "    </tr>\n",
       "    <tr>\n",
       "      <th>13130</th>\n",
       "      <td>Jet Airways</td>\n",
       "      <td>Delhi</td>\n",
       "      <td>Cochin</td>\n",
       "      <td>DEL_BOM_COK</td>\n",
       "      <td>1310</td>\n",
       "      <td>395</td>\n",
       "      <td>1</td>\n",
       "      <td>No info</td>\n",
       "      <td>NaN</td>\n",
       "      <td>3</td>\n",
       "      <td>6</td>\n",
       "      <td>2019</td>\n",
       "    </tr>\n",
       "    <tr>\n",
       "      <th>13131</th>\n",
       "      <td>Air India</td>\n",
       "      <td>Delhi</td>\n",
       "      <td>Cochin</td>\n",
       "      <td>DEL_BOM_COK</td>\n",
       "      <td>240</td>\n",
       "      <td>915</td>\n",
       "      <td>1</td>\n",
       "      <td>No info</td>\n",
       "      <td>NaN</td>\n",
       "      <td>3</td>\n",
       "      <td>6</td>\n",
       "      <td>2019</td>\n",
       "    </tr>\n",
       "    <tr>\n",
       "      <th>13132</th>\n",
       "      <td>Multiple carriers</td>\n",
       "      <td>Delhi</td>\n",
       "      <td>Cochin</td>\n",
       "      <td>DEL_BOM_COK</td>\n",
       "      <td>295</td>\n",
       "      <td>860</td>\n",
       "      <td>1</td>\n",
       "      <td>No info</td>\n",
       "      <td>NaN</td>\n",
       "      <td>15</td>\n",
       "      <td>6</td>\n",
       "      <td>2019</td>\n",
       "    </tr>\n",
       "  </tbody>\n",
       "</table>\n",
       "<p>13133 rows × 12 columns</p>\n",
       "</div>"
      ],
      "text/plain": [
       "                 airline    source destination            route  dep_time  \\\n",
       "0                 IndiGo  Banglore   New Delhi          BLR_DEL      1340   \n",
       "1              Air India   Kolkata    Banglore  CCU_IXR_BBI_BLR       350   \n",
       "2            Jet Airways     Delhi      Cochin  DEL_LKO_BOM_COK       565   \n",
       "3                 IndiGo   Kolkata    Banglore      CCU_NAG_BLR      1085   \n",
       "4                 IndiGo  Banglore   New Delhi      BLR_NAG_DEL      1010   \n",
       "...                  ...       ...         ...              ...       ...   \n",
       "13128          Air India   Kolkata    Banglore      CCU_DEL_BLR      1230   \n",
       "13129             IndiGo   Kolkata    Banglore          CCU_BLR       860   \n",
       "13130        Jet Airways     Delhi      Cochin      DEL_BOM_COK      1310   \n",
       "13131          Air India     Delhi      Cochin      DEL_BOM_COK       240   \n",
       "13132  Multiple carriers     Delhi      Cochin      DEL_BOM_COK       295   \n",
       "\n",
       "       duration  total_stops additional_info    price day_of_journy  \\\n",
       "0           170            0         No info   3897.0            24   \n",
       "1           445            2         No info   7662.0             5   \n",
       "2          1140            2         No info  13882.0             6   \n",
       "3           325            1         No info   6218.0             5   \n",
       "4           285            1         No info  13302.0             3   \n",
       "...         ...          ...             ...      ...           ...   \n",
       "13128      1435            1         No info      NaN             6   \n",
       "13129       155            0         No info      NaN            27   \n",
       "13130       395            1         No info      NaN             3   \n",
       "13131       915            1         No info      NaN             3   \n",
       "13132       860            1         No info      NaN            15   \n",
       "\n",
       "      month_of_journy year_of_journy  \n",
       "0                   3           2019  \n",
       "1                   1           2019  \n",
       "2                   9           2019  \n",
       "3                  12           2019  \n",
       "4                   1           2019  \n",
       "...               ...            ...  \n",
       "13128               6           2019  \n",
       "13129               3           2019  \n",
       "13130               6           2019  \n",
       "13131               6           2019  \n",
       "13132               6           2019  \n",
       "\n",
       "[13133 rows x 12 columns]"
      ]
     },
     "execution_count": 31,
     "metadata": {},
     "output_type": "execute_result"
    }
   ],
   "source": [
    "data"
   ]
  },
  {
   "cell_type": "code",
   "execution_count": 32,
   "id": "3f8dcb88",
   "metadata": {},
   "outputs": [
    {
     "data": {
      "text/plain": [
       "array(['BLR_DEL', 'CCU_IXR_BBI_BLR', 'DEL_LKO_BOM_COK', 'CCU_NAG_BLR',\n",
       "       'BLR_NAG_DEL', 'CCU_BLR', 'BLR_BOM_DEL', 'DEL_BOM_COK',\n",
       "       'DEL_BLR_COK', 'MAA_CCU', 'CCU_BOM_BLR', 'DEL_AMD_BOM_COK',\n",
       "       'DEL_PNQ_COK', 'DEL_CCU_BOM_COK', 'BLR_COK_DEL', 'DEL_IDR_BOM_COK',\n",
       "       'DEL_LKO_COK', 'CCU_GAU_DEL_BLR', 'DEL_NAG_BOM_COK', 'CCU_MAA_BLR',\n",
       "       'DEL_HYD_COK', 'CCU_HYD_BLR', 'DEL_COK', 'CCU_DEL_BLR',\n",
       "       'BLR_BOM_AMD_DEL', 'BOM_DEL_HYD', 'DEL_MAA_COK', 'BOM_HYD',\n",
       "       'DEL_BHO_BOM_COK', 'DEL_JAI_BOM_COK', 'DEL_ATQ_BOM_COK',\n",
       "       'DEL_JDH_BOM_COK', 'CCU_BBI_BOM_BLR', 'BLR_MAA_DEL',\n",
       "       'DEL_GOI_BOM_COK', 'DEL_BDQ_BOM_COK', 'CCU_JAI_BOM_BLR',\n",
       "       'CCU_BBI_BLR', 'BLR_HYD_DEL', 'DEL_TRV_COK', 'CCU_IXR_DEL_BLR',\n",
       "       'DEL_IXU_BOM_COK', 'CCU_IXB_BLR', 'BLR_BOM_JDH_DEL',\n",
       "       'DEL_UDR_BOM_COK', 'DEL_HYD_MAA_COK', 'CCU_BOM_COK_BLR',\n",
       "       'BLR_CCU_DEL', 'CCU_BOM_GOI_BLR', 'DEL_RPR_NAG_BOM_COK',\n",
       "       'DEL_HYD_BOM_COK', 'CCU_DEL_AMD_BLR', 'CCU_PNQ_BLR',\n",
       "       'BLR_CCU_GAU_DEL', 'CCU_DEL_COK_BLR', 'BLR_PNQ_DEL',\n",
       "       'BOM_JDH_DEL_HYD', 'BLR_BOM_BHO_DEL', 'DEL_AMD_COK', 'BLR_LKO_DEL',\n",
       "       'CCU_GAU_BLR', 'BOM_GOI_HYD', 'CCU_BOM_AMD_BLR',\n",
       "       'CCU_BBI_IXR_DEL_BLR', 'DEL_DED_BOM_COK', 'DEL_MAA_BOM_COK',\n",
       "       'BLR_AMD_DEL', 'BLR_VGA_DEL', 'CCU_JAI_DEL_BLR', 'CCU_AMD_BLR',\n",
       "       'CCU_VNS_DEL_BLR', 'BLR_BOM_IDR_DEL', 'BLR_BBI_DEL', 'BLR_GOI_DEL',\n",
       "       'BOM_AMD_ISK_HYD', 'BOM_DED_DEL_HYD', 'DEL_IXC_BOM_COK',\n",
       "       'CCU_PAT_BLR', 'BLR_CCU_BBI_DEL', 'CCU_BBI_HYD_BLR',\n",
       "       'BLR_BOM_NAG_DEL', 'BLR_CCU_BBI_HYD_DEL', 'BLR_GAU_DEL',\n",
       "       'BOM_BHO_DEL_HYD', 'BOM_JLR_HYD', 'BLR_HYD_VGA_DEL', 'CCU_KNU_BLR',\n",
       "       'CCU_BOM_PNQ_BLR', 'DEL_BBI_COK', 'BLR_VGA_HYD_DEL',\n",
       "       'BOM_JDH_JAI_DEL_HYD', 'DEL_GWL_IDR_BOM_COK', 'CCU_RPR_HYD_BLR',\n",
       "       'CCU_VTZ_BLR', 'CCU_DEL_VGA_BLR', 'BLR_BOM_IDR_GWL_DEL',\n",
       "       'CCU_DEL_COK_TRV_BLR', 'BOM_COK_MAA_HYD', 'BOM_NDC_HYD',\n",
       "       'BLR_BDQ_DEL', 'CCU_BOM_TRV_BLR', 'CCU_BOM_HBX_BLR',\n",
       "       'BOM_BDQ_DEL_HYD', 'BOM_CCU_HYD', 'BLR_TRV_COK_DEL', 'BLR_IDR_DEL',\n",
       "       'CCU_IXZ_MAA_BLR', 'CCU_GAU_IMF_DEL_BLR', 'BOM_GOI_PNQ_HYD',\n",
       "       'BOM_BLR_CCU_BBI_HYD', 'BOM_MAA_HYD', 'BLR_BOM_UDR_DEL',\n",
       "       'BOM_UDR_DEL_HYD', 'BLR_VGA_VTZ_DEL', 'BLR_HBX_BOM_BHO_DEL',\n",
       "       'CCU_IXA_BLR', 'BOM_RPR_VTZ_HYD', 'BLR_HBX_BOM_AMD_DEL',\n",
       "       'BOM_IDR_DEL_HYD', 'BOM_BLR_HYD', 'BLR_STV_DEL', 'CCU_IXB_DEL_BLR',\n",
       "       'BOM_JAI_DEL_HYD', 'BOM_VNS_DEL_HYD', 'BLR_HBX_BOM_NAG_DEL',\n",
       "       'BLR_BOM_IXC_DEL', 'BLR_CCU_BBI_HYD_VGA_DEL', 'BOM_BBI_HYD',\n",
       "       'BLR_TRV_DEL', 'CCU_IXR_BBI_BOM_BLR', 'BOM_VGA_TIR_HYD',\n",
       "       'BOM_IXC_DEL_HYD'], dtype=object)"
      ]
     },
     "execution_count": 32,
     "metadata": {},
     "output_type": "execute_result"
    }
   ],
   "source": [
    "data['route'].unique()"
   ]
  },
  {
   "cell_type": "markdown",
   "id": "80bfc5a5",
   "metadata": {},
   "source": [
    "# Splitting back train and test"
   ]
  },
  {
   "cell_type": "code",
   "execution_count": 33,
   "id": "6feef0b3",
   "metadata": {},
   "outputs": [],
   "source": [
    "import category_encoders as ce\n",
    "from sklearn.preprocessing import StandardScaler,OneHotEncoder\n",
    "\n",
    "\n",
    "encoder=ce.CountEncoder(cols=['route'])\n",
    "ohe=OneHotEncoder(drop='first')\n",
    "\n",
    "X=data.drop('price',axis=1)\n",
    "y=data['price']\n",
    "ohe_col=['airline','source','destination','additional_info']\n",
    "\n",
    "encoder.fit(X,y)\n",
    "\n",
    "ohe.fit(X[ohe_col])\n",
    "\n",
    "train=X.iloc[0:10462,:]\n",
    "test=X.iloc[10462:,:]\n",
    "train['price']=y.iloc[0:10462]"
   ]
  },
  {
   "cell_type": "code",
   "execution_count": 34,
   "id": "15df3c21",
   "metadata": {},
   "outputs": [
    {
     "data": {
      "text/plain": [
       "<AxesSubplot:title={'center':'Airline wise price'}, xlabel='airline', ylabel='Price'>"
      ]
     },
     "execution_count": 34,
     "metadata": {},
     "output_type": "execute_result"
    },
    {
     "data": {
      "image/png": "[encoded data removed]",
      "text/plain": [
       "<Figure size 720x360 with 1 Axes>"
      ]
     },
     "metadata": {},
     "output_type": "display_data"
    }
   ],
   "source": [
    "plt.figure(figsize=(10,5))\n",
    "plt.title(\"Airline wise price\",fontsize=25,color='red')\n",
    "plt.xlabel(\"Airline\",color='red',fontsize=20)\n",
    "plt.ylabel(\"Price\",color='Green',fontsize=20)\n",
    "train.groupby('airline')['price'].mean().sort_values(ascending=False).plot(kind='bar')"
   ]
  },
  {
   "cell_type": "code",
   "execution_count": 35,
   "id": "eb717e64",
   "metadata": {},
   "outputs": [
    {
     "data": {
      "text/plain": [
       "<AxesSubplot:title={'center':'Source wise price'}, xlabel='source', ylabel='Price'>"
      ]
     },
     "execution_count": 35,
     "metadata": {},
     "output_type": "execute_result"
    },
    {
     "data": {
      "image/png": "[encoded data removed]",
      "text/plain": [
       "<Figure size 720x360 with 1 Axes>"
      ]
     },
     "metadata": {},
     "output_type": "display_data"
    }
   ],
   "source": [
    "plt.figure(figsize=(10,5))\n",
    "plt.title(\"Source wise price\",fontsize=25,color='red')\n",
    "plt.xlabel(\"Airline\",color='red',fontsize=20)\n",
    "plt.ylabel(\"Price\",color='Green',fontsize=20)\n",
    "train.groupby('source')['price'].mean().sort_values(ascending=False).plot(kind='bar')"
   ]
  },
  {
   "cell_type": "code",
   "execution_count": 36,
   "id": "f91b8f61",
   "metadata": {},
   "outputs": [
    {
     "data": {
      "text/plain": [
       "<AxesSubplot:title={'center':'Additional_info wise price'}, xlabel='additional_info', ylabel='Price'>"
      ]
     },
     "execution_count": 36,
     "metadata": {},
     "output_type": "execute_result"
    },
    {
     "data": {
      "image/png": "[encoded data removed]",
      "text/plain": [
       "<Figure size 720x360 with 1 Axes>"
      ]
     },
     "metadata": {},
     "output_type": "display_data"
    }
   ],
   "source": [
    "plt.figure(figsize=(10,5))\n",
    "plt.title(\"Additional_info wise price\",fontsize=25,color='red')\n",
    "plt.xlabel(\"Airline\",color='red',fontsize=20)\n",
    "plt.ylabel(\"Price\",color='Green',fontsize=20)\n",
    "train.groupby('additional_info')['price'].mean().sort_values(ascending=False).plot(kind='bar')"
   ]
  },
  {
   "cell_type": "code",
   "execution_count": 37,
   "id": "7e4ac27d",
   "metadata": {},
   "outputs": [
    {
     "data": {
      "text/plain": [
       "<AxesSubplot:>"
      ]
     },
     "execution_count": 37,
     "metadata": {},
     "output_type": "execute_result"
    },
    {
     "data": {
      "image/png": "[encoded data removed]",
      "text/plain": [
       "<Figure size 720x720 with 2 Axes>"
      ]
     },
     "metadata": {},
     "output_type": "display_data"
    }
   ],
   "source": [
    "plt.figure(figsize=(10,10))\n",
    "sns.heatmap(train.corr(),annot=True,cmap='RdBu')"
   ]
  },
  {
   "cell_type": "code",
   "execution_count": 38,
   "id": "3686ea79",
   "metadata": {},
   "outputs": [
    {
     "data": {
      "text/plain": [
       "<AxesSubplot:xlabel='price', ylabel='Density'>"
      ]
     },
     "execution_count": 38,
     "metadata": {},
     "output_type": "execute_result"
    },
    {
     "data": {
      "image/png": "[encoded data removed]",
      "text/plain": [
       "<Figure size 432x288 with 1 Axes>"
      ]
     },
     "metadata": {},
     "output_type": "display_data"
    }
   ],
   "source": [
    "sns.distplot(train['price'])"
   ]
  },
  {
   "cell_type": "code",
   "execution_count": 39,
   "id": "8d1c2e27",
   "metadata": {},
   "outputs": [
    {
     "data": {
      "text/plain": [
       "<AxesSubplot:xlabel='price'>"
      ]
     },
     "execution_count": 39,
     "metadata": {},
     "output_type": "execute_result"
    },
    {
     "data": {
      "image/png": "[encoded data removed]",
      "text/plain": [
       "<Figure size 432x288 with 1 Axes>"
      ]
     },
     "metadata": {},
     "output_type": "display_data"
    }
   ],
   "source": [
    "sns.boxplot(train['price'])"
   ]
  },
  {
   "cell_type": "raw",
   "id": "8bc48737",
   "metadata": {},
   "source": [
    "there are outliers in the data.\n",
    "need to handle these outliers to have good model performance"
   ]
  },
  {
   "cell_type": "code",
   "execution_count": 40,
   "id": "f9fe51f1",
   "metadata": {},
   "outputs": [
    {
     "data": {
      "text/plain": [
       "<AxesSubplot:xlabel='duration', ylabel='Density'>"
      ]
     },
     "execution_count": 40,
     "metadata": {},
     "output_type": "execute_result"
    },
    {
     "data": {
      "image/png": "[encoded data removed]",
      "text/plain": [
       "<Figure size 432x288 with 1 Axes>"
      ]
     },
     "metadata": {},
     "output_type": "display_data"
    }
   ],
   "source": [
    "sns.distplot(train['duration'])"
   ]
  },
  {
   "cell_type": "code",
   "execution_count": 41,
   "id": "0255eb87",
   "metadata": {},
   "outputs": [
    {
     "data": {
      "text/plain": [
       "<AxesSubplot:xlabel='duration'>"
      ]
     },
     "execution_count": 41,
     "metadata": {},
     "output_type": "execute_result"
    },
    {
     "data": {
      "image/png": "[encoded data removed]",
      "text/plain": [
       "<Figure size 432x288 with 1 Axes>"
      ]
     },
     "metadata": {},
     "output_type": "display_data"
    }
   ],
   "source": [
    "sns.boxplot(train['duration'])"
   ]
  },
  {
   "cell_type": "markdown",
   "id": "2a784451",
   "metadata": {},
   "source": [
    "# Outlier treatment"
   ]
  },
  {
   "cell_type": "raw",
   "id": "422b93f4",
   "metadata": {},
   "source": [
    "There are techniques to identify and treat the outlier.\n",
    "outlier is a data point having different behaviour that other data points.\n",
    "\n",
    "causes:\n",
    "    1. data corruption\n",
    "    2. wrong entry\n",
    "    3. actual outlier\n",
    "    \n",
    "methods:\n",
    "    1. Z-score if the distribution is normal\n",
    "    2. IQR "
   ]
  },
  {
   "cell_type": "code",
   "execution_count": 42,
   "id": "04157afe",
   "metadata": {},
   "outputs": [],
   "source": [
    "def drop_outliers(df,col):\n",
    "    q25,q75=np.percentile(df[col],25),np.percentile(df[col],75)\n",
    "    iqr=q75-q25\n",
    "    cut_off=iqr*1.5\n",
    "\n",
    "    lower_lim=q25-cut_off\n",
    "    uper_lim=q75+cut_off\n",
    "\n",
    "    outliers=[x for x in df[col] if x>uper_lim or x<lower_lim]\n",
    "\n",
    "    print(\"outliers identified for column {} are:{}\\n\".format(col,len(outliers)))\n",
    "    \n",
    "    df=df[~df[col].isin(outliers)]\n",
    "    \n",
    "    return df\n",
    "    "
   ]
  },
  {
   "cell_type": "code",
   "execution_count": 43,
   "id": "8d0aa04f",
   "metadata": {},
   "outputs": [
    {
     "name": "stdout",
     "output_type": "stream",
     "text": [
      "outliers identified for column price are:94\n",
      "\n",
      "outliers identified for column duration are:74\n",
      "\n"
     ]
    }
   ],
   "source": [
    "train=drop_outliers(train,'price')\n",
    "train=drop_outliers(train,'duration')\n",
    "train.reset_index(drop=True,inplace=True)"
   ]
  },
  {
   "cell_type": "code",
   "execution_count": 44,
   "id": "12b70b72",
   "metadata": {},
   "outputs": [
    {
     "data": {
      "text/plain": [
       "<AxesSubplot:xlabel='duration'>"
      ]
     },
     "execution_count": 44,
     "metadata": {},
     "output_type": "execute_result"
    },
    {
     "data": {
      "image/png": "[encoded data removed]",
      "text/plain": [
       "<Figure size 432x288 with 1 Axes>"
      ]
     },
     "metadata": {},
     "output_type": "display_data"
    }
   ],
   "source": [
    "sns.boxplot(train['duration'])"
   ]
  },
  {
   "cell_type": "markdown",
   "id": "3c4b7755",
   "metadata": {},
   "source": [
    "# categorical encoding and feature selection"
   ]
  },
  {
   "cell_type": "code",
   "execution_count": 45,
   "id": "f093c5a2",
   "metadata": {},
   "outputs": [],
   "source": [
    "\n",
    "X=train.drop('price',axis=1)\n",
    "y=train['price']"
   ]
  },
  {
   "cell_type": "code",
   "execution_count": 46,
   "id": "a60ff18f",
   "metadata": {},
   "outputs": [
    {
     "name": "stdout",
     "output_type": "stream",
     "text": [
      "<class 'pandas.core.frame.DataFrame'>\n",
      "RangeIndex: 10294 entries, 0 to 10293\n",
      "Data columns (total 12 columns):\n",
      " #   Column           Non-Null Count  Dtype  \n",
      "---  ------           --------------  -----  \n",
      " 0   airline          10294 non-null  object \n",
      " 1   source           10294 non-null  object \n",
      " 2   destination      10294 non-null  object \n",
      " 3   route            10294 non-null  object \n",
      " 4   dep_time         10294 non-null  int64  \n",
      " 5   duration         10294 non-null  int64  \n",
      " 6   total_stops      10294 non-null  int32  \n",
      " 7   additional_info  10294 non-null  object \n",
      " 8   day_of_journy    10294 non-null  object \n",
      " 9   month_of_journy  10294 non-null  object \n",
      " 10  year_of_journy   10294 non-null  object \n",
      " 11  price            10294 non-null  float64\n",
      "dtypes: float64(1), int32(1), int64(2), object(8)\n",
      "memory usage: 925.0+ KB\n"
     ]
    }
   ],
   "source": [
    "train.info()"
   ]
  },
  {
   "cell_type": "code",
   "execution_count": 47,
   "id": "13ff2a47",
   "metadata": {},
   "outputs": [],
   "source": [
    "X=encoder.transform(X)\n",
    "oh_encoded_X=pd.DataFrame(ohe.transform(X[ohe_col]).toarray())\n",
    "test=encoder.transform(test)\n",
    "ohe_encoded_test=pd.DataFrame(ohe.transform(test[ohe_col]).toarray())"
   ]
  },
  {
   "cell_type": "code",
   "execution_count": 48,
   "id": "48e51a60",
   "metadata": {},
   "outputs": [],
   "source": [
    "X.drop(ohe_col,axis=1,inplace=True)\n",
    "test.drop(ohe_col,axis=1,inplace=True)"
   ]
  },
  {
   "cell_type": "code",
   "execution_count": 49,
   "id": "d12760e6",
   "metadata": {},
   "outputs": [],
   "source": [
    "X=X.join(oh_encoded_X)\n",
    "test.reset_index(drop=True,inplace=True)\n",
    "test=test.join(ohe_encoded_test)"
   ]
  },
  {
   "cell_type": "markdown",
   "id": "0af38980",
   "metadata": {},
   "source": [
    "# Model Building"
   ]
  },
  {
   "cell_type": "code",
   "execution_count": 68,
   "id": "3babc39b",
   "metadata": {},
   "outputs": [],
   "source": [
    "from sklearn.model_selection import train_test_split,GridSearchCV,KFold\n",
    "from sklearn.metrics import r2_score,mean_absolute_error,mean_squared_error\n",
    "from sklearn.feature_selection import SelectKBest\n",
    "from sklearn.ensemble import AdaBoostRegressor,BaggingRegressor,GradientBoostingRegressor,VotingRegressor,RandomForestRegressor"
   ]
  },
  {
   "cell_type": "code",
   "execution_count": 51,
   "id": "8c0d45c3",
   "metadata": {},
   "outputs": [],
   "source": [
    "X_train,X_test,y_train,y_test=train_test_split(X,y,test_size=0.3,random_state=45)"
   ]
  },
  {
   "cell_type": "code",
   "execution_count": 69,
   "id": "bbd4c7d3",
   "metadata": {},
   "outputs": [
    {
     "name": "stdout",
     "output_type": "stream",
     "text": [
      "Model score is:0.9859740754329136\n",
      "\n",
      "R2 score of y_hat:0.9187481317944644\n",
      "\n",
      "MSE score of y_hat:1313089.2625587836\n",
      "\n"
     ]
    },
    {
     "data": {
      "text/plain": [
       "<AxesSubplot:xlabel='price', ylabel='Density'>"
      ]
     },
     "execution_count": 69,
     "metadata": {},
     "output_type": "execute_result"
    },
    {
     "data": {
      "image/png": "[encoded data removed]",
      "text/plain": [
       "<Figure size 432x288 with 1 Axes>"
      ]
     },
     "metadata": {},
     "output_type": "display_data"
    }
   ],
   "source": [
    "model=RandomForestRegressor()\n",
    "model.fit(X_train,y_train)\n",
    "print(\"Model score is:{}\\n\".format(model.score(X_train,y_train)))\n",
    "\n",
    "y_pred=model.predict(X_test)\n",
    "\n",
    "print(\"R2 score of y_hat:{}\\n\".format(r2_score(y_test,y_pred)))\n",
    "print(\"MSE score of y_hat:{}\\n\".format(mean_squared_error(y_test,y_pred)))\n",
    "\n",
    "sns.kdeplot((y_test-y_pred))"
   ]
  },
  {
   "cell_type": "markdown",
   "id": "636cbf9d",
   "metadata": {},
   "source": [
    "# Try with different models"
   ]
  },
  {
   "cell_type": "code",
   "execution_count": 70,
   "id": "cbc4a152",
   "metadata": {},
   "outputs": [],
   "source": [
    "def test_model(model_instance):\n",
    "    \n",
    "    model=model_instance\n",
    "    model.fit(X_train,y_train)\n",
    "    print(\"Model score is:{}\\n\".format(model.score(X_train,y_train)))\n",
    "\n",
    "    y_pred=model.predict(X_test)\n",
    "\n",
    "    print(\"R2 score of y_hat:{}\\n\".format(r2_score(y_test,y_pred)))\n",
    "    print(\"MSE score of y_hat:{}\\n\".format(mean_squared_error(y_test,y_pred)))\n",
    "\n",
    "    sns.kdeplot((y_test-y_pred))"
   ]
  },
  {
   "cell_type": "code",
   "execution_count": 71,
   "id": "e2aa0f44",
   "metadata": {},
   "outputs": [],
   "source": [
    "adb=AdaBoostRegressor()"
   ]
  },
  {
   "cell_type": "code",
   "execution_count": 72,
   "id": "9e72071f",
   "metadata": {},
   "outputs": [
    {
     "name": "stdout",
     "output_type": "stream",
     "text": [
      "Model score is:0.62973596848685\n",
      "\n",
      "R2 score of y_hat:0.6247341726035686\n",
      "\n",
      "MSE score of y_hat:6064568.599370626\n",
      "\n"
     ]
    },
    {
     "data": {
      "image/png": "[encoded data removed]",
      "text/plain": [
       "<Figure size 432x288 with 1 Axes>"
      ]
     },
     "metadata": {},
     "output_type": "display_data"
    }
   ],
   "source": [
    "test_model(adb)"
   ]
  },
  {
   "cell_type": "code",
   "execution_count": 73,
   "id": "7ee446a2",
   "metadata": {},
   "outputs": [
    {
     "name": "stdout",
     "output_type": "stream",
     "text": [
      "Model score is:0.8584448755769738\n",
      "\n",
      "R2 score of y_hat:0.8386775571976488\n",
      "\n",
      "MSE score of y_hat:2607087.9615674987\n",
      "\n"
     ]
    },
    {
     "data": {
      "image/png": "[encoded data removed]",
      "text/plain": [
       "<Figure size 432x288 with 1 Axes>"
      ]
     },
     "metadata": {},
     "output_type": "display_data"
    }
   ],
   "source": [
    "gb=GradientBoostingRegressor()\n",
    "test_model(gb)"
   ]
  },
  {
   "cell_type": "raw",
   "id": "ce2ec140",
   "metadata": {},
   "source": [
    "Random forest is giving good result"
   ]
  },
  {
   "cell_type": "markdown",
   "id": "15603445",
   "metadata": {},
   "source": [
    "# Lets train random forest on entire train data and do prediction for test"
   ]
  },
  {
   "cell_type": "code",
   "execution_count": 74,
   "id": "d637c56e",
   "metadata": {},
   "outputs": [
    {
     "data": {
      "text/html": [
       "<style>#sk-container-id-2 {color: black;background-color: white;}#sk-container-id-2 pre{padding: 0;}#sk-container-id-2 div.sk-toggleable {background-color: white;}#sk-container-id-2 label.sk-toggleable__label {cursor: pointer;display: block;width: 100%;margin-bottom: 0;padding: 0.3em;box-sizing: border-box;text-align: center;}#sk-container-id-2 label.sk-toggleable__label-arrow:before {content: \"▸\";float: left;margin-right: 0.25em;color: #696969;}#sk-container-id-2 label.sk-toggleable__label-arrow:hover:before {color: black;}#sk-container-id-2 div.sk-estimator:hover label.sk-toggleable__label-arrow:before {color: black;}#sk-container-id-2 div.sk-toggleable__content {max-height: 0;max-width: 0;overflow: hidden;text-align: left;background-color: #f0f8ff;}#sk-container-id-2 div.sk-toggleable__content pre {margin: 0.2em;color: black;border-radius: 0.25em;background-color: #f0f8ff;}#sk-container-id-2 input.sk-toggleable__control:checked~div.sk-toggleable__content {max-height: 200px;max-width: 100%;overflow: auto;}#sk-container-id-2 input.sk-toggleable__control:checked~label.sk-toggleable__label-arrow:before {content: \"▾\";}#sk-container-id-2 div.sk-estimator input.sk-toggleable__control:checked~label.sk-toggleable__label {background-color: #d4ebff;}#sk-container-id-2 div.sk-label input.sk-toggleable__control:checked~label.sk-toggleable__label {background-color: #d4ebff;}#sk-container-id-2 input.sk-hidden--visually {border: 0;clip: rect(1px 1px 1px 1px);clip: rect(1px, 1px, 1px, 1px);height: 1px;margin: -1px;overflow: hidden;padding: 0;position: absolute;width: 1px;}#sk-container-id-2 div.sk-estimator {font-family: monospace;background-color: #f0f8ff;border: 1px dotted black;border-radius: 0.25em;box-sizing: border-box;margin-bottom: 0.5em;}#sk-container-id-2 div.sk-estimator:hover {background-color: #d4ebff;}#sk-container-id-2 div.sk-parallel-item::after {content: \"\";width: 100%;border-bottom: 1px solid gray;flex-grow: 1;}#sk-container-id-2 div.sk-label:hover label.sk-toggleable__label {background-color: #d4ebff;}#sk-container-id-2 div.sk-serial::before {content: \"\";position: absolute;border-left: 1px solid gray;box-sizing: border-box;top: 0;bottom: 0;left: 50%;z-index: 0;}#sk-container-id-2 div.sk-serial {display: flex;flex-direction: column;align-items: center;background-color: white;padding-right: 0.2em;padding-left: 0.2em;position: relative;}#sk-container-id-2 div.sk-item {position: relative;z-index: 1;}#sk-container-id-2 div.sk-parallel {display: flex;align-items: stretch;justify-content: center;background-color: white;position: relative;}#sk-container-id-2 div.sk-item::before, #sk-container-id-2 div.sk-parallel-item::before {content: \"\";position: absolute;border-left: 1px solid gray;box-sizing: border-box;top: 0;bottom: 0;left: 50%;z-index: -1;}#sk-container-id-2 div.sk-parallel-item {display: flex;flex-direction: column;z-index: 1;position: relative;background-color: white;}#sk-container-id-2 div.sk-parallel-item:first-child::after {align-self: flex-end;width: 50%;}#sk-container-id-2 div.sk-parallel-item:last-child::after {align-self: flex-start;width: 50%;}#sk-container-id-2 div.sk-parallel-item:only-child::after {width: 0;}#sk-container-id-2 div.sk-dashed-wrapped {border: 1px dashed gray;margin: 0 0.4em 0.5em 0.4em;box-sizing: border-box;padding-bottom: 0.4em;background-color: white;}#sk-container-id-2 div.sk-label label {font-family: monospace;font-weight: bold;display: inline-block;line-height: 1.2em;}#sk-container-id-2 div.sk-label-container {text-align: center;}#sk-container-id-2 div.sk-container {/* jupyter's `normalize.less` sets `[hidden] { display: none; }` but bootstrap.min.css set `[hidden] { display: none !important; }` so we also need the `!important` here to be able to override the default hidden behavior on the sphinx rendered scikit-learn.org. See: https://github.com/scikit-learn/scikit-learn/issues/21755 */display: inline-block !important;position: relative;}#sk-container-id-2 div.sk-text-repr-fallback {display: none;}</style><div id=\"sk-container-id-2\" class=\"sk-top-container\"><div class=\"sk-text-repr-fallback\"><pre>RandomForestRegressor()</pre><b>In a Jupyter environment, please rerun this cell to show the HTML representation or trust the notebook. <br />On GitHub, the HTML representation is unable to render, please try loading this page with nbviewer.org.</b></div><div class=\"sk-container\" hidden><div class=\"sk-item\"><div class=\"sk-estimator sk-toggleable\"><input class=\"sk-toggleable__control sk-hidden--visually\" id=\"sk-estimator-id-2\" type=\"checkbox\" checked><label for=\"sk-estimator-id-2\" class=\"sk-toggleable__label sk-toggleable__label-arrow\">RandomForestRegressor</label><div class=\"sk-toggleable__content\"><pre>RandomForestRegressor()</pre></div></div></div></div></div>"
      ],
      "text/plain": [
       "RandomForestRegressor()"
      ]
     },
     "execution_count": 74,
     "metadata": {},
     "output_type": "execute_result"
    }
   ],
   "source": [
    "model"
   ]
  },
  {
   "cell_type": "code",
   "execution_count": 78,
   "id": "3ef87c8b",
   "metadata": {},
   "outputs": [
    {
     "data": {
      "text/html": [
       "<style>#sk-container-id-3 {color: black;background-color: white;}#sk-container-id-3 pre{padding: 0;}#sk-container-id-3 div.sk-toggleable {background-color: white;}#sk-container-id-3 label.sk-toggleable__label {cursor: pointer;display: block;width: 100%;margin-bottom: 0;padding: 0.3em;box-sizing: border-box;text-align: center;}#sk-container-id-3 label.sk-toggleable__label-arrow:before {content: \"▸\";float: left;margin-right: 0.25em;color: #696969;}#sk-container-id-3 label.sk-toggleable__label-arrow:hover:before {color: black;}#sk-container-id-3 div.sk-estimator:hover label.sk-toggleable__label-arrow:before {color: black;}#sk-container-id-3 div.sk-toggleable__content {max-height: 0;max-width: 0;overflow: hidden;text-align: left;background-color: #f0f8ff;}#sk-container-id-3 div.sk-toggleable__content pre {margin: 0.2em;color: black;border-radius: 0.25em;background-color: #f0f8ff;}#sk-container-id-3 input.sk-toggleable__control:checked~div.sk-toggleable__content {max-height: 200px;max-width: 100%;overflow: auto;}#sk-container-id-3 input.sk-toggleable__control:checked~label.sk-toggleable__label-arrow:before {content: \"▾\";}#sk-container-id-3 div.sk-estimator input.sk-toggleable__control:checked~label.sk-toggleable__label {background-color: #d4ebff;}#sk-container-id-3 div.sk-label input.sk-toggleable__control:checked~label.sk-toggleable__label {background-color: #d4ebff;}#sk-container-id-3 input.sk-hidden--visually {border: 0;clip: rect(1px 1px 1px 1px);clip: rect(1px, 1px, 1px, 1px);height: 1px;margin: -1px;overflow: hidden;padding: 0;position: absolute;width: 1px;}#sk-container-id-3 div.sk-estimator {font-family: monospace;background-color: #f0f8ff;border: 1px dotted black;border-radius: 0.25em;box-sizing: border-box;margin-bottom: 0.5em;}#sk-container-id-3 div.sk-estimator:hover {background-color: #d4ebff;}#sk-container-id-3 div.sk-parallel-item::after {content: \"\";width: 100%;border-bottom: 1px solid gray;flex-grow: 1;}#sk-container-id-3 div.sk-label:hover label.sk-toggleable__label {background-color: #d4ebff;}#sk-container-id-3 div.sk-serial::before {content: \"\";position: absolute;border-left: 1px solid gray;box-sizing: border-box;top: 0;bottom: 0;left: 50%;z-index: 0;}#sk-container-id-3 div.sk-serial {display: flex;flex-direction: column;align-items: center;background-color: white;padding-right: 0.2em;padding-left: 0.2em;position: relative;}#sk-container-id-3 div.sk-item {position: relative;z-index: 1;}#sk-container-id-3 div.sk-parallel {display: flex;align-items: stretch;justify-content: center;background-color: white;position: relative;}#sk-container-id-3 div.sk-item::before, #sk-container-id-3 div.sk-parallel-item::before {content: \"\";position: absolute;border-left: 1px solid gray;box-sizing: border-box;top: 0;bottom: 0;left: 50%;z-index: -1;}#sk-container-id-3 div.sk-parallel-item {display: flex;flex-direction: column;z-index: 1;position: relative;background-color: white;}#sk-container-id-3 div.sk-parallel-item:first-child::after {align-self: flex-end;width: 50%;}#sk-container-id-3 div.sk-parallel-item:last-child::after {align-self: flex-start;width: 50%;}#sk-container-id-3 div.sk-parallel-item:only-child::after {width: 0;}#sk-container-id-3 div.sk-dashed-wrapped {border: 1px dashed gray;margin: 0 0.4em 0.5em 0.4em;box-sizing: border-box;padding-bottom: 0.4em;background-color: white;}#sk-container-id-3 div.sk-label label {font-family: monospace;font-weight: bold;display: inline-block;line-height: 1.2em;}#sk-container-id-3 div.sk-label-container {text-align: center;}#sk-container-id-3 div.sk-container {/* jupyter's `normalize.less` sets `[hidden] { display: none; }` but bootstrap.min.css set `[hidden] { display: none !important; }` so we also need the `!important` here to be able to override the default hidden behavior on the sphinx rendered scikit-learn.org. See: https://github.com/scikit-learn/scikit-learn/issues/21755 */display: inline-block !important;position: relative;}#sk-container-id-3 div.sk-text-repr-fallback {display: none;}</style><div id=\"sk-container-id-3\" class=\"sk-top-container\"><div class=\"sk-text-repr-fallback\"><pre>RandomForestRegressor()</pre><b>In a Jupyter environment, please rerun this cell to show the HTML representation or trust the notebook. <br />On GitHub, the HTML representation is unable to render, please try loading this page with nbviewer.org.</b></div><div class=\"sk-container\" hidden><div class=\"sk-item\"><div class=\"sk-estimator sk-toggleable\"><input class=\"sk-toggleable__control sk-hidden--visually\" id=\"sk-estimator-id-3\" type=\"checkbox\" checked><label for=\"sk-estimator-id-3\" class=\"sk-toggleable__label sk-toggleable__label-arrow\">RandomForestRegressor</label><div class=\"sk-toggleable__content\"><pre>RandomForestRegressor()</pre></div></div></div></div></div>"
      ],
      "text/plain": [
       "RandomForestRegressor()"
      ]
     },
     "execution_count": 78,
     "metadata": {},
     "output_type": "execute_result"
    }
   ],
   "source": [
    "model.fit(X,y)"
   ]
  },
  {
   "cell_type": "code",
   "execution_count": 79,
   "id": "f562a308",
   "metadata": {},
   "outputs": [
    {
     "data": {
      "text/plain": [
       "0.9861570955172266"
      ]
     },
     "execution_count": 79,
     "metadata": {},
     "output_type": "execute_result"
    }
   ],
   "source": [
    "model.score(X,y)"
   ]
  },
  {
   "cell_type": "code",
   "execution_count": 81,
   "id": "c6f0d863",
   "metadata": {},
   "outputs": [],
   "source": [
    "submission=model.predict(test)"
   ]
  },
  {
   "cell_type": "code",
   "execution_count": 86,
   "id": "061e6ef8",
   "metadata": {},
   "outputs": [
    {
     "data": {
      "text/html": [
       "<div>\n",
       "<style scoped>\n",
       "    .dataframe tbody tr th:only-of-type {\n",
       "        vertical-align: middle;\n",
       "    }\n",
       "\n",
       "    .dataframe tbody tr th {\n",
       "        vertical-align: top;\n",
       "    }\n",
       "\n",
       "    .dataframe thead th {\n",
       "        text-align: right;\n",
       "    }\n",
       "</style>\n",
       "<table border=\"1\" class=\"dataframe\">\n",
       "  <thead>\n",
       "    <tr style=\"text-align: right;\">\n",
       "      <th></th>\n",
       "      <th>Price</th>\n",
       "    </tr>\n",
       "  </thead>\n",
       "  <tbody>\n",
       "    <tr>\n",
       "      <th>0</th>\n",
       "      <td>14722.400000</td>\n",
       "    </tr>\n",
       "    <tr>\n",
       "      <th>1</th>\n",
       "      <td>4234.360000</td>\n",
       "    </tr>\n",
       "    <tr>\n",
       "      <th>2</th>\n",
       "      <td>12898.000000</td>\n",
       "    </tr>\n",
       "    <tr>\n",
       "      <th>3</th>\n",
       "      <td>12974.739167</td>\n",
       "    </tr>\n",
       "    <tr>\n",
       "      <th>4</th>\n",
       "      <td>3769.390000</td>\n",
       "    </tr>\n",
       "    <tr>\n",
       "      <th>...</th>\n",
       "      <td>...</td>\n",
       "    </tr>\n",
       "    <tr>\n",
       "      <th>2666</th>\n",
       "      <td>10224.000000</td>\n",
       "    </tr>\n",
       "    <tr>\n",
       "      <th>2667</th>\n",
       "      <td>4632.550000</td>\n",
       "    </tr>\n",
       "    <tr>\n",
       "      <th>2668</th>\n",
       "      <td>16251.920000</td>\n",
       "    </tr>\n",
       "    <tr>\n",
       "      <th>2669</th>\n",
       "      <td>13500.290000</td>\n",
       "    </tr>\n",
       "    <tr>\n",
       "      <th>2670</th>\n",
       "      <td>7361.430000</td>\n",
       "    </tr>\n",
       "  </tbody>\n",
       "</table>\n",
       "<p>2671 rows × 1 columns</p>\n",
       "</div>"
      ],
      "text/plain": [
       "             Price\n",
       "0     14722.400000\n",
       "1      4234.360000\n",
       "2     12898.000000\n",
       "3     12974.739167\n",
       "4      3769.390000\n",
       "...            ...\n",
       "2666  10224.000000\n",
       "2667   4632.550000\n",
       "2668  16251.920000\n",
       "2669  13500.290000\n",
       "2670   7361.430000\n",
       "\n",
       "[2671 rows x 1 columns]"
      ]
     },
     "execution_count": 86,
     "metadata": {},
     "output_type": "execute_result"
    }
   ],
   "source": [
    "pd.DataFrame({\"Price\":submission}).to_excel(\"Submission.xlsx\",header)"
   ]
  },
  {
   "cell_type": "code",
   "execution_count": 85,
   "id": "a4b7afc3",
   "metadata": {},
   "outputs": [],
   "source": [
    "submission.tofile(\"submission.csv\")"
   ]
  },
  {
   "cell_type": "code",
   "execution_count": null,
   "id": "9a9fb6cb",
   "metadata": {},
   "outputs": [],
   "source": []
  },
  {
   "cell_type": "code",
   "execution_count": null,
   "id": "812267ea",
   "metadata": {},
   "outputs": [],
   "source": []
  },
  {
   "cell_type": "code",
   "execution_count": null,
   "id": "165818c2",
   "metadata": {},
   "outputs": [],
   "source": []
  }
 ],
 "metadata": {
  "kernelspec": {
   "display_name": "Python 3 (ipykernel)",
   "language": "python",
   "name": "python3"
  },
  "language_info": {
   "codemirror_mode": {
    "name": "ipython",
    "version": 3
   },
   "file_extension": ".py",
   "mimetype": "text/x-python",
   "name": "python",
   "nbconvert_exporter": "python",
   "pygments_lexer": "ipython3",
   "version": "3.9.7"
  }
 },
 "nbformat": 4,
 "nbformat_minor": 5
}
