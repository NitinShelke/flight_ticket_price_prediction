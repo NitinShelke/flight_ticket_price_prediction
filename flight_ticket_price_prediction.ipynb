{
 "cells": [
  {
   "cell_type": "markdown",
   "id": "e837c62d",
   "metadata": {},
   "source": [
    "# Import the libraries"
   ]
  },
  {
   "cell_type": "code",
   "execution_count": 1,
   "id": "7c5bd4c1",
   "metadata": {},
   "outputs": [],
   "source": [
    "import pandas as pd\n",
    "import numpy as np\n",
    "\n",
    "from matplotlib import pyplot as plt\n",
    "import seaborn as sns\n",
    "\n",
    "import warnings\n",
    "warnings.filterwarnings(\"ignore\")"
   ]
  },
  {
   "cell_type": "code",
   "execution_count": 2,
   "id": "7abb39d1",
   "metadata": {},
   "outputs": [],
   "source": [
    "sns.set_style(\"darkgrid\")"
   ]
  },
  {
   "cell_type": "markdown",
   "id": "c352c3fc",
   "metadata": {},
   "source": [
    "# Import the data"
   ]
  },
  {
   "cell_type": "code",
   "execution_count": 3,
   "id": "a1be35dc",
   "metadata": {},
   "outputs": [],
   "source": [
    "train=pd.read_excel(\"Data_Train.xlsx\")\n",
    "test=pd.read_excel(\"Test_set.xlsx\")\n"
   ]
  },
  {
   "cell_type": "code",
   "execution_count": 4,
   "id": "734af706",
   "metadata": {},
   "outputs": [],
   "source": [
    "train.columns=train.columns.str.lower()\n",
    "test.columns=test.columns.str.lower()"
   ]
  },
  {
   "cell_type": "code",
   "execution_count": null,
   "id": "365b64c0",
   "metadata": {},
   "outputs": [],
   "source": []
  },
  {
   "cell_type": "markdown",
   "id": "ac7aac1e",
   "metadata": {},
   "source": [
    "# EDA"
   ]
  },
  {
   "cell_type": "code",
   "execution_count": 5,
   "id": "1f03420a",
   "metadata": {},
   "outputs": [
    {
     "name": "stdout",
     "output_type": "stream",
     "text": [
      "<class 'pandas.core.frame.DataFrame'>\n",
      "RangeIndex: 10683 entries, 0 to 10682\n",
      "Data columns (total 11 columns):\n",
      " #   Column           Non-Null Count  Dtype \n",
      "---  ------           --------------  ----- \n",
      " 0   airline          10683 non-null  object\n",
      " 1   date_of_journey  10683 non-null  object\n",
      " 2   source           10683 non-null  object\n",
      " 3   destination      10683 non-null  object\n",
      " 4   route            10682 non-null  object\n",
      " 5   dep_time         10683 non-null  object\n",
      " 6   arrival_time     10683 non-null  object\n",
      " 7   duration         10683 non-null  object\n",
      " 8   total_stops      10682 non-null  object\n",
      " 9   additional_info  10683 non-null  object\n",
      " 10  price            10683 non-null  int64 \n",
      "dtypes: int64(1), object(10)\n",
      "memory usage: 918.2+ KB\n"
     ]
    }
   ],
   "source": [
    "train.info()"
   ]
  },
  {
   "cell_type": "code",
   "execution_count": 6,
   "id": "4fb02a4c",
   "metadata": {},
   "outputs": [
    {
     "data": {
      "text/plain": [
       "airline            0\n",
       "date_of_journey    0\n",
       "source             0\n",
       "destination        0\n",
       "route              1\n",
       "dep_time           0\n",
       "arrival_time       0\n",
       "duration           0\n",
       "total_stops        1\n",
       "additional_info    0\n",
       "price              0\n",
       "dtype: int64"
      ]
     },
     "execution_count": 6,
     "metadata": {},
     "output_type": "execute_result"
    }
   ],
   "source": [
    "train.isna().sum()"
   ]
  },
  {
   "cell_type": "code",
   "execution_count": 7,
   "id": "073a1608",
   "metadata": {},
   "outputs": [],
   "source": [
    "train.dropna(inplace=True)"
   ]
  },
  {
   "cell_type": "markdown",
   "id": "4f5221b3",
   "metadata": {},
   "source": [
    "There is one value missing in route and total_stops. we are dropping that"
   ]
  },
  {
   "cell_type": "code",
   "execution_count": 8,
   "id": "7cd4d6f4",
   "metadata": {},
   "outputs": [
    {
     "data": {
      "text/plain": [
       "220"
      ]
     },
     "execution_count": 8,
     "metadata": {},
     "output_type": "execute_result"
    }
   ],
   "source": [
    "train.duplicated().sum()"
   ]
  },
  {
   "cell_type": "code",
   "execution_count": 9,
   "id": "92b24d79",
   "metadata": {},
   "outputs": [],
   "source": [
    "# there are 220 duplicates values in data.\n",
    "# we are removing that \n",
    "train.drop_duplicates(keep='first',inplace=True)\n",
    "train.reset_index(drop=True,inplace=True)"
   ]
  },
  {
   "cell_type": "code",
   "execution_count": 10,
   "id": "d09a0e3b",
   "metadata": {},
   "outputs": [
    {
     "data": {
      "text/plain": [
       "((10462, 11), (2671, 10))"
      ]
     },
     "execution_count": 10,
     "metadata": {},
     "output_type": "execute_result"
    }
   ],
   "source": [
    "train.shape,test.shape"
   ]
  },
  {
   "cell_type": "code",
   "execution_count": 11,
   "id": "656496c9",
   "metadata": {},
   "outputs": [],
   "source": [
    "data=pd.concat([train,test],axis=0)\n",
    "data.reset_index(drop=True,inplace=True)"
   ]
  },
  {
   "cell_type": "code",
   "execution_count": 12,
   "id": "080d2991",
   "metadata": {},
   "outputs": [
    {
     "name": "stdout",
     "output_type": "stream",
     "text": [
      "<class 'pandas.core.frame.DataFrame'>\n",
      "RangeIndex: 13133 entries, 0 to 13132\n",
      "Data columns (total 11 columns):\n",
      " #   Column           Non-Null Count  Dtype  \n",
      "---  ------           --------------  -----  \n",
      " 0   airline          13133 non-null  object \n",
      " 1   date_of_journey  13133 non-null  object \n",
      " 2   source           13133 non-null  object \n",
      " 3   destination      13133 non-null  object \n",
      " 4   route            13133 non-null  object \n",
      " 5   dep_time         13133 non-null  object \n",
      " 6   arrival_time     13133 non-null  object \n",
      " 7   duration         13133 non-null  object \n",
      " 8   total_stops      13133 non-null  object \n",
      " 9   additional_info  13133 non-null  object \n",
      " 10  price            10462 non-null  float64\n",
      "dtypes: float64(1), object(10)\n",
      "memory usage: 1.1+ MB\n"
     ]
    }
   ],
   "source": [
    "data.info()"
   ]
  },
  {
   "cell_type": "code",
   "execution_count": 13,
   "id": "416b4398",
   "metadata": {},
   "outputs": [
    {
     "data": {
      "text/plain": [
       "array(['24/03/2019', '1/05/2019', '9/06/2019', '12/05/2019', '01/03/2019',\n",
       "       '24/06/2019', '12/03/2019', '27/05/2019', '1/06/2019',\n",
       "       '18/04/2019', '9/05/2019', '24/04/2019', '3/03/2019', '15/04/2019',\n",
       "       '12/06/2019', '6/03/2019', '21/03/2019', '3/04/2019', '6/05/2019',\n",
       "       '15/05/2019', '18/06/2019', '15/06/2019', '6/04/2019',\n",
       "       '18/05/2019', '27/06/2019', '21/05/2019', '06/03/2019',\n",
       "       '3/06/2019', '15/03/2019', '3/05/2019', '9/03/2019', '6/06/2019',\n",
       "       '24/05/2019', '09/03/2019', '1/04/2019', '21/04/2019',\n",
       "       '21/06/2019', '27/03/2019', '18/03/2019', '12/04/2019',\n",
       "       '9/04/2019', '1/03/2019', '03/03/2019', '27/04/2019'], dtype=object)"
      ]
     },
     "execution_count": 13,
     "metadata": {},
     "output_type": "execute_result"
    }
   ],
   "source": [
    "data['date_of_journey'].unique()"
   ]
  },
  {
   "cell_type": "code",
   "execution_count": 14,
   "id": "e2d3f3e4",
   "metadata": {},
   "outputs": [],
   "source": [
    "train['date_of_journey']=pd.to_datetime(train.date_of_journey,format='%d/%m/%Y')"
   ]
  },
  {
   "cell_type": "code",
   "execution_count": 15,
   "id": "ce4752c8",
   "metadata": {},
   "outputs": [
    {
     "data": {
      "text/plain": [
       "<AxesSubplot:xlabel='airline', ylabel='count'>"
      ]
     },
     "execution_count": 15,
     "metadata": {},
     "output_type": "execute_result"
    },
    {
     "data": {
      "image/png": "[encoded data removed]",
      "text/plain": [
       "<Figure size 864x576 with 1 Axes>"
      ]
     },
     "metadata": {},
     "output_type": "display_data"
    }
   ],
   "source": [
    "plt.figure(figsize=(12,8))\n",
    "sns.countplot(train['airline'])"
   ]
  },
  {
   "cell_type": "code",
   "execution_count": 16,
   "id": "69efc2cf",
   "metadata": {},
   "outputs": [
    {
     "data": {
      "text/plain": [
       "array(['IndiGo', 'Air India', 'Jet Airways', 'SpiceJet',\n",
       "       'Multiple carriers', 'GoAir', 'Vistara', 'Air Asia',\n",
       "       'Vistara Premium economy', 'Jet Airways Business',\n",
       "       'Multiple carriers Premium economy', 'Trujet'], dtype=object)"
      ]
     },
     "execution_count": 16,
     "metadata": {},
     "output_type": "execute_result"
    }
   ],
   "source": [
    "data.airline.unique()"
   ]
  },
  {
   "cell_type": "code",
   "execution_count": 17,
   "id": "2086fd6a",
   "metadata": {},
   "outputs": [
    {
     "data": {
      "text/plain": [
       "array(['Banglore', 'Kolkata', 'Delhi', 'Chennai', 'Mumbai'], dtype=object)"
      ]
     },
     "execution_count": 17,
     "metadata": {},
     "output_type": "execute_result"
    }
   ],
   "source": [
    "data.source.unique()"
   ]
  },
  {
   "cell_type": "code",
   "execution_count": 18,
   "id": "4676cf9e",
   "metadata": {},
   "outputs": [
    {
     "data": {
      "text/plain": [
       "array(['New Delhi', 'Banglore', 'Cochin', 'Kolkata', 'Delhi', 'Hyderabad'],\n",
       "      dtype=object)"
      ]
     },
     "execution_count": 18,
     "metadata": {},
     "output_type": "execute_result"
    }
   ],
   "source": [
    "data.destination.unique()"
   ]
  },
  {
   "cell_type": "code",
   "execution_count": 19,
   "id": "891dcc18",
   "metadata": {},
   "outputs": [],
   "source": [
    "data.route=data.route.apply(lambda x:str(x).replace('→','_'))\n",
    "data.route=data.route.apply(lambda x:str(x).replace(' ',''))\n",
    "data.replace('nan',np.nan,inplace=True)"
   ]
  },
  {
   "cell_type": "code",
   "execution_count": 20,
   "id": "dc198911",
   "metadata": {},
   "outputs": [
    {
     "data": {
      "text/plain": [
       "array(['No info', 'In-flight meal not included',\n",
       "       'No check-in baggage included', '1 Short layover', 'No Info',\n",
       "       '1 Long layover', 'Change airports', 'Business class',\n",
       "       'Red-eye flight', '2 Long layover'], dtype=object)"
      ]
     },
     "execution_count": 20,
     "metadata": {},
     "output_type": "execute_result"
    }
   ],
   "source": [
    "data.additional_info.unique()"
   ]
  },
  {
   "cell_type": "code",
   "execution_count": 21,
   "id": "10ec61fa",
   "metadata": {},
   "outputs": [],
   "source": [
    "data.replace('No Info','No info',inplace=True)"
   ]
  },
  {
   "cell_type": "code",
   "execution_count": 22,
   "id": "37a394f3",
   "metadata": {},
   "outputs": [
    {
     "data": {
      "text/plain": [
       "array(['non-stop', '2 stops', '1 stop', '3 stops', '4 stops'],\n",
       "      dtype=object)"
      ]
     },
     "execution_count": 22,
     "metadata": {},
     "output_type": "execute_result"
    }
   ],
   "source": [
    "data['total_stops'].unique()"
   ]
  },
  {
   "cell_type": "code",
   "execution_count": 23,
   "id": "e30e3956",
   "metadata": {},
   "outputs": [],
   "source": [
    "data['total_stops']=data['total_stops'].apply(lambda x:x.split(' ')[0])\n",
    "data['total_stops'].replace('non-stop',0,inplace=True)\n",
    "data['total_stops']=data['total_stops'].astype('int')"
   ]
  },
  {
   "cell_type": "code",
   "execution_count": 24,
   "id": "c74c9490",
   "metadata": {},
   "outputs": [],
   "source": [
    "def my_fun(x):\n",
    "    if (('h' in x) & ('m' in x)):\n",
    "        return (int(x.split('h')[0])*60+int(x.replace('m','').split(' ')[1]))\n",
    "    elif ('h' in x):\n",
    "        return (int(x[:-1])*60)\n",
    "    else:\n",
    "        return int(x[:-1])\n",
    "        "
   ]
  },
  {
   "cell_type": "code",
   "execution_count": 25,
   "id": "3bf1e52a",
   "metadata": {},
   "outputs": [],
   "source": [
    "data['duration']=data['duration'].apply(my_fun)"
   ]
  },
  {
   "cell_type": "code",
   "execution_count": 26,
   "id": "fbda8117",
   "metadata": {},
   "outputs": [],
   "source": [
    "data['day_of_journy']=pd.DatetimeIndex(data['date_of_journey']).day\n",
    "data['month_of_journy']=pd.DatetimeIndex(data['date_of_journey']).month\n",
    "data['year_of_journy']=pd.DatetimeIndex(data['date_of_journey']).year"
   ]
  },
  {
   "cell_type": "code",
   "execution_count": 27,
   "id": "4718112c",
   "metadata": {},
   "outputs": [],
   "source": [
    "data['day_of_journy']=data['day_of_journy'].astype(\"str\")\n",
    "data['month_of_journy']=data['month_of_journy'].astype(\"str\")\n",
    "data['year_of_journy']=data['year_of_journy'].astype(\"str\")"
   ]
  },
  {
   "cell_type": "code",
   "execution_count": 28,
   "id": "8e1f1c7a",
   "metadata": {},
   "outputs": [],
   "source": [
    "data['dep_time']=data.dep_time.apply(lambda x:( (int(x.split(':')[0])*60) + (int(x.split(':')[1]))))"
   ]
  },
  {
   "cell_type": "code",
   "execution_count": 29,
   "id": "6d618309",
   "metadata": {},
   "outputs": [],
   "source": [
    "data.drop(['date_of_journey','arrival_time'],axis=1,inplace=True)"
   ]
  },
  {
   "cell_type": "code",
   "execution_count": 30,
   "id": "47ef3e95",
   "metadata": {},
   "outputs": [
    {
     "name": "stdout",
     "output_type": "stream",
     "text": [
      "<class 'pandas.core.frame.DataFrame'>\n",
      "RangeIndex: 13133 entries, 0 to 13132\n",
      "Data columns (total 12 columns):\n",
      " #   Column           Non-Null Count  Dtype  \n",
      "---  ------           --------------  -----  \n",
      " 0   airline          13133 non-null  object \n",
      " 1   source           13133 non-null  object \n",
      " 2   destination      13133 non-null  object \n",
      " 3   route            13133 non-null  object \n",
      " 4   dep_time         13133 non-null  int64  \n",
      " 5   duration         13133 non-null  int64  \n",
      " 6   total_stops      13133 non-null  int32  \n",
      " 7   additional_info  13133 non-null  object \n",
      " 8   price            10462 non-null  float64\n",
      " 9   day_of_journy    13133 non-null  object \n",
      " 10  month_of_journy  13133 non-null  object \n",
      " 11  year_of_journy   13133 non-null  object \n",
      "dtypes: float64(1), int32(1), int64(2), object(8)\n",
      "memory usage: 1.2+ MB\n"
     ]
    }
   ],
   "source": [
    "data.info()"
   ]
  },
  {
   "cell_type": "code",
   "execution_count": 31,
   "id": "ff00d325",
   "metadata": {},
   "outputs": [
    {
     "data": {
      "text/html": [
       "<div>\n",
       "<style scoped>\n",
       "    .dataframe tbody tr th:only-of-type {\n",
       "        vertical-align: middle;\n",
       "    }\n",
       "\n",
       "    .dataframe tbody tr th {\n",
       "        vertical-align: top;\n",
       "    }\n",
       "\n",
       "    .dataframe thead th {\n",
       "        text-align: right;\n",
       "    }\n",
       "</style>\n",
       "<table border=\"1\" class=\"dataframe\">\n",
       "  <thead>\n",
       "    <tr style=\"text-align: right;\">\n",
       "      <th></th>\n",
       "      <th>airline</th>\n",
       "      <th>source</th>\n",
       "      <th>destination</th>\n",
       "      <th>route</th>\n",
       "      <th>dep_time</th>\n",
       "      <th>duration</th>\n",
       "      <th>total_stops</th>\n",
       "      <th>additional_info</th>\n",
       "      <th>price</th>\n",
       "      <th>day_of_journy</th>\n",
       "      <th>month_of_journy</th>\n",
       "      <th>year_of_journy</th>\n",
       "    </tr>\n",
       "  </thead>\n",
       "  <tbody>\n",
       "    <tr>\n",
       "      <th>0</th>\n",
       "      <td>IndiGo</td>\n",
       "      <td>Banglore</td>\n",
       "      <td>New Delhi</td>\n",
       "      <td>BLR_DEL</td>\n",
       "      <td>1340</td>\n",
       "      <td>170</td>\n",
       "      <td>0</td>\n",
       "      <td>No info</td>\n",
       "      <td>3897.0</td>\n",
       "      <td>24</td>\n",
       "      <td>3</td>\n",
       "      <td>2019</td>\n",
       "    </tr>\n",
       "    <tr>\n",
       "      <th>1</th>\n",
       "      <td>Air India</td>\n",
       "      <td>Kolkata</td>\n",
       "      <td>Banglore</td>\n",
       "      <td>CCU_IXR_BBI_BLR</td>\n",
       "      <td>350</td>\n",
       "      <td>445</td>\n",
       "      <td>2</td>\n",
       "      <td>No info</td>\n",
       "      <td>7662.0</td>\n",
       "      <td>5</td>\n",
       "      <td>1</td>\n",
       "      <td>2019</td>\n",
       "    </tr>\n",
       "    <tr>\n",
       "      <th>2</th>\n",
       "      <td>Jet Airways</td>\n",
       "      <td>Delhi</td>\n",
       "      <td>Cochin</td>\n",
       "      <td>DEL_LKO_BOM_COK</td>\n",
       "      <td>565</td>\n",
       "      <td>1140</td>\n",
       "      <td>2</td>\n",
       "      <td>No info</td>\n",
       "      <td>13882.0</td>\n",
       "      <td>6</td>\n",
       "      <td>9</td>\n",
       "      <td>2019</td>\n",
       "    </tr>\n",
       "    <tr>\n",
       "      <th>3</th>\n",
       "      <td>IndiGo</td>\n",
       "      <td>Kolkata</td>\n",
       "      <td>Banglore</td>\n",
       "      <td>CCU_NAG_BLR</td>\n",
       "      <td>1085</td>\n",
       "      <td>325</td>\n",
       "      <td>1</td>\n",
       "      <td>No info</td>\n",
       "      <td>6218.0</td>\n",
       "      <td>5</td>\n",
       "      <td>12</td>\n",
       "      <td>2019</td>\n",
       "    </tr>\n",
       "    <tr>\n",
       "      <th>4</th>\n",
       "      <td>IndiGo</td>\n",
       "      <td>Banglore</td>\n",
       "      <td>New Delhi</td>\n",
       "      <td>BLR_NAG_DEL</td>\n",
       "      <td>1010</td>\n",
       "      <td>285</td>\n",
       "      <td>1</td>\n",
       "      <td>No info</td>\n",
       "      <td>13302.0</td>\n",
       "      <td>3</td>\n",
       "      <td>1</td>\n",
       "      <td>2019</td>\n",
       "    </tr>\n",
       "    <tr>\n",
       "      <th>...</th>\n",
       "      <td>...</td>\n",
       "      <td>...</td>\n",
       "      <td>...</td>\n",
       "      <td>...</td>\n",
       "      <td>...</td>\n",
       "      <td>...</td>\n",
       "      <td>...</td>\n",
       "      <td>...</td>\n",
       "      <td>...</td>\n",
       "      <td>...</td>\n",
       "      <td>...</td>\n",
       "      <td>...</td>\n",
       "    </tr>\n",
       "    <tr>\n",
       "      <th>13128</th>\n",
       "      <td>Air India</td>\n",
       "      <td>Kolkata</td>\n",
       "      <td>Banglore</td>\n",
       "      <td>CCU_DEL_BLR</td>\n",
       "      <td>1230</td>\n",
       "      <td>1435</td>\n",
       "      <td>1</td>\n",
       "      <td>No info</td>\n",
       "      <td>NaN</td>\n",
       "      <td>6</td>\n",
       "      <td>6</td>\n",
       "      <td>2019</td>\n",
       "    </tr>\n",
       "    <tr>\n",
       "      <th>13129</th>\n",
       "      <td>IndiGo</td>\n",
       "      <td>Kolkata</td>\n",
       "      <td>Banglore</td>\n",
       "      <td>CCU_BLR</td>\n",
       "      <td>860</td>\n",
       "      <td>155</td>\n",
       "      <td>0</td>\n",
       "      <td>No info</td>\n",
       "      <td>NaN</td>\n",
       "      <td>27</td>\n",
       "      <td>3</td>\n",
       "      <td>2019</td>\n",
       "    </tr>\n",
       "    <tr>\n",
       "      <th>13130</th>\n",
       "      <td>Jet Airways</td>\n",
       "      <td>Delhi</td>\n",
       "      <td>Cochin</td>\n",
       "      <td>DEL_BOM_COK</td>\n",
       "      <td>1310</td>\n",
       "      <td>395</td>\n",
       "      <td>1</td>\n",
       "      <td>No info</td>\n",
       "      <td>NaN</td>\n",
       "      <td>3</td>\n",
       "      <td>6</td>\n",
       "      <td>2019</td>\n",
       "    </tr>\n",
       "    <tr>\n",
       "      <th>13131</th>\n",
       "      <td>Air India</td>\n",
       "      <td>Delhi</td>\n",
       "      <td>Cochin</td>\n",
       "      <td>DEL_BOM_COK</td>\n",
       "      <td>240</td>\n",
       "      <td>915</td>\n",
       "      <td>1</td>\n",
       "      <td>No info</td>\n",
       "      <td>NaN</td>\n",
       "      <td>3</td>\n",
       "      <td>6</td>\n",
       "      <td>2019</td>\n",
       "    </tr>\n",
       "    <tr>\n",
       "      <th>13132</th>\n",
       "      <td>Multiple carriers</td>\n",
       "      <td>Delhi</td>\n",
       "      <td>Cochin</td>\n",
       "      <td>DEL_BOM_COK</td>\n",
       "      <td>295</td>\n",
       "      <td>860</td>\n",
       "      <td>1</td>\n",
       "      <td>No info</td>\n",
       "      <td>NaN</td>\n",
       "      <td>15</td>\n",
       "      <td>6</td>\n",
       "      <td>2019</td>\n",
       "    </tr>\n",
       "  </tbody>\n",
       "</table>\n",
       "<p>13133 rows × 12 columns</p>\n",
       "</div>"
      ],
      "text/plain": [
       "                 airline    source destination            route  dep_time  \\\n",
       "0                 IndiGo  Banglore   New Delhi          BLR_DEL      1340   \n",
       "1              Air India   Kolkata    Banglore  CCU_IXR_BBI_BLR       350   \n",
       "2            Jet Airways     Delhi      Cochin  DEL_LKO_BOM_COK       565   \n",
       "3                 IndiGo   Kolkata    Banglore      CCU_NAG_BLR      1085   \n",
       "4                 IndiGo  Banglore   New Delhi      BLR_NAG_DEL      1010   \n",
       "...                  ...       ...         ...              ...       ...   \n",
       "13128          Air India   Kolkata    Banglore      CCU_DEL_BLR      1230   \n",
       "13129             IndiGo   Kolkata    Banglore          CCU_BLR       860   \n",
       "13130        Jet Airways     Delhi      Cochin      DEL_BOM_COK      1310   \n",
       "13131          Air India     Delhi      Cochin      DEL_BOM_COK       240   \n",
       "13132  Multiple carriers     Delhi      Cochin      DEL_BOM_COK       295   \n",
       "\n",
       "       duration  total_stops additional_info    price day_of_journy  \\\n",
       "0           170            0         No info   3897.0            24   \n",
       "1           445            2         No info   7662.0             5   \n",
       "2          1140            2         No info  13882.0             6   \n",
       "3           325            1         No info   6218.0             5   \n",
       "4           285            1         No info  13302.0             3   \n",
       "...         ...          ...             ...      ...           ...   \n",
       "13128      1435            1         No info      NaN             6   \n",
       "13129       155            0         No info      NaN            27   \n",
       "13130       395            1         No info      NaN             3   \n",
       "13131       915            1         No info      NaN             3   \n",
       "13132       860            1         No info      NaN            15   \n",
       "\n",
       "      month_of_journy year_of_journy  \n",
       "0                   3           2019  \n",
       "1                   1           2019  \n",
       "2                   9           2019  \n",
       "3                  12           2019  \n",
       "4                   1           2019  \n",
       "...               ...            ...  \n",
       "13128               6           2019  \n",
       "13129               3           2019  \n",
       "13130               6           2019  \n",
       "13131               6           2019  \n",
       "13132               6           2019  \n",
       "\n",
       "[13133 rows x 12 columns]"
      ]
     },
     "execution_count": 31,
     "metadata": {},
     "output_type": "execute_result"
    }
   ],
   "source": [
    "data"
   ]
  },
  {
   "cell_type": "code",
   "execution_count": 32,
   "id": "3f8dcb88",
   "metadata": {},
   "outputs": [
    {
     "data": {
      "text/plain": [
       "array(['BLR_DEL', 'CCU_IXR_BBI_BLR', 'DEL_LKO_BOM_COK', 'CCU_NAG_BLR',\n",
       "       'BLR_NAG_DEL', 'CCU_BLR', 'BLR_BOM_DEL', 'DEL_BOM_COK',\n",
       "       'DEL_BLR_COK', 'MAA_CCU', 'CCU_BOM_BLR', 'DEL_AMD_BOM_COK',\n",
       "       'DEL_PNQ_COK', 'DEL_CCU_BOM_COK', 'BLR_COK_DEL', 'DEL_IDR_BOM_COK',\n",
       "       'DEL_LKO_COK', 'CCU_GAU_DEL_BLR', 'DEL_NAG_BOM_COK', 'CCU_MAA_BLR',\n",
       "       'DEL_HYD_COK', 'CCU_HYD_BLR', 'DEL_COK', 'CCU_DEL_BLR',\n",
       "       'BLR_BOM_AMD_DEL', 'BOM_DEL_HYD', 'DEL_MAA_COK', 'BOM_HYD',\n",
       "       'DEL_BHO_BOM_COK', 'DEL_JAI_BOM_COK', 'DEL_ATQ_BOM_COK',\n",
       "       'DEL_JDH_BOM_COK', 'CCU_BBI_BOM_BLR', 'BLR_MAA_DEL',\n",
       "       'DEL_GOI_BOM_COK', 'DEL_BDQ_BOM_COK', 'CCU_JAI_BOM_BLR',\n",
       "       'CCU_BBI_BLR', 'BLR_HYD_DEL', 'DEL_TRV_COK', 'CCU_IXR_DEL_BLR',\n",
       "       'DEL_IXU_BOM_COK', 'CCU_IXB_BLR', 'BLR_BOM_JDH_DEL',\n",
       "       'DEL_UDR_BOM_COK', 'DEL_HYD_MAA_COK', 'CCU_BOM_COK_BLR',\n",
       "       'BLR_CCU_DEL', 'CCU_BOM_GOI_BLR', 'DEL_RPR_NAG_BOM_COK',\n",
       "       'DEL_HYD_BOM_COK', 'CCU_DEL_AMD_BLR', 'CCU_PNQ_BLR',\n",
       "       'BLR_CCU_GAU_DEL', 'CCU_DEL_COK_BLR', 'BLR_PNQ_DEL',\n",
       "       'BOM_JDH_DEL_HYD', 'BLR_BOM_BHO_DEL', 'DEL_AMD_COK', 'BLR_LKO_DEL',\n",
       "       'CCU_GAU_BLR', 'BOM_GOI_HYD', 'CCU_BOM_AMD_BLR',\n",
       "       'CCU_BBI_IXR_DEL_BLR', 'DEL_DED_BOM_COK', 'DEL_MAA_BOM_COK',\n",
       "       'BLR_AMD_DEL', 'BLR_VGA_DEL', 'CCU_JAI_DEL_BLR', 'CCU_AMD_BLR',\n",
       "       'CCU_VNS_DEL_BLR', 'BLR_BOM_IDR_DEL', 'BLR_BBI_DEL', 'BLR_GOI_DEL',\n",
       "       'BOM_AMD_ISK_HYD', 'BOM_DED_DEL_HYD', 'DEL_IXC_BOM_COK',\n",
       "       'CCU_PAT_BLR', 'BLR_CCU_BBI_DEL', 'CCU_BBI_HYD_BLR',\n",
       "       'BLR_BOM_NAG_DEL', 'BLR_CCU_BBI_HYD_DEL', 'BLR_GAU_DEL',\n",
       "       'BOM_BHO_DEL_HYD', 'BOM_JLR_HYD', 'BLR_HYD_VGA_DEL', 'CCU_KNU_BLR',\n",
       "       'CCU_BOM_PNQ_BLR', 'DEL_BBI_COK', 'BLR_VGA_HYD_DEL',\n",
       "       'BOM_JDH_JAI_DEL_HYD', 'DEL_GWL_IDR_BOM_COK', 'CCU_RPR_HYD_BLR',\n",
       "       'CCU_VTZ_BLR', 'CCU_DEL_VGA_BLR', 'BLR_BOM_IDR_GWL_DEL',\n",
       "       'CCU_DEL_COK_TRV_BLR', 'BOM_COK_MAA_HYD', 'BOM_NDC_HYD',\n",
       "       'BLR_BDQ_DEL', 'CCU_BOM_TRV_BLR', 'CCU_BOM_HBX_BLR',\n",
       "       'BOM_BDQ_DEL_HYD', 'BOM_CCU_HYD', 'BLR_TRV_COK_DEL', 'BLR_IDR_DEL',\n",
       "       'CCU_IXZ_MAA_BLR', 'CCU_GAU_IMF_DEL_BLR', 'BOM_GOI_PNQ_HYD',\n",
       "       'BOM_BLR_CCU_BBI_HYD', 'BOM_MAA_HYD', 'BLR_BOM_UDR_DEL',\n",
       "       'BOM_UDR_DEL_HYD', 'BLR_VGA_VTZ_DEL', 'BLR_HBX_BOM_BHO_DEL',\n",
       "       'CCU_IXA_BLR', 'BOM_RPR_VTZ_HYD', 'BLR_HBX_BOM_AMD_DEL',\n",
       "       'BOM_IDR_DEL_HYD', 'BOM_BLR_HYD', 'BLR_STV_DEL', 'CCU_IXB_DEL_BLR',\n",
       "       'BOM_JAI_DEL_HYD', 'BOM_VNS_DEL_HYD', 'BLR_HBX_BOM_NAG_DEL',\n",
       "       'BLR_BOM_IXC_DEL', 'BLR_CCU_BBI_HYD_VGA_DEL', 'BOM_BBI_HYD',\n",
       "       'BLR_TRV_DEL', 'CCU_IXR_BBI_BOM_BLR', 'BOM_VGA_TIR_HYD',\n",
       "       'BOM_IXC_DEL_HYD'], dtype=object)"
      ]
     },
     "execution_count": 32,
     "metadata": {},
     "output_type": "execute_result"
    }
   ],
   "source": [
    "data['route'].unique()"
   ]
  },
  {
   "cell_type": "code",
   "execution_count": 33,
   "id": "6feef0b3",
   "metadata": {},
   "outputs": [],
   "source": [
    "import category_encoders as ce\n",
    "from sklearn.preprocessing import StandardScaler"
   ]
  },
  {
   "cell_type": "code",
   "execution_count": 34,
   "id": "e9072b05",
   "metadata": {},
   "outputs": [],
   "source": [
    "encoder=ce.CountEncoder(cols=['route'])"
   ]
  },
  {
   "cell_type": "code",
   "execution_count": 35,
   "id": "6f6cd9a7",
   "metadata": {},
   "outputs": [],
   "source": [
    "X=data.drop('price',axis=1)\n",
    "y=data['price']"
   ]
  },
  {
   "cell_type": "code",
   "execution_count": 36,
   "id": "ae61033a",
   "metadata": {},
   "outputs": [
    {
     "data": {
      "text/html": [
       "<style>#sk-container-id-1 {color: black;background-color: white;}#sk-container-id-1 pre{padding: 0;}#sk-container-id-1 div.sk-toggleable {background-color: white;}#sk-container-id-1 label.sk-toggleable__label {cursor: pointer;display: block;width: 100%;margin-bottom: 0;padding: 0.3em;box-sizing: border-box;text-align: center;}#sk-container-id-1 label.sk-toggleable__label-arrow:before {content: \"▸\";float: left;margin-right: 0.25em;color: #696969;}#sk-container-id-1 label.sk-toggleable__label-arrow:hover:before {color: black;}#sk-container-id-1 div.sk-estimator:hover label.sk-toggleable__label-arrow:before {color: black;}#sk-container-id-1 div.sk-toggleable__content {max-height: 0;max-width: 0;overflow: hidden;text-align: left;background-color: #f0f8ff;}#sk-container-id-1 div.sk-toggleable__content pre {margin: 0.2em;color: black;border-radius: 0.25em;background-color: #f0f8ff;}#sk-container-id-1 input.sk-toggleable__control:checked~div.sk-toggleable__content {max-height: 200px;max-width: 100%;overflow: auto;}#sk-container-id-1 input.sk-toggleable__control:checked~label.sk-toggleable__label-arrow:before {content: \"▾\";}#sk-container-id-1 div.sk-estimator input.sk-toggleable__control:checked~label.sk-toggleable__label {background-color: #d4ebff;}#sk-container-id-1 div.sk-label input.sk-toggleable__control:checked~label.sk-toggleable__label {background-color: #d4ebff;}#sk-container-id-1 input.sk-hidden--visually {border: 0;clip: rect(1px 1px 1px 1px);clip: rect(1px, 1px, 1px, 1px);height: 1px;margin: -1px;overflow: hidden;padding: 0;position: absolute;width: 1px;}#sk-container-id-1 div.sk-estimator {font-family: monospace;background-color: #f0f8ff;border: 1px dotted black;border-radius: 0.25em;box-sizing: border-box;margin-bottom: 0.5em;}#sk-container-id-1 div.sk-estimator:hover {background-color: #d4ebff;}#sk-container-id-1 div.sk-parallel-item::after {content: \"\";width: 100%;border-bottom: 1px solid gray;flex-grow: 1;}#sk-container-id-1 div.sk-label:hover label.sk-toggleable__label {background-color: #d4ebff;}#sk-container-id-1 div.sk-serial::before {content: \"\";position: absolute;border-left: 1px solid gray;box-sizing: border-box;top: 0;bottom: 0;left: 50%;z-index: 0;}#sk-container-id-1 div.sk-serial {display: flex;flex-direction: column;align-items: center;background-color: white;padding-right: 0.2em;padding-left: 0.2em;position: relative;}#sk-container-id-1 div.sk-item {position: relative;z-index: 1;}#sk-container-id-1 div.sk-parallel {display: flex;align-items: stretch;justify-content: center;background-color: white;position: relative;}#sk-container-id-1 div.sk-item::before, #sk-container-id-1 div.sk-parallel-item::before {content: \"\";position: absolute;border-left: 1px solid gray;box-sizing: border-box;top: 0;bottom: 0;left: 50%;z-index: -1;}#sk-container-id-1 div.sk-parallel-item {display: flex;flex-direction: column;z-index: 1;position: relative;background-color: white;}#sk-container-id-1 div.sk-parallel-item:first-child::after {align-self: flex-end;width: 50%;}#sk-container-id-1 div.sk-parallel-item:last-child::after {align-self: flex-start;width: 50%;}#sk-container-id-1 div.sk-parallel-item:only-child::after {width: 0;}#sk-container-id-1 div.sk-dashed-wrapped {border: 1px dashed gray;margin: 0 0.4em 0.5em 0.4em;box-sizing: border-box;padding-bottom: 0.4em;background-color: white;}#sk-container-id-1 div.sk-label label {font-family: monospace;font-weight: bold;display: inline-block;line-height: 1.2em;}#sk-container-id-1 div.sk-label-container {text-align: center;}#sk-container-id-1 div.sk-container {/* jupyter's `normalize.less` sets `[hidden] { display: none; }` but bootstrap.min.css set `[hidden] { display: none !important; }` so we also need the `!important` here to be able to override the default hidden behavior on the sphinx rendered scikit-learn.org. See: https://github.com/scikit-learn/scikit-learn/issues/21755 */display: inline-block !important;position: relative;}#sk-container-id-1 div.sk-text-repr-fallback {display: none;}</style><div id=\"sk-container-id-1\" class=\"sk-top-container\"><div class=\"sk-text-repr-fallback\"><pre>CountEncoder(cols=[&#x27;route&#x27;], combine_min_nan_groups=True)</pre><b>In a Jupyter environment, please rerun this cell to show the HTML representation or trust the notebook. <br />On GitHub, the HTML representation is unable to render, please try loading this page with nbviewer.org.</b></div><div class=\"sk-container\" hidden><div class=\"sk-item\"><div class=\"sk-estimator sk-toggleable\"><input class=\"sk-toggleable__control sk-hidden--visually\" id=\"sk-estimator-id-1\" type=\"checkbox\" checked><label for=\"sk-estimator-id-1\" class=\"sk-toggleable__label sk-toggleable__label-arrow\">CountEncoder</label><div class=\"sk-toggleable__content\"><pre>CountEncoder(cols=[&#x27;route&#x27;], combine_min_nan_groups=True)</pre></div></div></div></div></div>"
      ],
      "text/plain": [
       "CountEncoder(cols=['route'], combine_min_nan_groups=True)"
      ]
     },
     "execution_count": 36,
     "metadata": {},
     "output_type": "execute_result"
    }
   ],
   "source": [
    "encoder.fit(X,y)"
   ]
  },
  {
   "cell_type": "code",
   "execution_count": 37,
   "id": "c1e90eb0",
   "metadata": {},
   "outputs": [],
   "source": [
    "X=encoder.transform(X,y)"
   ]
  },
  {
   "cell_type": "code",
   "execution_count": 38,
   "id": "1a600307",
   "metadata": {},
   "outputs": [],
   "source": [
    "X=pd.get_dummies(X,columns=['airline','source','destination','additional_info'],drop_first=True)"
   ]
  },
  {
   "cell_type": "code",
   "execution_count": 39,
   "id": "2f27f2e4",
   "metadata": {},
   "outputs": [
    {
     "data": {
      "text/html": [
       "<style>#sk-container-id-2 {color: black;background-color: white;}#sk-container-id-2 pre{padding: 0;}#sk-container-id-2 div.sk-toggleable {background-color: white;}#sk-container-id-2 label.sk-toggleable__label {cursor: pointer;display: block;width: 100%;margin-bottom: 0;padding: 0.3em;box-sizing: border-box;text-align: center;}#sk-container-id-2 label.sk-toggleable__label-arrow:before {content: \"▸\";float: left;margin-right: 0.25em;color: #696969;}#sk-container-id-2 label.sk-toggleable__label-arrow:hover:before {color: black;}#sk-container-id-2 div.sk-estimator:hover label.sk-toggleable__label-arrow:before {color: black;}#sk-container-id-2 div.sk-toggleable__content {max-height: 0;max-width: 0;overflow: hidden;text-align: left;background-color: #f0f8ff;}#sk-container-id-2 div.sk-toggleable__content pre {margin: 0.2em;color: black;border-radius: 0.25em;background-color: #f0f8ff;}#sk-container-id-2 input.sk-toggleable__control:checked~div.sk-toggleable__content {max-height: 200px;max-width: 100%;overflow: auto;}#sk-container-id-2 input.sk-toggleable__control:checked~label.sk-toggleable__label-arrow:before {content: \"▾\";}#sk-container-id-2 div.sk-estimator input.sk-toggleable__control:checked~label.sk-toggleable__label {background-color: #d4ebff;}#sk-container-id-2 div.sk-label input.sk-toggleable__control:checked~label.sk-toggleable__label {background-color: #d4ebff;}#sk-container-id-2 input.sk-hidden--visually {border: 0;clip: rect(1px 1px 1px 1px);clip: rect(1px, 1px, 1px, 1px);height: 1px;margin: -1px;overflow: hidden;padding: 0;position: absolute;width: 1px;}#sk-container-id-2 div.sk-estimator {font-family: monospace;background-color: #f0f8ff;border: 1px dotted black;border-radius: 0.25em;box-sizing: border-box;margin-bottom: 0.5em;}#sk-container-id-2 div.sk-estimator:hover {background-color: #d4ebff;}#sk-container-id-2 div.sk-parallel-item::after {content: \"\";width: 100%;border-bottom: 1px solid gray;flex-grow: 1;}#sk-container-id-2 div.sk-label:hover label.sk-toggleable__label {background-color: #d4ebff;}#sk-container-id-2 div.sk-serial::before {content: \"\";position: absolute;border-left: 1px solid gray;box-sizing: border-box;top: 0;bottom: 0;left: 50%;z-index: 0;}#sk-container-id-2 div.sk-serial {display: flex;flex-direction: column;align-items: center;background-color: white;padding-right: 0.2em;padding-left: 0.2em;position: relative;}#sk-container-id-2 div.sk-item {position: relative;z-index: 1;}#sk-container-id-2 div.sk-parallel {display: flex;align-items: stretch;justify-content: center;background-color: white;position: relative;}#sk-container-id-2 div.sk-item::before, #sk-container-id-2 div.sk-parallel-item::before {content: \"\";position: absolute;border-left: 1px solid gray;box-sizing: border-box;top: 0;bottom: 0;left: 50%;z-index: -1;}#sk-container-id-2 div.sk-parallel-item {display: flex;flex-direction: column;z-index: 1;position: relative;background-color: white;}#sk-container-id-2 div.sk-parallel-item:first-child::after {align-self: flex-end;width: 50%;}#sk-container-id-2 div.sk-parallel-item:last-child::after {align-self: flex-start;width: 50%;}#sk-container-id-2 div.sk-parallel-item:only-child::after {width: 0;}#sk-container-id-2 div.sk-dashed-wrapped {border: 1px dashed gray;margin: 0 0.4em 0.5em 0.4em;box-sizing: border-box;padding-bottom: 0.4em;background-color: white;}#sk-container-id-2 div.sk-label label {font-family: monospace;font-weight: bold;display: inline-block;line-height: 1.2em;}#sk-container-id-2 div.sk-label-container {text-align: center;}#sk-container-id-2 div.sk-container {/* jupyter's `normalize.less` sets `[hidden] { display: none; }` but bootstrap.min.css set `[hidden] { display: none !important; }` so we also need the `!important` here to be able to override the default hidden behavior on the sphinx rendered scikit-learn.org. See: https://github.com/scikit-learn/scikit-learn/issues/21755 */display: inline-block !important;position: relative;}#sk-container-id-2 div.sk-text-repr-fallback {display: none;}</style><div id=\"sk-container-id-2\" class=\"sk-top-container\"><div class=\"sk-text-repr-fallback\"><pre>StandardScaler()</pre><b>In a Jupyter environment, please rerun this cell to show the HTML representation or trust the notebook. <br />On GitHub, the HTML representation is unable to render, please try loading this page with nbviewer.org.</b></div><div class=\"sk-container\" hidden><div class=\"sk-item\"><div class=\"sk-estimator sk-toggleable\"><input class=\"sk-toggleable__control sk-hidden--visually\" id=\"sk-estimator-id-2\" type=\"checkbox\" checked><label for=\"sk-estimator-id-2\" class=\"sk-toggleable__label sk-toggleable__label-arrow\">StandardScaler</label><div class=\"sk-toggleable__content\"><pre>StandardScaler()</pre></div></div></div></div></div>"
      ],
      "text/plain": [
       "StandardScaler()"
      ]
     },
     "execution_count": 39,
     "metadata": {},
     "output_type": "execute_result"
    }
   ],
   "source": [
    "sc=StandardScaler()\n",
    "sc.fit(X)"
   ]
  },
  {
   "cell_type": "code",
   "execution_count": 40,
   "id": "cf5a1509",
   "metadata": {},
   "outputs": [
    {
     "data": {
      "text/html": [
       "<div>\n",
       "<style scoped>\n",
       "    .dataframe tbody tr th:only-of-type {\n",
       "        vertical-align: middle;\n",
       "    }\n",
       "\n",
       "    .dataframe tbody tr th {\n",
       "        vertical-align: top;\n",
       "    }\n",
       "\n",
       "    .dataframe thead th {\n",
       "        text-align: right;\n",
       "    }\n",
       "</style>\n",
       "<table border=\"1\" class=\"dataframe\">\n",
       "  <thead>\n",
       "    <tr style=\"text-align: right;\">\n",
       "      <th></th>\n",
       "      <th>route</th>\n",
       "      <th>dep_time</th>\n",
       "      <th>duration</th>\n",
       "      <th>total_stops</th>\n",
       "      <th>day_of_journy</th>\n",
       "      <th>month_of_journy</th>\n",
       "      <th>year_of_journy</th>\n",
       "      <th>airline_Air India</th>\n",
       "      <th>airline_GoAir</th>\n",
       "      <th>airline_IndiGo</th>\n",
       "      <th>...</th>\n",
       "      <th>destination_Kolkata</th>\n",
       "      <th>destination_New Delhi</th>\n",
       "      <th>additional_info_1 Short layover</th>\n",
       "      <th>additional_info_2 Long layover</th>\n",
       "      <th>additional_info_Business class</th>\n",
       "      <th>additional_info_Change airports</th>\n",
       "      <th>additional_info_In-flight meal not included</th>\n",
       "      <th>additional_info_No check-in baggage included</th>\n",
       "      <th>additional_info_No info</th>\n",
       "      <th>additional_info_Red-eye flight</th>\n",
       "    </tr>\n",
       "  </thead>\n",
       "  <tbody>\n",
       "    <tr>\n",
       "      <th>0</th>\n",
       "      <td>1925</td>\n",
       "      <td>1340</td>\n",
       "      <td>170</td>\n",
       "      <td>0</td>\n",
       "      <td>24</td>\n",
       "      <td>3</td>\n",
       "      <td>2019</td>\n",
       "      <td>0</td>\n",
       "      <td>0</td>\n",
       "      <td>1</td>\n",
       "      <td>...</td>\n",
       "      <td>0</td>\n",
       "      <td>1</td>\n",
       "      <td>0</td>\n",
       "      <td>0</td>\n",
       "      <td>0</td>\n",
       "      <td>0</td>\n",
       "      <td>0</td>\n",
       "      <td>0</td>\n",
       "      <td>1</td>\n",
       "      <td>0</td>\n",
       "    </tr>\n",
       "    <tr>\n",
       "      <th>1</th>\n",
       "      <td>7</td>\n",
       "      <td>350</td>\n",
       "      <td>445</td>\n",
       "      <td>2</td>\n",
       "      <td>5</td>\n",
       "      <td>1</td>\n",
       "      <td>2019</td>\n",
       "      <td>1</td>\n",
       "      <td>0</td>\n",
       "      <td>0</td>\n",
       "      <td>...</td>\n",
       "      <td>0</td>\n",
       "      <td>0</td>\n",
       "      <td>0</td>\n",
       "      <td>0</td>\n",
       "      <td>0</td>\n",
       "      <td>0</td>\n",
       "      <td>0</td>\n",
       "      <td>0</td>\n",
       "      <td>1</td>\n",
       "      <td>0</td>\n",
       "    </tr>\n",
       "    <tr>\n",
       "      <th>2</th>\n",
       "      <td>46</td>\n",
       "      <td>565</td>\n",
       "      <td>1140</td>\n",
       "      <td>2</td>\n",
       "      <td>6</td>\n",
       "      <td>9</td>\n",
       "      <td>2019</td>\n",
       "      <td>0</td>\n",
       "      <td>0</td>\n",
       "      <td>0</td>\n",
       "      <td>...</td>\n",
       "      <td>0</td>\n",
       "      <td>0</td>\n",
       "      <td>0</td>\n",
       "      <td>0</td>\n",
       "      <td>0</td>\n",
       "      <td>0</td>\n",
       "      <td>0</td>\n",
       "      <td>0</td>\n",
       "      <td>1</td>\n",
       "      <td>0</td>\n",
       "    </tr>\n",
       "    <tr>\n",
       "      <th>3</th>\n",
       "      <td>11</td>\n",
       "      <td>1085</td>\n",
       "      <td>325</td>\n",
       "      <td>1</td>\n",
       "      <td>5</td>\n",
       "      <td>12</td>\n",
       "      <td>2019</td>\n",
       "      <td>0</td>\n",
       "      <td>0</td>\n",
       "      <td>1</td>\n",
       "      <td>...</td>\n",
       "      <td>0</td>\n",
       "      <td>0</td>\n",
       "      <td>0</td>\n",
       "      <td>0</td>\n",
       "      <td>0</td>\n",
       "      <td>0</td>\n",
       "      <td>0</td>\n",
       "      <td>0</td>\n",
       "      <td>1</td>\n",
       "      <td>0</td>\n",
       "    </tr>\n",
       "    <tr>\n",
       "      <th>4</th>\n",
       "      <td>4</td>\n",
       "      <td>1010</td>\n",
       "      <td>285</td>\n",
       "      <td>1</td>\n",
       "      <td>3</td>\n",
       "      <td>1</td>\n",
       "      <td>2019</td>\n",
       "      <td>0</td>\n",
       "      <td>0</td>\n",
       "      <td>1</td>\n",
       "      <td>...</td>\n",
       "      <td>0</td>\n",
       "      <td>1</td>\n",
       "      <td>0</td>\n",
       "      <td>0</td>\n",
       "      <td>0</td>\n",
       "      <td>0</td>\n",
       "      <td>0</td>\n",
       "      <td>0</td>\n",
       "      <td>1</td>\n",
       "      <td>0</td>\n",
       "    </tr>\n",
       "    <tr>\n",
       "      <th>...</th>\n",
       "      <td>...</td>\n",
       "      <td>...</td>\n",
       "      <td>...</td>\n",
       "      <td>...</td>\n",
       "      <td>...</td>\n",
       "      <td>...</td>\n",
       "      <td>...</td>\n",
       "      <td>...</td>\n",
       "      <td>...</td>\n",
       "      <td>...</td>\n",
       "      <td>...</td>\n",
       "      <td>...</td>\n",
       "      <td>...</td>\n",
       "      <td>...</td>\n",
       "      <td>...</td>\n",
       "      <td>...</td>\n",
       "      <td>...</td>\n",
       "      <td>...</td>\n",
       "      <td>...</td>\n",
       "      <td>...</td>\n",
       "      <td>...</td>\n",
       "    </tr>\n",
       "    <tr>\n",
       "      <th>13128</th>\n",
       "      <td>689</td>\n",
       "      <td>1230</td>\n",
       "      <td>1435</td>\n",
       "      <td>1</td>\n",
       "      <td>6</td>\n",
       "      <td>6</td>\n",
       "      <td>2019</td>\n",
       "      <td>1</td>\n",
       "      <td>0</td>\n",
       "      <td>0</td>\n",
       "      <td>...</td>\n",
       "      <td>0</td>\n",
       "      <td>0</td>\n",
       "      <td>0</td>\n",
       "      <td>0</td>\n",
       "      <td>0</td>\n",
       "      <td>0</td>\n",
       "      <td>0</td>\n",
       "      <td>0</td>\n",
       "      <td>1</td>\n",
       "      <td>0</td>\n",
       "    </tr>\n",
       "    <tr>\n",
       "      <th>13129</th>\n",
       "      <td>896</td>\n",
       "      <td>860</td>\n",
       "      <td>155</td>\n",
       "      <td>0</td>\n",
       "      <td>27</td>\n",
       "      <td>3</td>\n",
       "      <td>2019</td>\n",
       "      <td>0</td>\n",
       "      <td>0</td>\n",
       "      <td>1</td>\n",
       "      <td>...</td>\n",
       "      <td>0</td>\n",
       "      <td>0</td>\n",
       "      <td>0</td>\n",
       "      <td>0</td>\n",
       "      <td>0</td>\n",
       "      <td>0</td>\n",
       "      <td>0</td>\n",
       "      <td>0</td>\n",
       "      <td>1</td>\n",
       "      <td>0</td>\n",
       "    </tr>\n",
       "    <tr>\n",
       "      <th>13130</th>\n",
       "      <td>3000</td>\n",
       "      <td>1310</td>\n",
       "      <td>395</td>\n",
       "      <td>1</td>\n",
       "      <td>3</td>\n",
       "      <td>6</td>\n",
       "      <td>2019</td>\n",
       "      <td>0</td>\n",
       "      <td>0</td>\n",
       "      <td>0</td>\n",
       "      <td>...</td>\n",
       "      <td>0</td>\n",
       "      <td>0</td>\n",
       "      <td>0</td>\n",
       "      <td>0</td>\n",
       "      <td>0</td>\n",
       "      <td>0</td>\n",
       "      <td>0</td>\n",
       "      <td>0</td>\n",
       "      <td>1</td>\n",
       "      <td>0</td>\n",
       "    </tr>\n",
       "    <tr>\n",
       "      <th>13131</th>\n",
       "      <td>3000</td>\n",
       "      <td>240</td>\n",
       "      <td>915</td>\n",
       "      <td>1</td>\n",
       "      <td>3</td>\n",
       "      <td>6</td>\n",
       "      <td>2019</td>\n",
       "      <td>1</td>\n",
       "      <td>0</td>\n",
       "      <td>0</td>\n",
       "      <td>...</td>\n",
       "      <td>0</td>\n",
       "      <td>0</td>\n",
       "      <td>0</td>\n",
       "      <td>0</td>\n",
       "      <td>0</td>\n",
       "      <td>0</td>\n",
       "      <td>0</td>\n",
       "      <td>0</td>\n",
       "      <td>1</td>\n",
       "      <td>0</td>\n",
       "    </tr>\n",
       "    <tr>\n",
       "      <th>13132</th>\n",
       "      <td>3000</td>\n",
       "      <td>295</td>\n",
       "      <td>860</td>\n",
       "      <td>1</td>\n",
       "      <td>15</td>\n",
       "      <td>6</td>\n",
       "      <td>2019</td>\n",
       "      <td>0</td>\n",
       "      <td>0</td>\n",
       "      <td>0</td>\n",
       "      <td>...</td>\n",
       "      <td>0</td>\n",
       "      <td>0</td>\n",
       "      <td>0</td>\n",
       "      <td>0</td>\n",
       "      <td>0</td>\n",
       "      <td>0</td>\n",
       "      <td>0</td>\n",
       "      <td>0</td>\n",
       "      <td>1</td>\n",
       "      <td>0</td>\n",
       "    </tr>\n",
       "  </tbody>\n",
       "</table>\n",
       "<p>13133 rows × 35 columns</p>\n",
       "</div>"
      ],
      "text/plain": [
       "       route  dep_time  duration  total_stops day_of_journy month_of_journy  \\\n",
       "0       1925      1340       170            0            24               3   \n",
       "1          7       350       445            2             5               1   \n",
       "2         46       565      1140            2             6               9   \n",
       "3         11      1085       325            1             5              12   \n",
       "4          4      1010       285            1             3               1   \n",
       "...      ...       ...       ...          ...           ...             ...   \n",
       "13128    689      1230      1435            1             6               6   \n",
       "13129    896       860       155            0            27               3   \n",
       "13130   3000      1310       395            1             3               6   \n",
       "13131   3000       240       915            1             3               6   \n",
       "13132   3000       295       860            1            15               6   \n",
       "\n",
       "      year_of_journy  airline_Air India  airline_GoAir  airline_IndiGo  ...  \\\n",
       "0               2019                  0              0               1  ...   \n",
       "1               2019                  1              0               0  ...   \n",
       "2               2019                  0              0               0  ...   \n",
       "3               2019                  0              0               1  ...   \n",
       "4               2019                  0              0               1  ...   \n",
       "...              ...                ...            ...             ...  ...   \n",
       "13128           2019                  1              0               0  ...   \n",
       "13129           2019                  0              0               1  ...   \n",
       "13130           2019                  0              0               0  ...   \n",
       "13131           2019                  1              0               0  ...   \n",
       "13132           2019                  0              0               0  ...   \n",
       "\n",
       "       destination_Kolkata  destination_New Delhi  \\\n",
       "0                        0                      1   \n",
       "1                        0                      0   \n",
       "2                        0                      0   \n",
       "3                        0                      0   \n",
       "4                        0                      1   \n",
       "...                    ...                    ...   \n",
       "13128                    0                      0   \n",
       "13129                    0                      0   \n",
       "13130                    0                      0   \n",
       "13131                    0                      0   \n",
       "13132                    0                      0   \n",
       "\n",
       "       additional_info_1 Short layover  additional_info_2 Long layover  \\\n",
       "0                                    0                               0   \n",
       "1                                    0                               0   \n",
       "2                                    0                               0   \n",
       "3                                    0                               0   \n",
       "4                                    0                               0   \n",
       "...                                ...                             ...   \n",
       "13128                                0                               0   \n",
       "13129                                0                               0   \n",
       "13130                                0                               0   \n",
       "13131                                0                               0   \n",
       "13132                                0                               0   \n",
       "\n",
       "       additional_info_Business class  additional_info_Change airports  \\\n",
       "0                                   0                                0   \n",
       "1                                   0                                0   \n",
       "2                                   0                                0   \n",
       "3                                   0                                0   \n",
       "4                                   0                                0   \n",
       "...                               ...                              ...   \n",
       "13128                               0                                0   \n",
       "13129                               0                                0   \n",
       "13130                               0                                0   \n",
       "13131                               0                                0   \n",
       "13132                               0                                0   \n",
       "\n",
       "       additional_info_In-flight meal not included  \\\n",
       "0                                                0   \n",
       "1                                                0   \n",
       "2                                                0   \n",
       "3                                                0   \n",
       "4                                                0   \n",
       "...                                            ...   \n",
       "13128                                            0   \n",
       "13129                                            0   \n",
       "13130                                            0   \n",
       "13131                                            0   \n",
       "13132                                            0   \n",
       "\n",
       "       additional_info_No check-in baggage included  additional_info_No info  \\\n",
       "0                                                 0                        1   \n",
       "1                                                 0                        1   \n",
       "2                                                 0                        1   \n",
       "3                                                 0                        1   \n",
       "4                                                 0                        1   \n",
       "...                                             ...                      ...   \n",
       "13128                                             0                        1   \n",
       "13129                                             0                        1   \n",
       "13130                                             0                        1   \n",
       "13131                                             0                        1   \n",
       "13132                                             0                        1   \n",
       "\n",
       "       additional_info_Red-eye flight  \n",
       "0                                   0  \n",
       "1                                   0  \n",
       "2                                   0  \n",
       "3                                   0  \n",
       "4                                   0  \n",
       "...                               ...  \n",
       "13128                               0  \n",
       "13129                               0  \n",
       "13130                               0  \n",
       "13131                               0  \n",
       "13132                               0  \n",
       "\n",
       "[13133 rows x 35 columns]"
      ]
     },
     "execution_count": 40,
     "metadata": {},
     "output_type": "execute_result"
    }
   ],
   "source": [
    "X"
   ]
  },
  {
   "cell_type": "code",
   "execution_count": 41,
   "id": "bbda0cb5",
   "metadata": {},
   "outputs": [
    {
     "name": "stdout",
     "output_type": "stream",
     "text": [
      "<class 'pandas.core.frame.DataFrame'>\n",
      "RangeIndex: 13133 entries, 0 to 13132\n",
      "Data columns (total 35 columns):\n",
      " #   Column                                        Non-Null Count  Dtype \n",
      "---  ------                                        --------------  ----- \n",
      " 0   route                                         13133 non-null  int64 \n",
      " 1   dep_time                                      13133 non-null  int64 \n",
      " 2   duration                                      13133 non-null  int64 \n",
      " 3   total_stops                                   13133 non-null  int32 \n",
      " 4   day_of_journy                                 13133 non-null  object\n",
      " 5   month_of_journy                               13133 non-null  object\n",
      " 6   year_of_journy                                13133 non-null  object\n",
      " 7   airline_Air India                             13133 non-null  uint8 \n",
      " 8   airline_GoAir                                 13133 non-null  uint8 \n",
      " 9   airline_IndiGo                                13133 non-null  uint8 \n",
      " 10  airline_Jet Airways                           13133 non-null  uint8 \n",
      " 11  airline_Jet Airways Business                  13133 non-null  uint8 \n",
      " 12  airline_Multiple carriers                     13133 non-null  uint8 \n",
      " 13  airline_Multiple carriers Premium economy     13133 non-null  uint8 \n",
      " 14  airline_SpiceJet                              13133 non-null  uint8 \n",
      " 15  airline_Trujet                                13133 non-null  uint8 \n",
      " 16  airline_Vistara                               13133 non-null  uint8 \n",
      " 17  airline_Vistara Premium economy               13133 non-null  uint8 \n",
      " 18  source_Chennai                                13133 non-null  uint8 \n",
      " 19  source_Delhi                                  13133 non-null  uint8 \n",
      " 20  source_Kolkata                                13133 non-null  uint8 \n",
      " 21  source_Mumbai                                 13133 non-null  uint8 \n",
      " 22  destination_Cochin                            13133 non-null  uint8 \n",
      " 23  destination_Delhi                             13133 non-null  uint8 \n",
      " 24  destination_Hyderabad                         13133 non-null  uint8 \n",
      " 25  destination_Kolkata                           13133 non-null  uint8 \n",
      " 26  destination_New Delhi                         13133 non-null  uint8 \n",
      " 27  additional_info_1 Short layover               13133 non-null  uint8 \n",
      " 28  additional_info_2 Long layover                13133 non-null  uint8 \n",
      " 29  additional_info_Business class                13133 non-null  uint8 \n",
      " 30  additional_info_Change airports               13133 non-null  uint8 \n",
      " 31  additional_info_In-flight meal not included   13133 non-null  uint8 \n",
      " 32  additional_info_No check-in baggage included  13133 non-null  uint8 \n",
      " 33  additional_info_No info                       13133 non-null  uint8 \n",
      " 34  additional_info_Red-eye flight                13133 non-null  uint8 \n",
      "dtypes: int32(1), int64(3), object(3), uint8(28)\n",
      "memory usage: 1.0+ MB\n"
     ]
    }
   ],
   "source": [
    "X.info()"
   ]
  },
  {
   "cell_type": "code",
   "execution_count": 42,
   "id": "6632e1a5",
   "metadata": {},
   "outputs": [
    {
     "data": {
      "text/plain": [
       "<AxesSubplot:xlabel='route', ylabel='Density'>"
      ]
     },
     "execution_count": 42,
     "metadata": {},
     "output_type": "execute_result"
    },
    {
     "data": {
      "image/png": "[encoded data removed]",
      "text/plain": [
       "<Figure size 432x288 with 1 Axes>"
      ]
     },
     "metadata": {},
     "output_type": "display_data"
    }
   ],
   "source": [
    "sns.kdeplot(X['route'])"
   ]
  },
  {
   "cell_type": "code",
   "execution_count": 43,
   "id": "3e29a049",
   "metadata": {},
   "outputs": [
    {
     "data": {
      "text/plain": [
       "<AxesSubplot:>"
      ]
     },
     "execution_count": 43,
     "metadata": {},
     "output_type": "execute_result"
    },
    {
     "data": {
      "image/png": "[encoded data removed]",
      "text/plain": [
       "<Figure size 864x576 with 2 Axes>"
      ]
     },
     "metadata": {},
     "output_type": "display_data"
    }
   ],
   "source": [
    "plt.figure(figsize=(12,8))\n",
    "sns.heatmap(X.iloc[:,0:7].corr(),annot=True,cmap='BuGn')"
   ]
  },
  {
   "cell_type": "code",
   "execution_count": 44,
   "id": "e2b12d01",
   "metadata": {},
   "outputs": [],
   "source": [
    "X=pd.DataFrame(sc.transform(X),columns=X.columns)"
   ]
  },
  {
   "cell_type": "code",
   "execution_count": 45,
   "id": "49bf50db",
   "metadata": {},
   "outputs": [],
   "source": [
    "train=X.iloc[0:10462,:]\n",
    "test=X.iloc[10462:,:]"
   ]
  },
  {
   "cell_type": "code",
   "execution_count": 46,
   "id": "63f2580d",
   "metadata": {},
   "outputs": [],
   "source": [
    "train['price']=y.iloc[0:10462]"
   ]
  },
  {
   "cell_type": "markdown",
   "id": "0af38980",
   "metadata": {},
   "source": [
    "# Model Building"
   ]
  },
  {
   "cell_type": "code",
   "execution_count": 47,
   "id": "3babc39b",
   "metadata": {},
   "outputs": [],
   "source": [
    "from sklearn.model_selection import train_test_split,GridSearchCV,KFold\n",
    "from sklearn.feature_selection import SelectKBest\n",
    "from sklearn.ensemble import AdaBoostRegressor,BaggingRegressor,GradientBoostingRegressor,VotingRegressor,RandomForestRegressor"
   ]
  },
  {
   "cell_type": "code",
   "execution_count": 48,
   "id": "b1e71577",
   "metadata": {},
   "outputs": [],
   "source": [
    "X=train.drop('price',axis=1)\n",
    "y=train['price']"
   ]
  },
  {
   "cell_type": "code",
   "execution_count": 49,
   "id": "8c0d45c3",
   "metadata": {},
   "outputs": [],
   "source": [
    "X_train,X_test,y_train,y_test=train_test_split(X,y,test_size=0.3,random_state=45)"
   ]
  },
  {
   "cell_type": "code",
   "execution_count": 50,
   "id": "bbd4c7d3",
   "metadata": {},
   "outputs": [],
   "source": [
    "model=RandomForestRegressor()"
   ]
  },
  {
   "cell_type": "code",
   "execution_count": 51,
   "id": "de2fc998",
   "metadata": {},
   "outputs": [
    {
     "data": {
      "text/html": [
       "<style>#sk-container-id-3 {color: black;background-color: white;}#sk-container-id-3 pre{padding: 0;}#sk-container-id-3 div.sk-toggleable {background-color: white;}#sk-container-id-3 label.sk-toggleable__label {cursor: pointer;display: block;width: 100%;margin-bottom: 0;padding: 0.3em;box-sizing: border-box;text-align: center;}#sk-container-id-3 label.sk-toggleable__label-arrow:before {content: \"▸\";float: left;margin-right: 0.25em;color: #696969;}#sk-container-id-3 label.sk-toggleable__label-arrow:hover:before {color: black;}#sk-container-id-3 div.sk-estimator:hover label.sk-toggleable__label-arrow:before {color: black;}#sk-container-id-3 div.sk-toggleable__content {max-height: 0;max-width: 0;overflow: hidden;text-align: left;background-color: #f0f8ff;}#sk-container-id-3 div.sk-toggleable__content pre {margin: 0.2em;color: black;border-radius: 0.25em;background-color: #f0f8ff;}#sk-container-id-3 input.sk-toggleable__control:checked~div.sk-toggleable__content {max-height: 200px;max-width: 100%;overflow: auto;}#sk-container-id-3 input.sk-toggleable__control:checked~label.sk-toggleable__label-arrow:before {content: \"▾\";}#sk-container-id-3 div.sk-estimator input.sk-toggleable__control:checked~label.sk-toggleable__label {background-color: #d4ebff;}#sk-container-id-3 div.sk-label input.sk-toggleable__control:checked~label.sk-toggleable__label {background-color: #d4ebff;}#sk-container-id-3 input.sk-hidden--visually {border: 0;clip: rect(1px 1px 1px 1px);clip: rect(1px, 1px, 1px, 1px);height: 1px;margin: -1px;overflow: hidden;padding: 0;position: absolute;width: 1px;}#sk-container-id-3 div.sk-estimator {font-family: monospace;background-color: #f0f8ff;border: 1px dotted black;border-radius: 0.25em;box-sizing: border-box;margin-bottom: 0.5em;}#sk-container-id-3 div.sk-estimator:hover {background-color: #d4ebff;}#sk-container-id-3 div.sk-parallel-item::after {content: \"\";width: 100%;border-bottom: 1px solid gray;flex-grow: 1;}#sk-container-id-3 div.sk-label:hover label.sk-toggleable__label {background-color: #d4ebff;}#sk-container-id-3 div.sk-serial::before {content: \"\";position: absolute;border-left: 1px solid gray;box-sizing: border-box;top: 0;bottom: 0;left: 50%;z-index: 0;}#sk-container-id-3 div.sk-serial {display: flex;flex-direction: column;align-items: center;background-color: white;padding-right: 0.2em;padding-left: 0.2em;position: relative;}#sk-container-id-3 div.sk-item {position: relative;z-index: 1;}#sk-container-id-3 div.sk-parallel {display: flex;align-items: stretch;justify-content: center;background-color: white;position: relative;}#sk-container-id-3 div.sk-item::before, #sk-container-id-3 div.sk-parallel-item::before {content: \"\";position: absolute;border-left: 1px solid gray;box-sizing: border-box;top: 0;bottom: 0;left: 50%;z-index: -1;}#sk-container-id-3 div.sk-parallel-item {display: flex;flex-direction: column;z-index: 1;position: relative;background-color: white;}#sk-container-id-3 div.sk-parallel-item:first-child::after {align-self: flex-end;width: 50%;}#sk-container-id-3 div.sk-parallel-item:last-child::after {align-self: flex-start;width: 50%;}#sk-container-id-3 div.sk-parallel-item:only-child::after {width: 0;}#sk-container-id-3 div.sk-dashed-wrapped {border: 1px dashed gray;margin: 0 0.4em 0.5em 0.4em;box-sizing: border-box;padding-bottom: 0.4em;background-color: white;}#sk-container-id-3 div.sk-label label {font-family: monospace;font-weight: bold;display: inline-block;line-height: 1.2em;}#sk-container-id-3 div.sk-label-container {text-align: center;}#sk-container-id-3 div.sk-container {/* jupyter's `normalize.less` sets `[hidden] { display: none; }` but bootstrap.min.css set `[hidden] { display: none !important; }` so we also need the `!important` here to be able to override the default hidden behavior on the sphinx rendered scikit-learn.org. See: https://github.com/scikit-learn/scikit-learn/issues/21755 */display: inline-block !important;position: relative;}#sk-container-id-3 div.sk-text-repr-fallback {display: none;}</style><div id=\"sk-container-id-3\" class=\"sk-top-container\"><div class=\"sk-text-repr-fallback\"><pre>RandomForestRegressor()</pre><b>In a Jupyter environment, please rerun this cell to show the HTML representation or trust the notebook. <br />On GitHub, the HTML representation is unable to render, please try loading this page with nbviewer.org.</b></div><div class=\"sk-container\" hidden><div class=\"sk-item\"><div class=\"sk-estimator sk-toggleable\"><input class=\"sk-toggleable__control sk-hidden--visually\" id=\"sk-estimator-id-3\" type=\"checkbox\" checked><label for=\"sk-estimator-id-3\" class=\"sk-toggleable__label sk-toggleable__label-arrow\">RandomForestRegressor</label><div class=\"sk-toggleable__content\"><pre>RandomForestRegressor()</pre></div></div></div></div></div>"
      ],
      "text/plain": [
       "RandomForestRegressor()"
      ]
     },
     "execution_count": 51,
     "metadata": {},
     "output_type": "execute_result"
    }
   ],
   "source": [
    "model.fit(X_train,y_train)"
   ]
  },
  {
   "cell_type": "code",
   "execution_count": 52,
   "id": "19c52ce1",
   "metadata": {},
   "outputs": [
    {
     "data": {
      "text/plain": [
       "0.9820191158160009"
      ]
     },
     "execution_count": 52,
     "metadata": {},
     "output_type": "execute_result"
    }
   ],
   "source": [
    "model.score(X_train,y_train)"
   ]
  },
  {
   "cell_type": "code",
   "execution_count": 53,
   "id": "96887c95",
   "metadata": {},
   "outputs": [],
   "source": [
    "y_pred=model.predict(X_test)"
   ]
  },
  {
   "cell_type": "code",
   "execution_count": 54,
   "id": "6bc6521d",
   "metadata": {},
   "outputs": [],
   "source": [
    "from sklearn.metrics import r2_score,mean_absolute_error"
   ]
  },
  {
   "cell_type": "code",
   "execution_count": 55,
   "id": "cd0dfeec",
   "metadata": {},
   "outputs": [
    {
     "data": {
      "text/plain": [
       "0.8816593930367467"
      ]
     },
     "execution_count": 55,
     "metadata": {},
     "output_type": "execute_result"
    }
   ],
   "source": [
    "r2_score(y_test,y_pred)"
   ]
  },
  {
   "cell_type": "code",
   "execution_count": 56,
   "id": "8454b47f",
   "metadata": {},
   "outputs": [],
   "source": [
    "df=pd.DataFrame({'test':y_test,'pred':y_pred})"
   ]
  },
  {
   "cell_type": "code",
   "execution_count": 57,
   "id": "2ff9b0cc",
   "metadata": {},
   "outputs": [
    {
     "data": {
      "text/plain": [
       "<AxesSubplot:xlabel='price', ylabel='Density'>"
      ]
     },
     "execution_count": 57,
     "metadata": {},
     "output_type": "execute_result"
    },
    {
     "data": {
      "image/png": "[encoded data removed]",
      "text/plain": [
       "<Figure size 432x288 with 1 Axes>"
      ]
     },
     "metadata": {},
     "output_type": "display_data"
    }
   ],
   "source": [
    "sns.kdeplot((y_test-y_pred))"
   ]
  },
  {
   "cell_type": "markdown",
   "id": "b6ae280e",
   "metadata": {},
   "source": [
    "#    # cross validation and hyper parameter tuning"
   ]
  },
  {
   "cell_type": "code",
   "execution_count": 61,
   "id": "153031f9",
   "metadata": {},
   "outputs": [],
   "source": [
    "# Number of trees in random forest\n",
    "n_estimators = [200,400]\n",
    "# Number of features to consider at every split\n",
    "max_features = ['auto', 'sqrt']\n",
    "# Maximum number of levels in tree\n",
    "max_depth = [10,21,32,43]\n",
    "max_depth.append(None)\n",
    "# Minimum number of samples required to split a node\n",
    "min_samples_split = [2, 5, 10]\n",
    "# Minimum number of samples required at each leaf node\n",
    "min_samples_leaf = [1, 2, 4]\n",
    "# Method of selecting samples for training each tree\n",
    "bootstrap = [True, False]\n",
    "# Create the random grid\n",
    "random_grid = {'n_estimators': n_estimators,\n",
    "               'max_features': max_features,\n",
    "               'max_depth': max_depth,\n",
    "               'min_samples_split': min_samples_split,\n",
    "               'min_samples_leaf': min_samples_leaf,\n",
    "               'bootstrap': bootstrap}"
   ]
  },
  {
   "cell_type": "code",
   "execution_count": 62,
   "id": "01f99736",
   "metadata": {},
   "outputs": [],
   "source": [
    "gs=GridSearchCV(model,param_grid=random_grid,cv=10,n_jobs=10)"
   ]
  },
  {
   "cell_type": "code",
   "execution_count": null,
   "id": "0caa9c0d",
   "metadata": {},
   "outputs": [],
   "source": [
    "gs.fit(X_train,y_train)"
   ]
  },
  {
   "cell_type": "code",
   "execution_count": null,
   "id": "85441357",
   "metadata": {},
   "outputs": [],
   "source": []
  },
  {
   "cell_type": "code",
   "execution_count": null,
   "id": "4d7d2118",
   "metadata": {},
   "outputs": [],
   "source": []
  }
 ],
 "metadata": {
  "kernelspec": {
   "display_name": "Python 3 (ipykernel)",
   "language": "python",
   "name": "python3"
  },
  "language_info": {
   "codemirror_mode": {
    "name": "ipython",
    "version": 3
   },
   "file_extension": ".py",
   "mimetype": "text/x-python",
   "name": "python",
   "nbconvert_exporter": "python",
   "pygments_lexer": "ipython3",
   "version": "3.9.7"
  }
 },
 "nbformat": 4,
 "nbformat_minor": 5
}
